{
  "nbformat": 4,
  "nbformat_minor": 0,
  "metadata": {
    "colab": {
      "provenance": [],
      "machine_shape": "hm",
      "authorship_tag": "ABX9TyO2Of7YtxLN4vh+z3kg53l9",
      "include_colab_link": true
    },
    "kernelspec": {
      "name": "python3",
      "display_name": "Python 3"
    },
    "language_info": {
      "name": "python"
    },
    "accelerator": "GPU",
    "gpuClass": "premium"
  },
  "cells": [
    {
      "cell_type": "markdown",
      "metadata": {
        "id": "view-in-github",
        "colab_type": "text"
      },
      "source": [
        "<a href=\"https://colab.research.google.com/github/newfull5/AI-Project/blob/master/summarization.ipynb\" target=\"_parent\"><img src=\"https://colab.research.google.com/assets/colab-badge.svg\" alt=\"Open In Colab\"/></a>"
      ]
    },
    {
      "cell_type": "code",
      "execution_count": null,
      "metadata": {
        "id": "-kAvXVas5al5"
      },
      "outputs": [],
      "source": [
        "!pip install transformers datasets torch wandb tqdm"
      ]
    },
    {
      "cell_type": "markdown",
      "source": [
        "- model = t5-base\n",
        "- dataset = CNN_dailymail 3.0.0\n",
        "  - max_token_length = about 3,500\n",
        "  \n",
        "\n",
        "- config\n",
        "  - max_length_truncate = 1024\n",
        "  \n"
      ],
      "metadata": {
        "id": "Luj69IozBjGp"
      }
    },
    {
      "cell_type": "code",
      "source": [
        "from datasets import load_dataset\n",
        "from tqdm import tqdm"
      ],
      "metadata": {
        "id": "_HX4jwSsk2oq"
      },
      "execution_count": 2,
      "outputs": []
    },
    {
      "cell_type": "code",
      "source": [
        "# length 0 ~ 500 => 1900\n",
        "# length 500 ~ 1000 => 5400\n",
        "# length 1000 ~ 1500 => 2800\n",
        "# length 1500 ~ 2000 -> 1150\n",
        "# length 2000 ~  -> 500"
      ],
      "metadata": {
        "id": "efCn7jkIDTQa"
      },
      "execution_count": 8,
      "outputs": []
    },
    {
      "cell_type": "code",
      "source": [
        "# predict\n",
        "\n",
        "outputs[0].shape"
      ],
      "metadata": {
        "colab": {
          "base_uri": "https://localhost:8080/"
        },
        "id": "bCv1gWeUT_Id",
        "outputId": "210fba32-cba5-4d48-b03f-f4b466d276b9"
      },
      "execution_count": 40,
      "outputs": [
        {
          "output_type": "execute_result",
          "data": {
            "text/plain": [
              "torch.Size([1, 42, 32128])"
            ]
          },
          "metadata": {},
          "execution_count": 40
        }
      ]
    },
    {
      "cell_type": "code",
      "source": [
        "# logits\n",
        "\n",
        "len(outputs[1])"
      ],
      "metadata": {
        "colab": {
          "base_uri": "https://localhost:8080/"
        },
        "id": "vsQJefcpUA07",
        "outputId": "2d5ca339-ae4e-4fd9-aeb8-86bb60f0e08c"
      },
      "execution_count": 43,
      "outputs": [
        {
          "output_type": "execute_result",
          "data": {
            "text/plain": [
              "24"
            ]
          },
          "metadata": {},
          "execution_count": 43
        }
      ]
    },
    {
      "cell_type": "code",
      "source": [
        "outputs[2].shape"
      ],
      "metadata": {
        "colab": {
          "base_uri": "https://localhost:8080/"
        },
        "id": "9fGsJEpaPlqR",
        "outputId": "273fa41b-baab-4ab5-d38b-7fa4d0bdacd2"
      },
      "execution_count": 39,
      "outputs": [
        {
          "output_type": "execute_result",
          "data": {
            "text/plain": [
              "torch.Size([1, 787, 1024])"
            ]
          },
          "metadata": {},
          "execution_count": 39
        }
      ]
    },
    {
      "cell_type": "code",
      "source": [],
      "metadata": {
        "id": "ApzvvZybQW9B"
      },
      "execution_count": null,
      "outputs": []
    },
    {
      "cell_type": "code",
      "source": [],
      "metadata": {
        "id": "O_GoVGmdVtC5"
      },
      "execution_count": 51,
      "outputs": []
    },
    {
      "cell_type": "code",
      "source": [
        "import argparse\n",
        "\n",
        "def _get_parser():  \n",
        "    parser = argparse.ArgumentParser()\n",
        "    parser.add_argument()\n",
        "    return parser\n",
        "   \n",
        "\n",
        "args = argparse.Namespace(  \n",
        "  model_name=\"t5-large\", \n",
        "  tokenizer_name=\"t5-large\",\n",
        "  dataset_name=['cnn_dailymail', '3.0.0'],\n",
        "  batch_size = 4\n",
        ")"
      ],
      "metadata": {
        "id": "hJbD5OVIVt6p"
      },
      "execution_count": 3,
      "outputs": []
    },
    {
      "cell_type": "code",
      "source": [
        "from torch.utils.data import Dataset\n",
        "from transformers import AutoTokenizer\n",
        "from datasets import load_dataset\n",
        "\n",
        "class Dataset(Dataset):\n",
        "  def __init__(self, args, stage):\n",
        "    super().__init__()\n",
        "    self.stage = stage\n",
        "    self.args = args\n",
        "    self.input_ids, self.attention_mask, self.decoder_input_ids, self.labels = self._get_data(args, stage)\n",
        "\n",
        "  def _get_data(self, args, stage):\n",
        "    dataset = load_dataset(args.dataset_name[0], args.dataset_name[1])\n",
        "    tokenizer = AutoTokenizer.from_pretrained(args.tokenizer_name)\n",
        "    input_ids = []\n",
        "    attention_mask = []\n",
        "    decoder_input_ids = []\n",
        "    labels = []\n",
        "\n",
        "    if stage in ['train', 'validation', 'test']:\n",
        "      for train_set in dataset[stage]:\n",
        "        inputs = tokenizer(\n",
        "            text=train_set['article'],\n",
        "            max_length=1024,\n",
        "            padding='max_length',\n",
        "            truncation=True,\n",
        "            return_tensors='pt'\n",
        "        )\n",
        "\n",
        "        input_ids.append(inputs['input_ids'])\n",
        "        attention_mask.append(inputs['attention_mask'])\n",
        "        \n",
        "        outputs = tokenizer(\n",
        "            text=train_set['highlights'],\n",
        "            max_length=512,\n",
        "            padding='max_length',\n",
        "            truncation=True,\n",
        "            return_tensors='pt'\n",
        "        )\n",
        "\n",
        "        decoder_input_ids.append(outputs['input_ids'][:, :-1].contiguous())\n",
        "        label = outputs['input_ids'][:, 1:].clone().detach()\n",
        "        label[label == tokenizer.pad_token_id] = -100\n",
        "        labels.append(label)\n",
        "    else:\n",
        "      raise Exception(\"you can set stage only 'train', 'test' or 'valid'\")\n",
        "\n",
        "    return input_ids, attention_mask, decoder_input_ids, labels\n",
        "      \n",
        "  def __len__(self):\n",
        "    return len(self.labels)\n",
        "\n",
        "  def __getitem__(self, idx):\n",
        "    return self.input_ids[idx], self.attention_mask[idx], self.decoder_input_ids[idx], self.labels[idx]"
      ],
      "metadata": {
        "id": "qGNsVr0_VuXJ"
      },
      "execution_count": 4,
      "outputs": []
    },
    {
      "cell_type": "code",
      "source": [
        "from transformers import AutoModelForSeq2SeqLM\n",
        "import torch\n",
        "from torch import nn\n",
        "\n",
        "class Model(nn.Module):\n",
        "  def __init__(self, args):\n",
        "    super(Model, self).__init__()\n",
        "    self.model = AutoModelForSeq2SeqLM.from_pretrained(args.model_name)\n",
        "    self.device = torch.device('cuda' if torch.cuda.is_available() else 'cpu')\n",
        "    self.model.to(self.device)\n",
        "\n",
        "  def forward(self, batch):\n",
        "    input_ids, attention_mask, decoder_input_ids, labels = batch\n",
        "    outputs = self.model(\n",
        "        input_ids=self._move_to_cuda(input_ids).squeeze(),\n",
        "        attention_mask=self._move_to_cuda(attention_mask),\n",
        "        decoder_input_ids=self._move_to_cuda(decoder_input_ids).squeeze(),\n",
        "        labels=self._move_to_cuda(labels)    \n",
        "    )\n",
        "    return outputs\n",
        "\n",
        "  def _move_to_cuda(self, inputs):\n",
        "    if torch.is_tensor(inputs):\n",
        "      return inputs.to(self.device)\n",
        "    elif isinstance(inputs, list):\n",
        "      return [self._move_to_cuda(x) for x in inputs]\n",
        "    elif isinstance(inputs, dict):\n",
        "      return {key: self._move_to_cuda(value) for key, value in inputs.items()}\n",
        "    else:\n",
        "      return inputs\n",
        "\n",
        "  def save(self, save_dir):\n",
        "    self.model.save_pretrained(save_dir)\n",
        "\n",
        "  def load(self, save_dir):\n",
        "    self.model.load_state_dict(\n",
        "        torch.load(f\"{save_dir}/pytorch_model.bin\", map_location=torch.device(self.device))\n",
        "    )"
      ],
      "metadata": {
        "id": "J2RAaEXHYakr"
      },
      "execution_count": 5,
      "outputs": []
    },
    {
      "cell_type": "code",
      "source": [
        "args"
      ],
      "metadata": {
        "colab": {
          "base_uri": "https://localhost:8080/"
        },
        "id": "vSRe5ShHd8jo",
        "outputId": "32eb8c70-90fb-425b-beec-3d90af97004b"
      },
      "execution_count": 7,
      "outputs": [
        {
          "output_type": "execute_result",
          "data": {
            "text/plain": [
              "Namespace(batch_size=4, dataset_name=['cnn_dailymail', '3.0.0'], model_name='t5-large', tokenizer_name='t5-large')"
            ]
          },
          "metadata": {},
          "execution_count": 7
        }
      ]
    },
    {
      "cell_type": "code",
      "source": [
        "from torch.utils.data import DataLoader\n",
        "\n",
        "test_loader = DataLoader(\n",
        "    dataset = Dataset(args, 'test'),\n",
        "    batch_size = args.batch_size,\n",
        "    shuffle = True\n",
        ")"
      ],
      "metadata": {
        "id": "rgeqcvCtdrF0"
      },
      "execution_count": 6,
      "outputs": []
    },
    {
      "cell_type": "code",
      "source": [
        "model = Model(args)"
      ],
      "metadata": {
        "id": "riFnWUa3ejPb"
      },
      "execution_count": 7,
      "outputs": []
    },
    {
      "cell_type": "code",
      "source": [
        "batch = [n for n in test_loader][0]"
      ],
      "metadata": {
        "id": "vN0nls3rmG79"
      },
      "execution_count": 8,
      "outputs": []
    },
    {
      "cell_type": "code",
      "source": [
        "batch"
      ],
      "metadata": {
        "colab": {
          "base_uri": "https://localhost:8080/"
        },
        "id": "rAmLlf6umg8A",
        "outputId": "6a30d252-b8e9-4422-dba5-67a816ff7668"
      },
      "execution_count": 14,
      "outputs": [
        {
          "output_type": "execute_result",
          "data": {
            "text/plain": [
              "[tensor([[[20855, 10213,    19,  ...,    63,     6,     1]],\n",
              " \n",
              "         [[ 1589,  7223, 21608,  ...,     0,     0,     0]],\n",
              " \n",
              "         [[   71,  4169,    18,  ...,     0,     0,     0]],\n",
              " \n",
              "         [[    3, 29541,    13,  ...,     0,     0,     0]]]),\n",
              " tensor([[[1, 1, 1,  ..., 1, 1, 1]],\n",
              " \n",
              "         [[1, 1, 1,  ..., 0, 0, 0]],\n",
              " \n",
              "         [[1, 1, 1,  ..., 0, 0, 0]],\n",
              " \n",
              "         [[1, 1, 1,  ..., 0, 0, 0]]]),\n",
              " tensor([[[23270, 20767,   106,  ...,     0,     0,     0]],\n",
              " \n",
              "         [[13439, 10715,  7975,  ...,     0,     0,     0]],\n",
              " \n",
              "         [[  549, 24947,  2365,  ...,     0,     0,     0]],\n",
              " \n",
              "         [[    3, 29541,   130,  ...,     0,     0,     0]]]),\n",
              " tensor([[[20767,   106,     6,  ...,  -100,  -100,  -100]],\n",
              " \n",
              "         [[10715,  7975,  7511,  ...,  -100,  -100,  -100]],\n",
              " \n",
              "         [[24947,  2365,    10,  ...,  -100,  -100,  -100]],\n",
              " \n",
              "         [[29541,   130,   646,  ...,  -100,  -100,  -100]]])]"
            ]
          },
          "metadata": {},
          "execution_count": 14
        }
      ]
    },
    {
      "cell_type": "code",
      "source": [
        "class Trainer:\n",
        "  "
      ],
      "metadata": {
        "id": "vqyjCyKwCzcR"
      },
      "execution_count": null,
      "outputs": []
    }
  ]
}