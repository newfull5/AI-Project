{
  "cells": [
    {
      "cell_type": "markdown",
      "metadata": {
        "id": "view-in-github",
        "colab_type": "text"
      },
      "source": [
        "<a href=\"https://colab.research.google.com/github/newfull5/AI-Project/blob/master/summarization.ipynb\" target=\"_parent\"><img src=\"https://colab.research.google.com/assets/colab-badge.svg\" alt=\"Open In Colab\"/></a>"
      ]
    },
    {
      "cell_type": "code",
      "source": [
        "!nvidia-smi"
      ],
      "metadata": {
        "id": "tDzQTGzKLcCj"
      },
      "execution_count": null,
      "outputs": []
    },
    {
      "cell_type": "code",
      "execution_count": null,
      "metadata": {
        "id": "-kAvXVas5al5"
      },
      "outputs": [],
      "source": [
        "!pip install transformers datasets torch wandb tqdm evaluate rouge_score"
      ]
    },
    {
      "cell_type": "markdown",
      "metadata": {
        "id": "Luj69IozBjGp"
      },
      "source": [
        "- model = t5-base\n",
        "- dataset = CNN_dailymail 3.0.0\n",
        "  - max_token_length = about 3,500\n",
        "  \n",
        "\n",
        "- config\n",
        "  - max_length_truncate = 1024\n",
        "  \n"
      ]
    },
    {
      "cell_type": "code",
      "execution_count": null,
      "metadata": {
        "id": "_HX4jwSsk2oq"
      },
      "outputs": [],
      "source": [
        "from datasets import load_dataset\n",
        "from tqdm import tqdm"
      ]
    },
    {
      "cell_type": "code",
      "execution_count": null,
      "metadata": {
        "id": "efCn7jkIDTQa"
      },
      "outputs": [],
      "source": [
        "# length 0 ~ 500 => 1900\n",
        "# length 500 ~ 1000 => 5400\n",
        "# length 1000 ~ 1500 => 2800\n",
        "# length 1500 ~ 2000 -> 1150\n",
        "# length 2000 ~  -> 500"
      ]
    },
    {
      "cell_type": "code",
      "execution_count": null,
      "metadata": {
        "id": "hJbD5OVIVt6p"
      },
      "outputs": [],
      "source": [
        "import argparse\n",
        "\n",
        "def _get_parser():  \n",
        "    parser = argparse.ArgumentParser()\n",
        "    parser.add_argument()\n",
        "    return parser\n",
        "   \n",
        "\n",
        "args = argparse.Namespace(  \n",
        "  model_name=\"t5-large\", \n",
        "  tokenizer_name=\"t5-large\",\n",
        "  dataset_name=['cnn_dailymail', '3.0.0'],\n",
        "  batch_size = 2,\n",
        "  lr=3e-5,\n",
        "  val_check_interval= 5,\n",
        "  max_epochs=100\n",
        ")"
      ]
    },
    {
      "cell_type": "code",
      "execution_count": null,
      "metadata": {
        "id": "qGNsVr0_VuXJ"
      },
      "outputs": [],
      "source": [
        "from torch.utils.data import Dataset\n",
        "from transformers import AutoTokenizer\n",
        "from datasets import load_dataset\n",
        "\n",
        "class Dataset(Dataset):\n",
        "  def __init__(self, args, stage):\n",
        "    super().__init__()\n",
        "    self.stage = stage\n",
        "    self.args = args\n",
        "    self.plain_target = []\n",
        "    self.input_ids, self.attention_mask, self.decoder_input_ids, self.labels = self._get_data(args, stage)\n",
        "    \n",
        "\n",
        "  def _get_data(self, args, stage):\n",
        "    dataset = load_dataset(args.dataset_name[0], args.dataset_name[1])\n",
        "    tokenizer = AutoTokenizer.from_pretrained(args.tokenizer_name)\n",
        "    input_ids = []\n",
        "    attention_mask = []\n",
        "    decoder_input_ids = []\n",
        "    labels = []\n",
        "    \n",
        "\n",
        "    if stage in ['train', 'validation', 'test']:\n",
        "      self.plain_target += dataset[stage]['highlights']\n",
        "      for data_set in tqdm(dataset[stage]):\n",
        "        inputs = tokenizer(\n",
        "            text=data_set['article'],\n",
        "            max_length=1024,\n",
        "            padding='max_length',\n",
        "            truncation=True,\n",
        "            return_tensors='pt'\n",
        "        )\n",
        "\n",
        "        input_ids.append(inputs['input_ids'])\n",
        "        attention_mask.append(inputs['attention_mask'])\n",
        "        \n",
        "        outputs = tokenizer(\n",
        "            text=data_set['highlights'],\n",
        "            max_length=256,\n",
        "            padding='max_length',\n",
        "            truncation=True,\n",
        "            return_tensors='pt'\n",
        "        )\n",
        "\n",
        "        decoder_input_ids.append(outputs['input_ids'][:, :-1].contiguous())\n",
        "        label = outputs['input_ids'][:, 1:].clone().detach()\n",
        "        label[label == tokenizer.pad_token_id] = -100\n",
        "        labels.append(label)\n",
        "\n",
        "    else:\n",
        "      raise Exception(\"you can set stage only 'train', 'test' or 'validation'\")\n",
        "\n",
        "    return input_ids, attention_mask, decoder_input_ids, labels\n",
        "      \n",
        "  def __len__(self):\n",
        "    return len(self.labels)\n",
        "\n",
        "  def __getitem__(self, idx):\n",
        "    return self.input_ids[idx], self.attention_mask[idx], self.decoder_input_ids[idx], self.labels[idx], self.plain_target[idx]"
      ]
    },
    {
      "cell_type": "code",
      "execution_count": null,
      "metadata": {
        "id": "J2RAaEXHYakr"
      },
      "outputs": [],
      "source": [
        "from transformers import AutoModelForSeq2SeqLM\n",
        "import torch\n",
        "from torch import nn\n",
        "\n",
        "class Model(nn.Module):\n",
        "  def __init__(self, args):\n",
        "    super(Model, self).__init__()\n",
        "    self.model = AutoModelForSeq2SeqLM.from_pretrained(args.model_name)\n",
        "    self.device = torch.device('cuda' if torch.cuda.is_available() else 'cpu')\n",
        "    self.model.to(self.device)\n",
        "\n",
        "  def forward(self, batch):\n",
        "    input_ids, attention_mask, decoder_input_ids, labels, _ = batch\n",
        "    outputs = self.model(\n",
        "        input_ids=self._move_to_cuda(input_ids).squeeze(),\n",
        "        attention_mask=self._move_to_cuda(attention_mask),\n",
        "        decoder_input_ids=self._move_to_cuda(decoder_input_ids).squeeze(),\n",
        "        labels=self._move_to_cuda(labels)    \n",
        "    )\n",
        "    return outputs\n",
        "\n",
        "  def _move_to_cuda(self, inputs):\n",
        "    if torch.is_tensor(inputs):\n",
        "      return inputs.to(self.device)\n",
        "    elif isinstance(inputs, list):\n",
        "      return [self._move_to_cuda(x) for x in inputs]\n",
        "    elif isinstance(inputs, dict):\n",
        "      return {key: self._move_to_cuda(value) for key, value in inputs.items()}\n",
        "    else:\n",
        "      return inputs\n",
        "\n",
        "  def save(self, save_dir):\n",
        "    self.model.save_pretrained(save_dir)\n",
        "\n",
        "  def load(self, save_dir):\n",
        "    self.model.load_state_dict(\n",
        "        torch.load(f\"{save_dir}/pytorch_model.bin\", map_location=torch.device(self.device))\n",
        "    )"
      ]
    },
    {
      "cell_type": "code",
      "execution_count": null,
      "metadata": {
        "id": "vqyjCyKwCzcR"
      },
      "outputs": [],
      "source": [
        "from torch.cuda.amp import GradScaler, autocast\n",
        "from tqdm import tqdm\n",
        "import evaluate\n",
        "import wandb\n",
        "\n",
        "class Trainer:\n",
        "  def __init__(self, args, model, train_loader, validation_loader):\n",
        "    self.args = args\n",
        "    self.model = model\n",
        "    self.train_loader = train_loader\n",
        "    self.valid_loader = validation_loader\n",
        "    self.rouge = evaluate.load('rouge')\n",
        "    self.tokenizer = AutoTokenizer.from_pretrained(args.tokenizer_name)\n",
        "    self.global_steps = 0\n",
        "    self.optimizer = torch.optim.SGD(self.model.parameters(), lr=args.lr)\n",
        "    self.device = torch.device('cuda' if torch.cuda.is_available() else 'cpu')\n",
        "    self.val_check_interval = args.val_check_interval\n",
        "    self.global_steps = 0\n",
        "\n",
        "  def training_phase(self, current_epoch):\n",
        "    self.model.train()\n",
        "    scaler = GradScaler()\n",
        "    total_train_loss = 0\n",
        "    train_steps = 0\n",
        "\n",
        "    for batch in tqdm(self.train_loader, desc=f\"epoch: {current_epoch}\"):\n",
        "      self.optimizer.zero_grad()\n",
        "      with autocast():\n",
        "        outputs = model(batch)\n",
        "      \n",
        "      scaler.scale(outputs.loss).backward()\n",
        "      scaler.step(self.optimizer)\n",
        "      scaler.update()\n",
        "      self.global_steps += 1\n",
        "      total_train_loss += float(outputs.loss)\n",
        "\n",
        "      if self.global_steps % self.val_check_interval == 0 and self.global_steps != 0:\n",
        "        wandb.log({\n",
        "            'train_loss': (total_train_loss/self.val_check_interval)\n",
        "            })\n",
        "        \n",
        "        total_train_loss = 0\n",
        "        model.save(f\"./cnn_daily_summrization/{self.global_steps}/\")\n",
        "        self.valid_phase()\n",
        "\n",
        "  def valid_phase(self):\n",
        "    self.model.eval()\n",
        "    predictions = []\n",
        "    total_valid_loss = 0\n",
        "\n",
        "    for batch in self.valid_loader:\n",
        "      outputs = model(batch)\n",
        "      total_valid_loss += float(outputs.loss)\n",
        "      \n",
        "      predictions += [self.tokenizer.decode(logit.argmax(dim=1)).strip() for logit in outputs.logits]\n",
        "\n",
        "    import pdb; pdb.set_trace()\n",
        "    rouge_score = self.rouge.compute(predictions=predictions,\n",
        "                                references=[list(t[-1]) for t in self.valid_loader],\n",
        "                                tokenizer=lambda x: self.tokenizer(x)['input_ids']\n",
        "                                )\n",
        "    \n",
        "    wandb.log({\n",
        "        'rouge1': rouge_score['rouge1'],\n",
        "        'rouge2': rouge_score['rouge2'],\n",
        "        'rougeL': rouge_score['rougeL'],\n",
        "        'rougeLsum': rouge_score['rougeLsum'],\n",
        "        'valid_loss': total_valid_loss/(len(self.valid_loader//len(self.args.batch_size)))\n",
        "    })\n",
        "\n",
        "  def fit(self):\n",
        "    for epoch in range(1, self.args.max_epochs+1):\n",
        "      self.training_phase(epoch)"
      ]
    },
    {
      "cell_type": "code",
      "source": [
        "from torch.utils.data import Dataset\n",
        "from transformers import AutoTokenizer\n",
        "from datasets import load_dataset\n",
        "\n",
        "class Dataset(Dataset):\n",
        "  def __init__(self, args, stage):\n",
        "    super().__init__()\n",
        "    self.stage = stage\n",
        "    self.args = args\n",
        "    self.plain_target = []\n",
        "    self.input_ids, self.attention_mask, self.decoder_input_ids, self.labels = self._get_data(args, stage)\n",
        "    \n",
        "\n",
        "  def _get_data(self, args, stage):\n",
        "    tokenizer = AutoTokenizer.from_pretrained(args.tokenizer_name)\n",
        "    input_ids = []\n",
        "    attention_mask = []\n",
        "    decoder_input_ids = []\n",
        "    labels = []\n",
        "    \n",
        "    dataset = [\n",
        "        'abcaasbc',\n",
        "        'abcafdbc',\n",
        "        'abcabc',\n",
        "        'abvcscabc',\n",
        "        'abcaabc',\n",
        "        'abcsabc',\n",
        "        'abcscvabc',\n",
        "        'abassaaxcabc',\n",
        "        'abcbbvabc',\n",
        "        'abcasdbc',\n",
        "        'abcaasbc',\n",
        "        'abadcabc',\n",
        "        'abvvcabc',\n",
        "        'abcassaabc',\n",
        "        'abcaasbc',\n",
        "        'abcafdbc',\n",
        "        'abcabc',\n",
        "        'abvcscabc',\n",
        "        'abcaabc',\n",
        "        'abcsabc',\n",
        "        'abcscvabc',\n",
        "        'abassaaxcabc',\n",
        "        'abcbbvabc',\n",
        "        'abcasdbc',\n",
        "        'abcaasbc',\n",
        "        'abadcabc',\n",
        "        'abvvcabc',\n",
        "        'abcassaabc',\n",
        "    ]\n",
        "    self.plain_target += dataset\n",
        "    for data_set in tqdm(dataset):\n",
        "      inputs = tokenizer(\n",
        "          text=data_set,\n",
        "          max_length=1024,\n",
        "          padding='max_length',\n",
        "          truncation=True,\n",
        "          return_tensors='pt'\n",
        "      )\n",
        "\n",
        "      input_ids.append(inputs['input_ids'])\n",
        "      attention_mask.append(inputs['attention_mask'])\n",
        "      \n",
        "      outputs = tokenizer(\n",
        "          text=data_set,\n",
        "          max_length=256,\n",
        "          padding='max_length',\n",
        "          truncation=True,\n",
        "          return_tensors='pt'\n",
        "      )\n",
        "\n",
        "      decoder_input_ids.append(outputs['input_ids'][:, :-1].contiguous())\n",
        "      label = outputs['input_ids'][:, 1:].clone().detach()\n",
        "      label[label == tokenizer.pad_token_id] = -100\n",
        "      labels.append(label)\n",
        "\n",
        "    return input_ids, attention_mask, decoder_input_ids, labels\n",
        "      \n",
        "  def __len__(self):\n",
        "    return len(self.labels)\n",
        "\n",
        "  def __getitem__(self, idx):\n",
        "    return self.input_ids[idx], self.attention_mask[idx], self.decoder_input_ids[idx], self.labels[idx], self.plain_target[idx]"
      ],
      "metadata": {
        "id": "nD_qQIvGCGm0"
      },
      "execution_count": null,
      "outputs": []
    },
    {
      "cell_type": "code",
      "execution_count": null,
      "metadata": {
        "id": "7zJ5lfodqk5Y"
      },
      "outputs": [],
      "source": [
        "from torch.utils.data import DataLoader\n",
        "\n",
        "train_loader = DataLoader(\n",
        "    dataset = Dataset(args, 'train'),\n",
        "    batch_size = args.batch_size,\n",
        "    shuffle = True\n",
        ")\n",
        "\n",
        "valid_loader = DataLoader(\n",
        "    dataset = Dataset(args, 'validation'),\n",
        "    batch_size = args.batch_size,\n",
        "    shuffle = True\n",
        ")\n",
        "\n",
        "model = Model(args)"
      ]
    },
    {
      "cell_type": "code",
      "execution_count": null,
      "metadata": {
        "id": "xJY_vIu5NOV-"
      },
      "outputs": [],
      "source": [
        "trainer = Trainer(\n",
        "    args=args,\n",
        "    model=model,\n",
        "    train_loader=train_loader,\n",
        "    validation_loader=valid_loader\n",
        ")"
      ]
    },
    {
      "cell_type": "code",
      "execution_count": null,
      "metadata": {
        "id": "5nrurpLA06-b"
      },
      "outputs": [],
      "source": [
        "wandb.init('Summarization')\n",
        "\n",
        "trainer.fit()"
      ]
    },
    {
      "cell_type": "code",
      "execution_count": null,
      "metadata": {
        "id": "pu4UmNVY84kK"
      },
      "outputs": [],
      "source": []
    }
  ],
  "metadata": {
    "accelerator": "GPU",
    "colab": {
      "machine_shape": "hm",
      "provenance": [],
      "authorship_tag": "ABX9TyNwOKNwCz0oDGPHZO6ZPcnX",
      "include_colab_link": true
    },
    "gpuClass": "premium",
    "kernelspec": {
      "display_name": "Python 3",
      "name": "python3"
    },
    "language_info": {
      "name": "python"
    }
  },
  "nbformat": 4,
  "nbformat_minor": 0
}