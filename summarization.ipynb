{
  "cells": [
    {
      "cell_type": "markdown",
      "metadata": {
        "id": "view-in-github",
        "colab_type": "text"
      },
      "source": [
        "<a href=\"https://colab.research.google.com/github/newfull5/AI-Project/blob/master/summarization.ipynb\" target=\"_parent\"><img src=\"https://colab.research.google.com/assets/colab-badge.svg\" alt=\"Open In Colab\"/></a>"
      ]
    },
    {
      "cell_type": "code",
      "execution_count": null,
      "metadata": {
        "id": "-kAvXVas5al5"
      },
      "outputs": [],
      "source": [
        "!pip install transformers datasets torch wandb tqdm evaluate rouge_score"
      ]
    },
    {
      "cell_type": "markdown",
      "metadata": {
        "id": "Luj69IozBjGp"
      },
      "source": [
        "- model = t5-base\n",
        "- dataset = CNN_dailymail 3.0.0\n",
        "  - max_token_length = about 3,500\n",
        "  \n",
        "\n",
        "- config\n",
        "  - max_length_truncate = 1024\n",
        "  \n"
      ]
    },
    {
      "cell_type": "code",
      "execution_count": null,
      "metadata": {
        "id": "_HX4jwSsk2oq"
      },
      "outputs": [],
      "source": [
        "from datasets import load_dataset\n",
        "from tqdm import tqdm"
      ]
    },
    {
      "cell_type": "code",
      "execution_count": null,
      "metadata": {
        "id": "efCn7jkIDTQa"
      },
      "outputs": [],
      "source": [
        "# length 0 ~ 500 => 1900\n",
        "# length 500 ~ 1000 => 5400\n",
        "# length 1000 ~ 1500 => 2800\n",
        "# length 1500 ~ 2000 -> 1150\n",
        "# length 2000 ~  -> 500"
      ]
    },
    {
      "cell_type": "code",
      "execution_count": null,
      "metadata": {
        "id": "hJbD5OVIVt6p"
      },
      "outputs": [],
      "source": [
        "import argparse\n",
        "\n",
        "def _get_parser():  \n",
        "    parser = argparse.ArgumentParser()\n",
        "    parser.add_argument()\n",
        "    return parser\n",
        "   \n",
        "\n",
        "args = argparse.Namespace(  \n",
        "  model_name=\"t5-large\", \n",
        "  tokenizer_name=\"t5-large\",\n",
        "  dataset_name=['cnn_dailymail', '3.0.0'],\n",
        "  batch_size = 4,\n",
        "  lr=3e-5,\n",
        "  val_check_interval= 2000\n",
        ")"
      ]
    },
    {
      "cell_type": "code",
      "execution_count": null,
      "metadata": {
        "id": "qGNsVr0_VuXJ"
      },
      "outputs": [],
      "source": [
        "from torch.utils.data import Dataset\n",
        "from transformers import AutoTokenizer\n",
        "from datasets import load_dataset\n",
        "\n",
        "class Dataset(Dataset):\n",
        "  def __init__(self, args, stage):\n",
        "    super().__init__()\n",
        "    self.stage = stage\n",
        "    self.args = args\n",
        "    self.plain_target = []\n",
        "    self.input_ids, self.attention_mask, self.decoder_input_ids, self.labels = self._get_data(args, stage)\n",
        "    \n",
        "\n",
        "  def _get_data(self, args, stage):\n",
        "    dataset = load_dataset(args.dataset_name[0], args.dataset_name[1])\n",
        "    tokenizer = AutoTokenizer.from_pretrained(args.tokenizer_name)\n",
        "    input_ids = []\n",
        "    attention_mask = []\n",
        "    decoder_input_ids = []\n",
        "    labels = []\n",
        "    \n",
        "\n",
        "    if stage in ['train', 'validation', 'test']:\n",
        "      self.plain_target += dataset[stage]['highlights']\n",
        "      for data_set in tqdm(dataset[stage]):\n",
        "        inputs = tokenizer(\n",
        "            text=data_set['article'],\n",
        "            max_length=1024,\n",
        "            padding='max_length',\n",
        "            truncation=True,\n",
        "            return_tensors='pt'\n",
        "        )\n",
        "\n",
        "        input_ids.append(inputs['input_ids'])\n",
        "        attention_mask.append(inputs['attention_mask'])\n",
        "        \n",
        "        outputs = tokenizer(\n",
        "            text=data_set['highlights'],\n",
        "            max_length=256,\n",
        "            padding='max_length',\n",
        "            truncation=True,\n",
        "            return_tensors='pt'\n",
        "        )\n",
        "\n",
        "        decoder_input_ids.append(outputs['input_ids'][:, :-1].contiguous())\n",
        "        label = outputs['input_ids'][:, 1:].clone().detach()\n",
        "        label[label == tokenizer.pad_token_id] = -100\n",
        "        labels.append(label)\n",
        "\n",
        "    else:\n",
        "      raise Exception(\"you can set stage only 'train', 'test' or 'validation'\")\n",
        "\n",
        "    return input_ids, attention_mask, decoder_input_ids, labels\n",
        "      \n",
        "  def __len__(self):\n",
        "    return len(self.labels)\n",
        "\n",
        "  def __getitem__(self, idx):\n",
        "    return self.input_ids[idx], self.attention_mask[idx], self.decoder_input_ids[idx], self.labels[idx], self.plain_target[idx]"
      ]
    },
    {
      "cell_type": "code",
      "execution_count": null,
      "metadata": {
        "id": "J2RAaEXHYakr"
      },
      "outputs": [],
      "source": [
        "from transformers import AutoModelForSeq2SeqLM\n",
        "import torch\n",
        "from torch import nn\n",
        "\n",
        "class Model(nn.Module):\n",
        "  def __init__(self, args):\n",
        "    super(Model, self).__init__()\n",
        "    self.model = AutoModelForSeq2SeqLM.from_pretrained(args.model_name)\n",
        "    self.device = torch.device('cuda' if torch.cuda.is_available() else 'cpu')\n",
        "    self.model.to(self.device)\n",
        "\n",
        "  def forward(self, batch):\n",
        "    input_ids, attention_mask, decoder_input_ids, labels, _ = batch\n",
        "    outputs = self.model(\n",
        "        input_ids=self._move_to_cuda(input_ids).squeeze(),\n",
        "        attention_mask=self._move_to_cuda(attention_mask),\n",
        "        decoder_input_ids=self._move_to_cuda(decoder_input_ids).squeeze(),\n",
        "        labels=self._move_to_cuda(labels)    \n",
        "    )\n",
        "    return outputs\n",
        "\n",
        "  def _move_to_cuda(self, inputs):\n",
        "    if torch.is_tensor(inputs):\n",
        "      return inputs.to(self.device)\n",
        "    elif isinstance(inputs, list):\n",
        "      return [self._move_to_cuda(x) for x in inputs]\n",
        "    elif isinstance(inputs, dict):\n",
        "      return {key: self._move_to_cuda(value) for key, value in inputs.items()}\n",
        "    else:\n",
        "      return inputs\n",
        "\n",
        "  def save(self, save_dir):\n",
        "    self.model.save_pretrained(save_dir)\n",
        "\n",
        "  def load(self, save_dir):\n",
        "    self.model.load_state_dict(\n",
        "        torch.load(f\"{save_dir}/pytorch_model.bin\", map_location=torch.device(self.device))\n",
        "    )"
      ]
    },
    {
      "cell_type": "code",
      "execution_count": null,
      "metadata": {
        "colab": {
          "background_save": true
        },
        "id": "vqyjCyKwCzcR",
        "outputId": "45fe4041-649f-49e3-c11a-b0b91689046c"
      },
      "outputs": [
        {
          "ename": "ModuleNotFoundError",
          "evalue": "ignored",
          "output_type": "error",
          "traceback": [
            "\u001b[0;31m---------------------------------------------------------------------------\u001b[0m",
            "\u001b[0;31mModuleNotFoundError\u001b[0m                       Traceback (most recent call last)",
            "\u001b[0;32m<ipython-input-1-484cfd36f85a>\u001b[0m in \u001b[0;36m<module>\u001b[0;34m\u001b[0m\n\u001b[1;32m      1\u001b[0m \u001b[0;32mfrom\u001b[0m \u001b[0mtorch\u001b[0m\u001b[0;34m.\u001b[0m\u001b[0mcuda\u001b[0m\u001b[0;34m.\u001b[0m\u001b[0mamp\u001b[0m \u001b[0;32mimport\u001b[0m \u001b[0mGradScaler\u001b[0m\u001b[0;34m,\u001b[0m \u001b[0mautocast\u001b[0m\u001b[0;34m\u001b[0m\u001b[0;34m\u001b[0m\u001b[0m\n\u001b[1;32m      2\u001b[0m \u001b[0;32mfrom\u001b[0m \u001b[0mtqdm\u001b[0m \u001b[0;32mimport\u001b[0m \u001b[0mtqdm\u001b[0m\u001b[0;34m\u001b[0m\u001b[0;34m\u001b[0m\u001b[0m\n\u001b[0;32m----> 3\u001b[0;31m \u001b[0;32mimport\u001b[0m \u001b[0mwandb\u001b[0m\u001b[0;34m\u001b[0m\u001b[0;34m\u001b[0m\u001b[0m\n\u001b[0m\u001b[1;32m      4\u001b[0m \u001b[0;32mimport\u001b[0m \u001b[0mevaluate\u001b[0m\u001b[0;34m\u001b[0m\u001b[0;34m\u001b[0m\u001b[0m\n\u001b[1;32m      5\u001b[0m \u001b[0;34m\u001b[0m\u001b[0m\n",
            "\u001b[0;31mModuleNotFoundError\u001b[0m: No module named 'wandb'",
            "",
            "\u001b[0;31m---------------------------------------------------------------------------\u001b[0;32m\nNOTE: If your import is failing due to a missing package, you can\nmanually install dependencies using either !pip or !apt.\n\nTo view examples of installing some common dependencies, click the\n\"Open Examples\" button below.\n\u001b[0;31m---------------------------------------------------------------------------\u001b[0m\n"
          ]
        }
      ],
      "source": [
        "from torch.cuda.amp import GradScaler, autocast\n",
        "from tqdm import tqdm\n",
        "import wandb\n",
        "\n",
        "class Trainer:\n",
        "  def __init__(self, args, model, train_loader, validation_loader):\n",
        "    self.args = args\n",
        "    self.model = model\n",
        "    self.train_loader = train_loader\n",
        "    self.valid_loader = validation_loader\n",
        "    self.global_steps = 0\n",
        "    self.optimizer = torch.optim.SGD(self.model.parameters(), lr=args.lr)\n",
        "    self.device = torch.device('cuda' if torch.cuda.is_available() else 'cpu')\n",
        "    self.val_check_interval = args.val_check_interval\n",
        "    self.global_steps = 0\n",
        "\n",
        "  def training_phase(self):\n",
        "    self.model.train()\n",
        "    scaler = GradScaler()\n",
        "    total_train_loss = 0\n",
        "    train_steps = 0\n",
        "\n",
        "    for batch in tqdm(self.train_loader):\n",
        "      self.optimizer.zero_grad()\n",
        "      with autocast():\n",
        "        outputs = model(batch)\n",
        "      \n",
        "      scaler.scale(outputs.loss).backward()\n",
        "      scaler.step(self.optimizer)\n",
        "      scaler.update()\n",
        "      self.global_steps += 1\n",
        "      total_train_loss += float(outputs.loss)\n",
        "\n",
        "      if self.global_steps % self.val_check_interval == 0 and self.global_steps != 0:\n",
        "        wandb.log({\n",
        "            'train_loss': (total_train_loss/self.val_check_interval)\n",
        "            })\n",
        "        \n",
        "        total_train_loss = 0\n",
        "        model.save(f\"./cnn_daily_summrization/{self.global_step}/\")\n",
        "        self.valid_phase()\n",
        "\n",
        "  def valid_phase(self):\n",
        "    self.model_eval()\n",
        "    predictions = []\n",
        "    total_valid_loss = 0\n",
        "\n",
        "    for batch in self.valid_loader:\n",
        "      outputs = model(batch)\n",
        "      total_valid_loss += float(outputs.loss)\n",
        "      predictions += [tokenizer.decode(logit).strip() for logit in outputs.logits]\n",
        "\n",
        "    rouge_score = rouge.compute(predictions=predictions,\n",
        "                                references=[t[-1] for t in self.valid_loader],\n",
        "                                tokenizer=lambda x: tokenizer(x)['input_ids']\n",
        "                                )\n",
        "    \n",
        "    wandb.log({\n",
        "        'rouge1': rouge_score['rouge1'],\n",
        "        'rouge2': rouge_score['rouge2'],\n",
        "        'rougeL': rouge_score['rougeL'],\n",
        "        'rougeLsum': rouge_score['rougeLsum'],\n",
        "        'valid_loss': total_valid_loss/(len(self.valid_loader//len(self.args.batch_size)))\n",
        "    })\n",
        "\n",
        "  def fit(self):\n",
        "    self.training_phase()"
      ]
    },
    {
      "cell_type": "code",
      "execution_count": null,
      "metadata": {
        "colab": {
          "background_save": true,
          "base_uri": "https://localhost:8080/",
          "height": 104,
          "referenced_widgets": [
            "a672021c84b348b8a016848c4fdc17f3",
            "d548ef2b1ade4f8e962e0f48fcbcd936"
          ]
        },
        "id": "7zJ5lfodqk5Y",
        "outputId": "caa6af37-c53e-4df5-88d6-79afb1f96bdd"
      },
      "outputs": [
        {
          "name": "stderr",
          "output_type": "stream",
          "text": [
            "WARNING:datasets.builder:Found cached dataset cnn_dailymail (/root/.cache/huggingface/datasets/cnn_dailymail/3.0.0/3.0.0/1b3c71476f6d152c31c1730e83ccb08bcf23e348233f4fcc11e182248e6bf7de)\n"
          ]
        },
        {
          "data": {
            "application/vnd.jupyter.widget-view+json": {
              "model_id": "a672021c84b348b8a016848c4fdc17f3",
              "version_major": 2,
              "version_minor": 0
            },
            "text/plain": [
              "  0%|          | 0/3 [00:00<?, ?it/s]"
            ]
          },
          "metadata": {},
          "output_type": "display_data"
        },
        {
          "name": "stderr",
          "output_type": "stream",
          "text": [
            "/usr/local/lib/python3.8/dist-packages/transformers/models/t5/tokenization_t5_fast.py:155: FutureWarning: This tokenizer was incorrectly instantiated with a model max length of 512 which will be corrected in Transformers v5.\n",
            "For now, this behavior is kept to avoid breaking backwards compatibility when padding/encoding with `truncation is True`.\n",
            "- Be aware that you SHOULD NOT rely on t5-large automatically truncating your input to 512 when padding/encoding.\n",
            "- If you want to encode/pad to sequences longer than 512 you can either instantiate this tokenizer with `model_max_length` or pass `max_length` when encoding/padding.\n",
            "- To avoid this warning, please instantiate this tokenizer with `model_max_length` set to your preferred value.\n",
            "  warnings.warn(\n",
            "100%|██████████| 287113/287113 [14:46<00:00, 323.76it/s]\n",
            "WARNING:datasets.builder:Found cached dataset cnn_dailymail (/root/.cache/huggingface/datasets/cnn_dailymail/3.0.0/3.0.0/1b3c71476f6d152c31c1730e83ccb08bcf23e348233f4fcc11e182248e6bf7de)\n"
          ]
        },
        {
          "data": {
            "application/vnd.jupyter.widget-view+json": {
              "model_id": "d548ef2b1ade4f8e962e0f48fcbcd936",
              "version_major": 2,
              "version_minor": 0
            },
            "text/plain": [
              "  0%|          | 0/3 [00:00<?, ?it/s]"
            ]
          },
          "metadata": {},
          "output_type": "display_data"
        },
        {
          "name": "stderr",
          "output_type": "stream",
          "text": [
            "100%|██████████| 13368/13368 [00:40<00:00, 329.13it/s]\n"
          ]
        }
      ],
      "source": [
        "from torch.utils.data import DataLoader\n",
        "\n",
        "train_loader = DataLoader(\n",
        "    dataset = Dataset(args, 'train'),\n",
        "    batch_size = args.batch_size,\n",
        "    shuffle = True\n",
        ")\n",
        "\n",
        "valid_loader = DataLoader(\n",
        "    dataset = Dataset(args, 'validation'),\n",
        "    batch_size = args.batch_size,\n",
        "    shuffle = True\n",
        ")\n",
        "\n",
        "model = Model(args)"
      ]
    },
    {
      "cell_type": "code",
      "execution_count": null,
      "metadata": {
        "colab": {
          "background_save": true
        },
        "id": "xJY_vIu5NOV-"
      },
      "outputs": [],
      "source": [
        "trainer = Trainer(\n",
        "    args=args,\n",
        "    model=model,\n",
        "    train_loader=train_loader,\n",
        "    validation_loader=valid_loader\n",
        ")"
      ]
    },
    {
      "cell_type": "code",
      "execution_count": null,
      "metadata": {
        "colab": {
          "background_save": true
        },
        "id": "5nrurpLA06-b",
        "outputId": "21a0fb61-33cd-48a3-e725-65e327fa3801"
      },
      "outputs": [
        {
          "name": "stderr",
          "output_type": "stream",
          "text": [
            "\u001b[34m\u001b[1mwandb\u001b[0m: Currently logged in as: \u001b[33mnewfull5\u001b[0m. Use \u001b[1m`wandb login --relogin`\u001b[0m to force relogin\n"
          ]
        },
        {
          "data": {
            "text/html": [
              "Tracking run with wandb version 0.13.9"
            ],
            "text/plain": [
              "<IPython.core.display.HTML object>"
            ]
          },
          "metadata": {},
          "output_type": "display_data"
        },
        {
          "data": {
            "text/html": [
              "Run data is saved locally in <code>/content/wandb/run-20230123_104555-m7gzxwa7</code>"
            ],
            "text/plain": [
              "<IPython.core.display.HTML object>"
            ]
          },
          "metadata": {},
          "output_type": "display_data"
        },
        {
          "data": {
            "text/html": [
              "Syncing run <strong><a href=\"https://wandb.ai/newfull5/uncategorized/runs/m7gzxwa7\" target=\"_blank\">confused-plasma-165</a></strong> to <a href=\"https://wandb.ai/newfull5/uncategorized\" target=\"_blank\">Weights & Biases</a> (<a href=\"https://wandb.me/run\" target=\"_blank\">docs</a>)<br/>"
            ],
            "text/plain": [
              "<IPython.core.display.HTML object>"
            ]
          },
          "metadata": {},
          "output_type": "display_data"
        },
        {
          "data": {
            "text/html": [
              " View project at <a href=\"https://wandb.ai/newfull5/uncategorized\" target=\"_blank\">https://wandb.ai/newfull5/uncategorized</a>"
            ],
            "text/plain": [
              "<IPython.core.display.HTML object>"
            ]
          },
          "metadata": {},
          "output_type": "display_data"
        },
        {
          "data": {
            "text/html": [
              " View run at <a href=\"https://wandb.ai/newfull5/uncategorized/runs/m7gzxwa7\" target=\"_blank\">https://wandb.ai/newfull5/uncategorized/runs/m7gzxwa7</a>"
            ],
            "text/plain": [
              "<IPython.core.display.HTML object>"
            ]
          },
          "metadata": {},
          "output_type": "display_data"
        },
        {
          "name": "stderr",
          "output_type": "stream",
          "text": [
            "  3%|▎         | 1999/71779 [15:07<8:48:11,  2.20it/s]\n"
          ]
        },
        {
          "ename": "AttributeError",
          "evalue": "ignored",
          "output_type": "error",
          "traceback": [
            "\u001b[0;31m---------------------------------------------------------------------------\u001b[0m",
            "\u001b[0;31mAttributeError\u001b[0m                            Traceback (most recent call last)",
            "\u001b[0;32m<ipython-input-10-04b72a4ab923>\u001b[0m in \u001b[0;36m<module>\u001b[0;34m\u001b[0m\n\u001b[1;32m      1\u001b[0m \u001b[0mwandb\u001b[0m\u001b[0;34m.\u001b[0m\u001b[0minit\u001b[0m\u001b[0;34m(\u001b[0m\u001b[0;34m'Summarization'\u001b[0m\u001b[0;34m)\u001b[0m\u001b[0;34m\u001b[0m\u001b[0;34m\u001b[0m\u001b[0m\n\u001b[1;32m      2\u001b[0m \u001b[0;34m\u001b[0m\u001b[0m\n\u001b[0;32m----> 3\u001b[0;31m \u001b[0mtrainer\u001b[0m\u001b[0;34m.\u001b[0m\u001b[0mfit\u001b[0m\u001b[0;34m(\u001b[0m\u001b[0;34m)\u001b[0m\u001b[0;34m\u001b[0m\u001b[0;34m\u001b[0m\u001b[0m\n\u001b[0m",
            "\u001b[0;32m<ipython-input-7-02def8e4d397>\u001b[0m in \u001b[0;36mfit\u001b[0;34m(self)\u001b[0m\n\u001b[1;32m     65\u001b[0m \u001b[0;34m\u001b[0m\u001b[0m\n\u001b[1;32m     66\u001b[0m   \u001b[0;32mdef\u001b[0m \u001b[0mfit\u001b[0m\u001b[0;34m(\u001b[0m\u001b[0mself\u001b[0m\u001b[0;34m)\u001b[0m\u001b[0;34m:\u001b[0m\u001b[0;34m\u001b[0m\u001b[0;34m\u001b[0m\u001b[0m\n\u001b[0;32m---> 67\u001b[0;31m     \u001b[0mself\u001b[0m\u001b[0;34m.\u001b[0m\u001b[0mtraining_phase\u001b[0m\u001b[0;34m(\u001b[0m\u001b[0;34m)\u001b[0m\u001b[0;34m\u001b[0m\u001b[0;34m\u001b[0m\u001b[0m\n\u001b[0m",
            "\u001b[0;32m<ipython-input-7-02def8e4d397>\u001b[0m in \u001b[0;36mtraining_phase\u001b[0;34m(self)\u001b[0m\n\u001b[1;32m     39\u001b[0m         \u001b[0mtotal_train_loss\u001b[0m \u001b[0;34m=\u001b[0m \u001b[0;36m0\u001b[0m\u001b[0;34m\u001b[0m\u001b[0;34m\u001b[0m\u001b[0m\n\u001b[1;32m     40\u001b[0m         \u001b[0mmodel\u001b[0m\u001b[0;34m.\u001b[0m\u001b[0msave\u001b[0m\u001b[0;34m(\u001b[0m\u001b[0;34mf\"./cnn_daily_summrization/{self.global_steps}/\"\u001b[0m\u001b[0;34m)\u001b[0m\u001b[0;34m\u001b[0m\u001b[0;34m\u001b[0m\u001b[0m\n\u001b[0;32m---> 41\u001b[0;31m         \u001b[0mself\u001b[0m\u001b[0;34m.\u001b[0m\u001b[0mvalid_phase\u001b[0m\u001b[0;34m(\u001b[0m\u001b[0;34m)\u001b[0m\u001b[0;34m\u001b[0m\u001b[0;34m\u001b[0m\u001b[0m\n\u001b[0m\u001b[1;32m     42\u001b[0m \u001b[0;34m\u001b[0m\u001b[0m\n\u001b[1;32m     43\u001b[0m   \u001b[0;32mdef\u001b[0m \u001b[0mvalid_phase\u001b[0m\u001b[0;34m(\u001b[0m\u001b[0mself\u001b[0m\u001b[0;34m)\u001b[0m\u001b[0;34m:\u001b[0m\u001b[0;34m\u001b[0m\u001b[0;34m\u001b[0m\u001b[0m\n",
            "\u001b[0;32m<ipython-input-7-02def8e4d397>\u001b[0m in \u001b[0;36mvalid_phase\u001b[0;34m(self)\u001b[0m\n\u001b[1;32m     42\u001b[0m \u001b[0;34m\u001b[0m\u001b[0m\n\u001b[1;32m     43\u001b[0m   \u001b[0;32mdef\u001b[0m \u001b[0mvalid_phase\u001b[0m\u001b[0;34m(\u001b[0m\u001b[0mself\u001b[0m\u001b[0;34m)\u001b[0m\u001b[0;34m:\u001b[0m\u001b[0;34m\u001b[0m\u001b[0;34m\u001b[0m\u001b[0m\n\u001b[0;32m---> 44\u001b[0;31m     \u001b[0mself\u001b[0m\u001b[0;34m.\u001b[0m\u001b[0mmodel_eval\u001b[0m\u001b[0;34m(\u001b[0m\u001b[0;34m)\u001b[0m\u001b[0;34m\u001b[0m\u001b[0;34m\u001b[0m\u001b[0m\n\u001b[0m\u001b[1;32m     45\u001b[0m     \u001b[0mpredictions\u001b[0m \u001b[0;34m=\u001b[0m \u001b[0;34m[\u001b[0m\u001b[0;34m]\u001b[0m\u001b[0;34m\u001b[0m\u001b[0;34m\u001b[0m\u001b[0m\n\u001b[1;32m     46\u001b[0m     \u001b[0mtotal_valid_loss\u001b[0m \u001b[0;34m=\u001b[0m \u001b[0;36m0\u001b[0m\u001b[0;34m\u001b[0m\u001b[0;34m\u001b[0m\u001b[0m\n",
            "\u001b[0;31mAttributeError\u001b[0m: 'Trainer' object has no attribute 'model_eval'"
          ]
        }
      ],
      "source": [
        "wandb.init('Topic Classification')\n",
        "\n",
        "trainer.fit()"
      ]
    },
    {
      "cell_type": "code",
      "execution_count": null,
      "metadata": {
        "colab": {
          "background_save": true
        },
        "id": "pu4UmNVY84kK"
      },
      "outputs": [],
      "source": []
    }
  ],
  "metadata": {
    "accelerator": "GPU",
    "colab": {
      "machine_shape": "hm",
      "provenance": [],
      "authorship_tag": "ABX9TyO/o6W/Pu35GwXahvGWWmh3",
      "include_colab_link": true
    },
    "gpuClass": "premium",
    "kernelspec": {
      "display_name": "Python 3",
      "name": "python3"
    },
    "language_info": {
      "name": "python"
    },
    "widgets": {
      "application/vnd.jupyter.widget-state+json": {}
    }
  },
  "nbformat": 4,
  "nbformat_minor": 0
}