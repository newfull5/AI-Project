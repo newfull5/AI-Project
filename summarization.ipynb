{
  "cells": [
    {
      "cell_type": "markdown",
      "metadata": {
        "id": "view-in-github",
        "colab_type": "text"
      },
      "source": [
        "<a href=\"https://colab.research.google.com/github/newfull5/AI-Project/blob/master/summarization.ipynb\" target=\"_parent\"><img src=\"https://colab.research.google.com/assets/colab-badge.svg\" alt=\"Open In Colab\"/></a>"
      ]
    },
    {
      "cell_type": "code",
      "execution_count": 1,
      "metadata": {
        "id": "-kAvXVas5al5",
        "colab": {
          "base_uri": "https://localhost:8080/"
        },
        "outputId": "08c5b783-7311-4144-95fa-224d4c039e09"
      },
      "outputs": [
        {
          "output_type": "stream",
          "name": "stdout",
          "text": [
            "Looking in indexes: https://pypi.org/simple, https://us-python.pkg.dev/colab-wheels/public/simple/\n",
            "Requirement already satisfied: transformers in /usr/local/lib/python3.8/dist-packages (4.25.1)\n",
            "Requirement already satisfied: datasets in /usr/local/lib/python3.8/dist-packages (2.8.0)\n",
            "Requirement already satisfied: torch in /usr/local/lib/python3.8/dist-packages (1.13.1+cu116)\n",
            "Requirement already satisfied: wandb in /usr/local/lib/python3.8/dist-packages (0.13.9)\n",
            "Requirement already satisfied: tqdm in /usr/local/lib/python3.8/dist-packages (4.64.1)\n",
            "Requirement already satisfied: evaluate in /usr/local/lib/python3.8/dist-packages (0.4.0)\n",
            "Requirement already satisfied: rouge_score in /usr/local/lib/python3.8/dist-packages (0.1.2)\n",
            "Requirement already satisfied: requests in /usr/local/lib/python3.8/dist-packages (from transformers) (2.25.1)\n",
            "Requirement already satisfied: pyyaml>=5.1 in /usr/local/lib/python3.8/dist-packages (from transformers) (6.0)\n",
            "Requirement already satisfied: regex!=2019.12.17 in /usr/local/lib/python3.8/dist-packages (from transformers) (2022.6.2)\n",
            "Requirement already satisfied: tokenizers!=0.11.3,<0.14,>=0.11.1 in /usr/local/lib/python3.8/dist-packages (from transformers) (0.13.2)\n",
            "Requirement already satisfied: packaging>=20.0 in /usr/local/lib/python3.8/dist-packages (from transformers) (21.3)\n",
            "Requirement already satisfied: numpy>=1.17 in /usr/local/lib/python3.8/dist-packages (from transformers) (1.21.6)\n",
            "Requirement already satisfied: filelock in /usr/local/lib/python3.8/dist-packages (from transformers) (3.9.0)\n",
            "Requirement already satisfied: huggingface-hub<1.0,>=0.10.0 in /usr/local/lib/python3.8/dist-packages (from transformers) (0.11.1)\n",
            "Requirement already satisfied: xxhash in /usr/local/lib/python3.8/dist-packages (from datasets) (3.2.0)\n",
            "Requirement already satisfied: responses<0.19 in /usr/local/lib/python3.8/dist-packages (from datasets) (0.18.0)\n",
            "Requirement already satisfied: pyarrow>=6.0.0 in /usr/local/lib/python3.8/dist-packages (from datasets) (9.0.0)\n",
            "Requirement already satisfied: multiprocess in /usr/local/lib/python3.8/dist-packages (from datasets) (0.70.14)\n",
            "Requirement already satisfied: pandas in /usr/local/lib/python3.8/dist-packages (from datasets) (1.3.5)\n",
            "Requirement already satisfied: fsspec[http]>=2021.11.1 in /usr/local/lib/python3.8/dist-packages (from datasets) (2022.11.0)\n",
            "Requirement already satisfied: aiohttp in /usr/local/lib/python3.8/dist-packages (from datasets) (3.8.3)\n",
            "Requirement already satisfied: dill<0.3.7 in /usr/local/lib/python3.8/dist-packages (from datasets) (0.3.6)\n",
            "Requirement already satisfied: typing-extensions in /usr/local/lib/python3.8/dist-packages (from torch) (4.4.0)\n",
            "Requirement already satisfied: setuptools in /usr/local/lib/python3.8/dist-packages (from wandb) (57.4.0)\n",
            "Requirement already satisfied: Click!=8.0.0,>=7.0 in /usr/local/lib/python3.8/dist-packages (from wandb) (7.1.2)\n",
            "Requirement already satisfied: sentry-sdk>=1.0.0 in /usr/local/lib/python3.8/dist-packages (from wandb) (1.14.0)\n",
            "Requirement already satisfied: appdirs>=1.4.3 in /usr/local/lib/python3.8/dist-packages (from wandb) (1.4.4)\n",
            "Requirement already satisfied: docker-pycreds>=0.4.0 in /usr/local/lib/python3.8/dist-packages (from wandb) (0.4.0)\n",
            "Requirement already satisfied: pathtools in /usr/local/lib/python3.8/dist-packages (from wandb) (0.1.2)\n",
            "Requirement already satisfied: setproctitle in /usr/local/lib/python3.8/dist-packages (from wandb) (1.3.2)\n",
            "Requirement already satisfied: psutil>=5.0.0 in /usr/local/lib/python3.8/dist-packages (from wandb) (5.4.8)\n",
            "Requirement already satisfied: GitPython>=1.0.0 in /usr/local/lib/python3.8/dist-packages (from wandb) (3.1.30)\n",
            "Requirement already satisfied: protobuf!=4.21.0,<5,>=3.12.0 in /usr/local/lib/python3.8/dist-packages (from wandb) (3.19.6)\n",
            "Requirement already satisfied: absl-py in /usr/local/lib/python3.8/dist-packages (from rouge_score) (1.3.0)\n",
            "Requirement already satisfied: nltk in /usr/local/lib/python3.8/dist-packages (from rouge_score) (3.7)\n",
            "Requirement already satisfied: six>=1.14.0 in /usr/local/lib/python3.8/dist-packages (from rouge_score) (1.15.0)\n",
            "Requirement already satisfied: async-timeout<5.0,>=4.0.0a3 in /usr/local/lib/python3.8/dist-packages (from aiohttp->datasets) (4.0.2)\n",
            "Requirement already satisfied: attrs>=17.3.0 in /usr/local/lib/python3.8/dist-packages (from aiohttp->datasets) (22.2.0)\n",
            "Requirement already satisfied: yarl<2.0,>=1.0 in /usr/local/lib/python3.8/dist-packages (from aiohttp->datasets) (1.8.2)\n",
            "Requirement already satisfied: frozenlist>=1.1.1 in /usr/local/lib/python3.8/dist-packages (from aiohttp->datasets) (1.3.3)\n",
            "Requirement already satisfied: charset-normalizer<3.0,>=2.0 in /usr/local/lib/python3.8/dist-packages (from aiohttp->datasets) (2.1.1)\n",
            "Requirement already satisfied: multidict<7.0,>=4.5 in /usr/local/lib/python3.8/dist-packages (from aiohttp->datasets) (6.0.4)\n",
            "Requirement already satisfied: aiosignal>=1.1.2 in /usr/local/lib/python3.8/dist-packages (from aiohttp->datasets) (1.3.1)\n",
            "Requirement already satisfied: gitdb<5,>=4.0.1 in /usr/local/lib/python3.8/dist-packages (from GitPython>=1.0.0->wandb) (4.0.10)\n",
            "Requirement already satisfied: pyparsing!=3.0.5,>=2.0.2 in /usr/local/lib/python3.8/dist-packages (from packaging>=20.0->transformers) (3.0.9)\n",
            "Requirement already satisfied: chardet<5,>=3.0.2 in /usr/local/lib/python3.8/dist-packages (from requests->transformers) (4.0.0)\n",
            "Requirement already satisfied: certifi>=2017.4.17 in /usr/local/lib/python3.8/dist-packages (from requests->transformers) (2022.12.7)\n",
            "Requirement already satisfied: idna<3,>=2.5 in /usr/local/lib/python3.8/dist-packages (from requests->transformers) (2.10)\n",
            "Requirement already satisfied: urllib3<1.27,>=1.21.1 in /usr/local/lib/python3.8/dist-packages (from requests->transformers) (1.26.14)\n",
            "Requirement already satisfied: joblib in /usr/local/lib/python3.8/dist-packages (from nltk->rouge_score) (1.2.0)\n",
            "Requirement already satisfied: python-dateutil>=2.7.3 in /usr/local/lib/python3.8/dist-packages (from pandas->datasets) (2.8.2)\n",
            "Requirement already satisfied: pytz>=2017.3 in /usr/local/lib/python3.8/dist-packages (from pandas->datasets) (2022.7)\n",
            "Requirement already satisfied: smmap<6,>=3.0.1 in /usr/local/lib/python3.8/dist-packages (from gitdb<5,>=4.0.1->GitPython>=1.0.0->wandb) (5.0.0)\n"
          ]
        }
      ],
      "source": [
        "!pip install transformers datasets torch wandb tqdm evaluate rouge_score"
      ]
    },
    {
      "cell_type": "markdown",
      "metadata": {
        "id": "Luj69IozBjGp"
      },
      "source": [
        "- model = t5-base\n",
        "- dataset = CNN_dailymail 3.0.0\n",
        "  - max_token_length = about 3,500\n",
        "  \n",
        "\n",
        "- config\n",
        "  - max_length_truncate = 1024\n",
        "  \n"
      ]
    },
    {
      "cell_type": "code",
      "execution_count": 2,
      "metadata": {
        "id": "_HX4jwSsk2oq"
      },
      "outputs": [],
      "source": [
        "from datasets import load_dataset\n",
        "from tqdm import tqdm"
      ]
    },
    {
      "cell_type": "code",
      "execution_count": 3,
      "metadata": {
        "id": "efCn7jkIDTQa"
      },
      "outputs": [],
      "source": [
        "# length 0 ~ 500 => 1900\n",
        "# length 500 ~ 1000 => 5400\n",
        "# length 1000 ~ 1500 => 2800\n",
        "# length 1500 ~ 2000 -> 1150\n",
        "# length 2000 ~  -> 500"
      ]
    },
    {
      "cell_type": "code",
      "execution_count": 4,
      "metadata": {
        "id": "hJbD5OVIVt6p"
      },
      "outputs": [],
      "source": [
        "import argparse\n",
        "\n",
        "def _get_parser():  \n",
        "    parser = argparse.ArgumentParser()\n",
        "    parser.add_argument()\n",
        "    return parser\n",
        "   \n",
        "\n",
        "args = argparse.Namespace(  \n",
        "  model_name=\"t5-large\", \n",
        "  tokenizer_name=\"t5-large\",\n",
        "  dataset_name=['cnn_dailymail', '3.0.0'],\n",
        "  batch_size = 2,\n",
        "  lr=3e-5,\n",
        "  val_check_interval= 2000\n",
        ")"
      ]
    },
    {
      "cell_type": "code",
      "execution_count": 5,
      "metadata": {
        "id": "qGNsVr0_VuXJ"
      },
      "outputs": [],
      "source": [
        "from torch.utils.data import Dataset\n",
        "from transformers import AutoTokenizer\n",
        "from datasets import load_dataset\n",
        "\n",
        "class Dataset(Dataset):\n",
        "  def __init__(self, args, stage):\n",
        "    super().__init__()\n",
        "    self.stage = stage\n",
        "    self.args = args\n",
        "    self.plain_target = []\n",
        "    self.input_ids, self.attention_mask, self.decoder_input_ids, self.labels = self._get_data(args, stage)\n",
        "    \n",
        "\n",
        "  def _get_data(self, args, stage):\n",
        "    dataset = load_dataset(args.dataset_name[0], args.dataset_name[1])\n",
        "    tokenizer = AutoTokenizer.from_pretrained(args.tokenizer_name)\n",
        "    input_ids = []\n",
        "    attention_mask = []\n",
        "    decoder_input_ids = []\n",
        "    labels = []\n",
        "    \n",
        "\n",
        "    if stage in ['train', 'validation', 'test']:\n",
        "      self.plain_target += dataset[stage]['highlights']\n",
        "      for data_set in tqdm(dataset[stage]):\n",
        "        inputs = tokenizer(\n",
        "            text=data_set['article'],\n",
        "            max_length=1024,\n",
        "            padding='max_length',\n",
        "            truncation=True,\n",
        "            return_tensors='pt'\n",
        "        )\n",
        "\n",
        "        input_ids.append(inputs['input_ids'])\n",
        "        attention_mask.append(inputs['attention_mask'])\n",
        "        \n",
        "        outputs = tokenizer(\n",
        "            text=data_set['highlights'],\n",
        "            max_length=256,\n",
        "            padding='max_length',\n",
        "            truncation=True,\n",
        "            return_tensors='pt'\n",
        "        )\n",
        "\n",
        "        decoder_input_ids.append(outputs['input_ids'][:, :-1].contiguous())\n",
        "        label = outputs['input_ids'][:, 1:].clone().detach()\n",
        "        label[label == tokenizer.pad_token_id] = -100\n",
        "        labels.append(label)\n",
        "\n",
        "    else:\n",
        "      raise Exception(\"you can set stage only 'train', 'test' or 'validation'\")\n",
        "\n",
        "    return input_ids, attention_mask, decoder_input_ids, labels\n",
        "      \n",
        "  def __len__(self):\n",
        "    return len(self.labels)\n",
        "\n",
        "  def __getitem__(self, idx):\n",
        "    return self.input_ids[idx], self.attention_mask[idx], self.decoder_input_ids[idx], self.labels[idx], self.plain_target[idx]"
      ]
    },
    {
      "cell_type": "code",
      "execution_count": 6,
      "metadata": {
        "id": "J2RAaEXHYakr"
      },
      "outputs": [],
      "source": [
        "from transformers import AutoModelForSeq2SeqLM\n",
        "import torch\n",
        "from torch import nn\n",
        "\n",
        "class Model(nn.Module):\n",
        "  def __init__(self, args):\n",
        "    super(Model, self).__init__()\n",
        "    self.model = AutoModelForSeq2SeqLM.from_pretrained(args.model_name)\n",
        "    self.device = torch.device('cuda' if torch.cuda.is_available() else 'cpu')\n",
        "    self.model.to(self.device)\n",
        "\n",
        "  def forward(self, batch):\n",
        "    input_ids, attention_mask, decoder_input_ids, labels, _ = batch\n",
        "    outputs = self.model(\n",
        "        input_ids=self._move_to_cuda(input_ids).squeeze(),\n",
        "        attention_mask=self._move_to_cuda(attention_mask),\n",
        "        decoder_input_ids=self._move_to_cuda(decoder_input_ids).squeeze(),\n",
        "        labels=self._move_to_cuda(labels)    \n",
        "    )\n",
        "    return outputs\n",
        "\n",
        "  def _move_to_cuda(self, inputs):\n",
        "    if torch.is_tensor(inputs):\n",
        "      return inputs.to(self.device)\n",
        "    elif isinstance(inputs, list):\n",
        "      return [self._move_to_cuda(x) for x in inputs]\n",
        "    elif isinstance(inputs, dict):\n",
        "      return {key: self._move_to_cuda(value) for key, value in inputs.items()}\n",
        "    else:\n",
        "      return inputs\n",
        "\n",
        "  def save(self, save_dir):\n",
        "    self.model.save_pretrained(save_dir)\n",
        "\n",
        "  def load(self, save_dir):\n",
        "    self.model.load_state_dict(\n",
        "        torch.load(f\"{save_dir}/pytorch_model.bin\", map_location=torch.device(self.device))\n",
        "    )"
      ]
    },
    {
      "cell_type": "code",
      "execution_count": 7,
      "metadata": {
        "id": "vqyjCyKwCzcR"
      },
      "outputs": [],
      "source": [
        "from torch.cuda.amp import GradScaler, autocast\n",
        "from tqdm import tqdm\n",
        "import wandb\n",
        "import evaluate\n",
        "\n",
        "class Trainer:\n",
        "  def __init__(self, args, model, train_loader, validation_loader):\n",
        "    self.args = args\n",
        "    self.model = model\n",
        "    self.train_loader = train_loader\n",
        "    self.valid_loader = validation_loader\n",
        "    self.global_steps = 0\n",
        "    self.tokenizer = AutoTokenizer.from_pretrained(args.tokenizer_name)\n",
        "    self.optimizer = torch.optim.SGD(self.model.parameters(), lr=args.lr)\n",
        "    self.device = torch.device('cuda' if torch.cuda.is_available() else 'cpu')\n",
        "    self.val_check_interval = args.val_check_interval\n",
        "    self.global_steps = 0\n",
        "    self.rouge = evaluate.load('rouge')\n",
        "\n",
        "  def training_phase(self):\n",
        "    self.model.train()\n",
        "    scaler = GradScaler()\n",
        "    total_train_loss = 0\n",
        "    train_steps = 0\n",
        "\n",
        "    for batch in tqdm(self.train_loader):\n",
        "      self.optimizer.zero_grad()\n",
        "      with autocast():\n",
        "        outputs = model(batch)\n",
        "      \n",
        "      scaler.scale(outputs.loss).backward()\n",
        "      scaler.step(self.optimizer)\n",
        "      scaler.update()\n",
        "      self.global_steps += 1\n",
        "      total_train_loss += float(outputs.loss)\n",
        "\n",
        "      if self.global_steps % self.val_check_interval == 0 and self.global_steps != 0:\n",
        "        wandb.log({\n",
        "            'train_loss': (total_train_loss/self.val_check_interval)\n",
        "            })\n",
        "        \n",
        "        total_train_loss = 0\n",
        "        model.save(f\"./cnn_daily_summrization/{self.global_steps}/\")\n",
        "        self.valid_phase()\n",
        "\n",
        "  def valid_phase(self):\n",
        "    self.model.eval()\n",
        "    predictions = []\n",
        "    total_valid_loss = 0\n",
        "\n",
        "    for batch in self.valid_loader:\n",
        "      outputs = model(batch)\n",
        "      total_valid_loss += float(outputs.loss)\n",
        "      predictions += [self.tokenizer.decode(logit.argmax(dim=1)).strip() for logit in outputs.logits]\n",
        "    \n",
        "    rouge_score = self.rouge.compute(predictions=predictions,\n",
        "                                    references=[t[-1] for t in self.valid_loader],\n",
        "                                    tokenizer=lambda x: self.tokenizer(x)['input_ids'])\n",
        "    \n",
        "    wandb.log({\n",
        "        'rouge1': rouge_score['rouge1'],\n",
        "        'rouge2': rouge_score['rouge2'],\n",
        "        'rougeL': rouge_score['rougeL'],\n",
        "        'rougeLsum': rouge_score['rougeLsum'],\n",
        "        'valid_loss': total_valid_loss/(len(self.valid_loader//len(self.args.batch_size)))\n",
        "    })\n",
        "\n",
        "  def fit(self):\n",
        "    self.training_phase()"
      ]
    },
    {
      "cell_type": "code",
      "execution_count": null,
      "metadata": {
        "colab": {
          "base_uri": "https://localhost:8080/",
          "height": 208,
          "referenced_widgets": [
            "a672021c84b348b8a016848c4fdc17f3",
            "ec350437dbaf4719b1c471900426ddcf",
            "1dea40b6be5d47c5af70cc9645422438",
            "647e4346ece24689a1f94fd6ddd2a940",
            "9bc9c54c01bb42bb9f3cd3f3b51de538",
            "d77afbfb499a40c2991b10d0ba540fda",
            "c600a6d589894613a7de5e50c4eb88cb",
            "10728f49e29640c7a7c2d010d329b214",
            "26b9f774a9534bc99a12932a33c5c28f",
            "4a9bd958611441cd98fca0bee559dfe7",
            "b2a26230d2a44b6489a18a37f10b3422"
          ]
        },
        "id": "7zJ5lfodqk5Y",
        "outputId": "f00cbc7e-923a-45a8-841c-75cec7fb319e"
      },
      "outputs": [
        {
          "output_type": "stream",
          "name": "stderr",
          "text": [
            "WARNING:datasets.builder:Found cached dataset cnn_dailymail (/root/.cache/huggingface/datasets/cnn_dailymail/3.0.0/3.0.0/1b3c71476f6d152c31c1730e83ccb08bcf23e348233f4fcc11e182248e6bf7de)\n"
          ]
        },
        {
          "output_type": "display_data",
          "data": {
            "text/plain": [
              "  0%|          | 0/3 [00:00<?, ?it/s]"
            ],
            "application/vnd.jupyter.widget-view+json": {
              "version_major": 2,
              "version_minor": 0,
              "model_id": "a672021c84b348b8a016848c4fdc17f3"
            }
          },
          "metadata": {}
        },
        {
          "output_type": "stream",
          "name": "stderr",
          "text": [
            "/usr/local/lib/python3.8/dist-packages/transformers/models/t5/tokenization_t5_fast.py:155: FutureWarning: This tokenizer was incorrectly instantiated with a model max length of 512 which will be corrected in Transformers v5.\n",
            "For now, this behavior is kept to avoid breaking backwards compatibility when padding/encoding with `truncation is True`.\n",
            "- Be aware that you SHOULD NOT rely on t5-large automatically truncating your input to 512 when padding/encoding.\n",
            "- If you want to encode/pad to sequences longer than 512 you can either instantiate this tokenizer with `model_max_length` or pass `max_length` when encoding/padding.\n",
            "- To avoid this warning, please instantiate this tokenizer with `model_max_length` set to your preferred value.\n",
            "  warnings.warn(\n",
            "  3%|▎         | 9525/287113 [00:27<12:59, 356.05it/s]"
          ]
        }
      ],
      "source": [
        "from torch.utils.data import DataLoader\n",
        "\n",
        "train_loader = DataLoader(\n",
        "    dataset = Dataset(args, 'train'),\n",
        "    batch_size = args.batch_size,\n",
        "    shuffle = True\n",
        ")\n",
        "\n",
        "valid_loader = DataLoader(\n",
        "    dataset = Dataset(args, 'validation'),\n",
        "    batch_size = args.batch_size,\n",
        "    shuffle = True\n",
        ")\n",
        "\n",
        "model = Model(args)"
      ]
    },
    {
      "cell_type": "code",
      "execution_count": null,
      "metadata": {
        "id": "xJY_vIu5NOV-"
      },
      "outputs": [],
      "source": [
        "trainer = Trainer(\n",
        "    args=args,\n",
        "    model=model,\n",
        "    train_loader=train_loader,\n",
        "    validation_loader=valid_loader\n",
        ")"
      ]
    },
    {
      "cell_type": "code",
      "source": [
        "!nvidia-smi"
      ],
      "metadata": {
        "id": "S3SoditLvthP"
      },
      "execution_count": null,
      "outputs": []
    },
    {
      "cell_type": "code",
      "execution_count": null,
      "metadata": {
        "id": "5nrurpLA06-b"
      },
      "outputs": [],
      "source": [
        "wandb.init('Summarization')\n",
        "\n",
        "trainer.fit()"
      ]
    }
  ],
  "metadata": {
    "accelerator": "GPU",
    "colab": {
      "machine_shape": "hm",
      "provenance": [],
      "authorship_tag": "ABX9TyNIkQwZ4DtB1Pz2GZZFj64s",
      "include_colab_link": true
    },
    "gpuClass": "premium",
    "kernelspec": {
      "display_name": "Python 3",
      "name": "python3"
    },
    "language_info": {
      "name": "python"
    },
    "widgets": {
      "application/vnd.jupyter.widget-state+json": {
        "a672021c84b348b8a016848c4fdc17f3": {
          "model_module": "@jupyter-widgets/controls",
          "model_name": "HBoxModel",
          "model_module_version": "1.5.0",
          "state": {
            "_dom_classes": [],
            "_model_module": "@jupyter-widgets/controls",
            "_model_module_version": "1.5.0",
            "_model_name": "HBoxModel",
            "_view_count": null,
            "_view_module": "@jupyter-widgets/controls",
            "_view_module_version": "1.5.0",
            "_view_name": "HBoxView",
            "box_style": "",
            "children": [
              "IPY_MODEL_ec350437dbaf4719b1c471900426ddcf",
              "IPY_MODEL_1dea40b6be5d47c5af70cc9645422438",
              "IPY_MODEL_647e4346ece24689a1f94fd6ddd2a940"
            ],
            "layout": "IPY_MODEL_9bc9c54c01bb42bb9f3cd3f3b51de538"
          }
        },
        "ec350437dbaf4719b1c471900426ddcf": {
          "model_module": "@jupyter-widgets/controls",
          "model_name": "HTMLModel",
          "model_module_version": "1.5.0",
          "state": {
            "_dom_classes": [],
            "_model_module": "@jupyter-widgets/controls",
            "_model_module_version": "1.5.0",
            "_model_name": "HTMLModel",
            "_view_count": null,
            "_view_module": "@jupyter-widgets/controls",
            "_view_module_version": "1.5.0",
            "_view_name": "HTMLView",
            "description": "",
            "description_tooltip": null,
            "layout": "IPY_MODEL_d77afbfb499a40c2991b10d0ba540fda",
            "placeholder": "​",
            "style": "IPY_MODEL_c600a6d589894613a7de5e50c4eb88cb",
            "value": "100%"
          }
        },
        "1dea40b6be5d47c5af70cc9645422438": {
          "model_module": "@jupyter-widgets/controls",
          "model_name": "FloatProgressModel",
          "model_module_version": "1.5.0",
          "state": {
            "_dom_classes": [],
            "_model_module": "@jupyter-widgets/controls",
            "_model_module_version": "1.5.0",
            "_model_name": "FloatProgressModel",
            "_view_count": null,
            "_view_module": "@jupyter-widgets/controls",
            "_view_module_version": "1.5.0",
            "_view_name": "ProgressView",
            "bar_style": "success",
            "description": "",
            "description_tooltip": null,
            "layout": "IPY_MODEL_10728f49e29640c7a7c2d010d329b214",
            "max": 3,
            "min": 0,
            "orientation": "horizontal",
            "style": "IPY_MODEL_26b9f774a9534bc99a12932a33c5c28f",
            "value": 3
          }
        },
        "647e4346ece24689a1f94fd6ddd2a940": {
          "model_module": "@jupyter-widgets/controls",
          "model_name": "HTMLModel",
          "model_module_version": "1.5.0",
          "state": {
            "_dom_classes": [],
            "_model_module": "@jupyter-widgets/controls",
            "_model_module_version": "1.5.0",
            "_model_name": "HTMLModel",
            "_view_count": null,
            "_view_module": "@jupyter-widgets/controls",
            "_view_module_version": "1.5.0",
            "_view_name": "HTMLView",
            "description": "",
            "description_tooltip": null,
            "layout": "IPY_MODEL_4a9bd958611441cd98fca0bee559dfe7",
            "placeholder": "​",
            "style": "IPY_MODEL_b2a26230d2a44b6489a18a37f10b3422",
            "value": " 3/3 [00:00&lt;00:00, 95.82it/s]"
          }
        },
        "9bc9c54c01bb42bb9f3cd3f3b51de538": {
          "model_module": "@jupyter-widgets/base",
          "model_name": "LayoutModel",
          "model_module_version": "1.2.0",
          "state": {
            "_model_module": "@jupyter-widgets/base",
            "_model_module_version": "1.2.0",
            "_model_name": "LayoutModel",
            "_view_count": null,
            "_view_module": "@jupyter-widgets/base",
            "_view_module_version": "1.2.0",
            "_view_name": "LayoutView",
            "align_content": null,
            "align_items": null,
            "align_self": null,
            "border": null,
            "bottom": null,
            "display": null,
            "flex": null,
            "flex_flow": null,
            "grid_area": null,
            "grid_auto_columns": null,
            "grid_auto_flow": null,
            "grid_auto_rows": null,
            "grid_column": null,
            "grid_gap": null,
            "grid_row": null,
            "grid_template_areas": null,
            "grid_template_columns": null,
            "grid_template_rows": null,
            "height": null,
            "justify_content": null,
            "justify_items": null,
            "left": null,
            "margin": null,
            "max_height": null,
            "max_width": null,
            "min_height": null,
            "min_width": null,
            "object_fit": null,
            "object_position": null,
            "order": null,
            "overflow": null,
            "overflow_x": null,
            "overflow_y": null,
            "padding": null,
            "right": null,
            "top": null,
            "visibility": null,
            "width": null
          }
        },
        "d77afbfb499a40c2991b10d0ba540fda": {
          "model_module": "@jupyter-widgets/base",
          "model_name": "LayoutModel",
          "model_module_version": "1.2.0",
          "state": {
            "_model_module": "@jupyter-widgets/base",
            "_model_module_version": "1.2.0",
            "_model_name": "LayoutModel",
            "_view_count": null,
            "_view_module": "@jupyter-widgets/base",
            "_view_module_version": "1.2.0",
            "_view_name": "LayoutView",
            "align_content": null,
            "align_items": null,
            "align_self": null,
            "border": null,
            "bottom": null,
            "display": null,
            "flex": null,
            "flex_flow": null,
            "grid_area": null,
            "grid_auto_columns": null,
            "grid_auto_flow": null,
            "grid_auto_rows": null,
            "grid_column": null,
            "grid_gap": null,
            "grid_row": null,
            "grid_template_areas": null,
            "grid_template_columns": null,
            "grid_template_rows": null,
            "height": null,
            "justify_content": null,
            "justify_items": null,
            "left": null,
            "margin": null,
            "max_height": null,
            "max_width": null,
            "min_height": null,
            "min_width": null,
            "object_fit": null,
            "object_position": null,
            "order": null,
            "overflow": null,
            "overflow_x": null,
            "overflow_y": null,
            "padding": null,
            "right": null,
            "top": null,
            "visibility": null,
            "width": null
          }
        },
        "c600a6d589894613a7de5e50c4eb88cb": {
          "model_module": "@jupyter-widgets/controls",
          "model_name": "DescriptionStyleModel",
          "model_module_version": "1.5.0",
          "state": {
            "_model_module": "@jupyter-widgets/controls",
            "_model_module_version": "1.5.0",
            "_model_name": "DescriptionStyleModel",
            "_view_count": null,
            "_view_module": "@jupyter-widgets/base",
            "_view_module_version": "1.2.0",
            "_view_name": "StyleView",
            "description_width": ""
          }
        },
        "10728f49e29640c7a7c2d010d329b214": {
          "model_module": "@jupyter-widgets/base",
          "model_name": "LayoutModel",
          "model_module_version": "1.2.0",
          "state": {
            "_model_module": "@jupyter-widgets/base",
            "_model_module_version": "1.2.0",
            "_model_name": "LayoutModel",
            "_view_count": null,
            "_view_module": "@jupyter-widgets/base",
            "_view_module_version": "1.2.0",
            "_view_name": "LayoutView",
            "align_content": null,
            "align_items": null,
            "align_self": null,
            "border": null,
            "bottom": null,
            "display": null,
            "flex": null,
            "flex_flow": null,
            "grid_area": null,
            "grid_auto_columns": null,
            "grid_auto_flow": null,
            "grid_auto_rows": null,
            "grid_column": null,
            "grid_gap": null,
            "grid_row": null,
            "grid_template_areas": null,
            "grid_template_columns": null,
            "grid_template_rows": null,
            "height": null,
            "justify_content": null,
            "justify_items": null,
            "left": null,
            "margin": null,
            "max_height": null,
            "max_width": null,
            "min_height": null,
            "min_width": null,
            "object_fit": null,
            "object_position": null,
            "order": null,
            "overflow": null,
            "overflow_x": null,
            "overflow_y": null,
            "padding": null,
            "right": null,
            "top": null,
            "visibility": null,
            "width": null
          }
        },
        "26b9f774a9534bc99a12932a33c5c28f": {
          "model_module": "@jupyter-widgets/controls",
          "model_name": "ProgressStyleModel",
          "model_module_version": "1.5.0",
          "state": {
            "_model_module": "@jupyter-widgets/controls",
            "_model_module_version": "1.5.0",
            "_model_name": "ProgressStyleModel",
            "_view_count": null,
            "_view_module": "@jupyter-widgets/base",
            "_view_module_version": "1.2.0",
            "_view_name": "StyleView",
            "bar_color": null,
            "description_width": ""
          }
        },
        "4a9bd958611441cd98fca0bee559dfe7": {
          "model_module": "@jupyter-widgets/base",
          "model_name": "LayoutModel",
          "model_module_version": "1.2.0",
          "state": {
            "_model_module": "@jupyter-widgets/base",
            "_model_module_version": "1.2.0",
            "_model_name": "LayoutModel",
            "_view_count": null,
            "_view_module": "@jupyter-widgets/base",
            "_view_module_version": "1.2.0",
            "_view_name": "LayoutView",
            "align_content": null,
            "align_items": null,
            "align_self": null,
            "border": null,
            "bottom": null,
            "display": null,
            "flex": null,
            "flex_flow": null,
            "grid_area": null,
            "grid_auto_columns": null,
            "grid_auto_flow": null,
            "grid_auto_rows": null,
            "grid_column": null,
            "grid_gap": null,
            "grid_row": null,
            "grid_template_areas": null,
            "grid_template_columns": null,
            "grid_template_rows": null,
            "height": null,
            "justify_content": null,
            "justify_items": null,
            "left": null,
            "margin": null,
            "max_height": null,
            "max_width": null,
            "min_height": null,
            "min_width": null,
            "object_fit": null,
            "object_position": null,
            "order": null,
            "overflow": null,
            "overflow_x": null,
            "overflow_y": null,
            "padding": null,
            "right": null,
            "top": null,
            "visibility": null,
            "width": null
          }
        },
        "b2a26230d2a44b6489a18a37f10b3422": {
          "model_module": "@jupyter-widgets/controls",
          "model_name": "DescriptionStyleModel",
          "model_module_version": "1.5.0",
          "state": {
            "_model_module": "@jupyter-widgets/controls",
            "_model_module_version": "1.5.0",
            "_model_name": "DescriptionStyleModel",
            "_view_count": null,
            "_view_module": "@jupyter-widgets/base",
            "_view_module_version": "1.2.0",
            "_view_name": "StyleView",
            "description_width": ""
          }
        }
      }
    }
  },
  "nbformat": 4,
  "nbformat_minor": 0
}