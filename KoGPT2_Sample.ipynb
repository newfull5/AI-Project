{
  "nbformat": 4,
  "nbformat_minor": 0,
  "metadata": {
    "colab": {
      "name": "KoGPT2_Sample.ipynb",
      "provenance": [],
      "collapsed_sections": [],
      "authorship_tag": "ABX9TyPmmt0AAKTRjcCnSfl9rvE2",
      "include_colab_link": true
    },
    "kernelspec": {
      "name": "python3",
      "display_name": "Python 3"
    }
  },
  "cells": [
    {
      "cell_type": "markdown",
      "metadata": {
        "id": "view-in-github",
        "colab_type": "text"
      },
      "source": [
        "<a href=\"https://colab.research.google.com/github/newfull5/AI-Project/blob/master/KoGPT2_Sample.ipynb\" target=\"_parent\"><img src=\"https://colab.research.google.com/assets/colab-badge.svg\" alt=\"Open In Colab\"/></a>"
      ]
    },
    {
      "cell_type": "code",
      "metadata": {
        "id": "i8InA0VLisXY",
        "colab_type": "code",
        "colab": {}
      },
      "source": [
        "!git clone https://github.com/SKT-AI/KoGPT2.git"
      ],
      "execution_count": 0,
      "outputs": []
    },
    {
      "cell_type": "code",
      "metadata": {
        "id": "wIgmJS5Ri4en",
        "colab_type": "code",
        "colab": {}
      },
      "source": [
        "!cd KoGPT2 && pip install -r requirements.txt\n",
        "!cd KoGPT2 && pip install ."
      ],
      "execution_count": 0,
      "outputs": []
    },
    {
      "cell_type": "code",
      "metadata": {
        "id": "gHAmAhNwi8R1",
        "colab_type": "code",
        "colab": {}
      },
      "source": [
        "import torch\n",
        "from kogpt2.pytorch_kogpt2 import get_pytorch_kogpt2_model\n",
        "from gluonnlp.data import SentencepieceTokenizer\n",
        "from kogpt2.utils import get_tokenizer\n",
        "\n",
        "tok_path = get_tokenizer()\n",
        "model, vocab = get_pytorch_kogpt2_model()\n",
        "tok = SentencepieceTokenizer(tok_path)\n",
        "sent = '2019년 한해를 보내며,'\n",
        "toked = tok(sent)"
      ],
      "execution_count": 0,
      "outputs": []
    },
    {
      "cell_type": "code",
      "metadata": {
        "id": "0HylmL1PjJ67",
        "colab_type": "code",
        "colab": {
          "base_uri": "https://localhost:8080/",
          "height": 1000
        },
        "outputId": "e9d14e17-16fc-48ae-aa44-986a96e2f5c3"
      },
      "source": [
        "for _ in range(100):\n",
        "  input_ids = torch.tensor([vocab[vocab.bos_token],]  + vocab[toked]).unsqueeze(0)\n",
        "  pred = model(input_ids)[0]\n",
        "  gen = vocab.to_tokens(torch.argmax(pred, axis=-1).squeeze().tolist())[-1]\n",
        "  print(gen)\n",
        "  if gen == '</s>':\n",
        "      break\n",
        "  sent += gen.replace('▁', ' ')\n",
        "  toked = tok(sent)\n",
        "sent"
      ],
      "execution_count": 4,
      "outputs": [
        {
          "output_type": "stream",
          "text": [
            "▁\n",
            "▁\n",
            "▁\n",
            "▁\n",
            "▁\n",
            "▁\n",
            "▁\n",
            "▁\n",
            "▁\n",
            "▁\n",
            "▁\n",
            "▁\n",
            "▁\n",
            "▁\n",
            "▁\n",
            "▁\n",
            "▁\n",
            "▁\n",
            "▁\n",
            "▁\n",
            "▁\n",
            "▁\n",
            "▁\n",
            "▁\n",
            "▁\n",
            "▁\n",
            "▁\n",
            "▁\n",
            "▁\n",
            "▁\n",
            "▁\n",
            "▁\n",
            "▁\n",
            "▁\n",
            "▁\n",
            "▁\n",
            "▁\n",
            "▁\n",
            "▁\n",
            "▁\n",
            "▁\n",
            "▁\n",
            "▁\n",
            "▁\n",
            "▁\n",
            "▁\n",
            "▁\n",
            "▁\n",
            "▁\n",
            "▁\n",
            "▁\n",
            "▁\n",
            "▁\n",
            "▁\n",
            "▁\n",
            "▁\n",
            "▁\n",
            "▁\n",
            "▁\n",
            "▁\n",
            "▁\n",
            "▁\n",
            "▁\n",
            "▁\n",
            "▁\n",
            "▁\n",
            "▁\n",
            "▁\n",
            "▁\n",
            "▁\n",
            "▁\n",
            "▁\n",
            "▁\n",
            "▁\n",
            "▁\n",
            "▁\n",
            "▁\n",
            "▁\n",
            "▁\n",
            "▁\n",
            "▁\n",
            "▁\n",
            "▁\n",
            "▁\n",
            "▁\n",
            "▁\n",
            "▁\n",
            "▁\n",
            "▁\n",
            "▁\n",
            "▁\n",
            "▁\n",
            "▁\n",
            "▁\n",
            "▁\n",
            "▁\n",
            "▁\n",
            "▁\n",
            "▁\n",
            "▁\n"
          ],
          "name": "stdout"
        },
        {
          "output_type": "execute_result",
          "data": {
            "text/plain": [
              "'2019년 한해를 보내며,                                                                                                    '"
            ]
          },
          "metadata": {
            "tags": []
          },
          "execution_count": 4
        }
      ]
    },
    {
      "cell_type": "code",
      "metadata": {
        "id": "lNCr8-ZrjdfZ",
        "colab_type": "code",
        "colab": {}
      },
      "source": [
        ""
      ],
      "execution_count": 0,
      "outputs": []
    }
  ]
}