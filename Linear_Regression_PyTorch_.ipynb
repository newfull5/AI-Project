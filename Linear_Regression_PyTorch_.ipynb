{
  "nbformat": 4,
  "nbformat_minor": 0,
  "metadata": {
    "colab": {
      "name": "PyTorch_.ipynb",
      "provenance": [],
      "authorship_tag": "ABX9TyPA4+J7C6t5Mv5B+lMK576U",
      "include_colab_link": true
    },
    "kernelspec": {
      "name": "python3",
      "display_name": "Python 3"
    }
  },
  "cells": [
    {
      "cell_type": "markdown",
      "metadata": {
        "id": "view-in-github",
        "colab_type": "text"
      },
      "source": [
        "<a href=\"https://colab.research.google.com/github/newfull5/AI-Project/blob/master/Linear_Regression_PyTorch_.ipynb\" target=\"_parent\"><img src=\"https://colab.research.google.com/assets/colab-badge.svg\" alt=\"Open In Colab\"/></a>"
      ]
    },
    {
      "cell_type": "code",
      "metadata": {
        "id": "_3RZme8BtpXv",
        "colab_type": "code",
        "colab": {}
      },
      "source": [
        "import torch\n",
        "import torch.nn as nn # 신경망 모델이 포함됨, Linear함수를 사용할 예정\n",
        "import torch.optim as optim # 최적화 함수가 포함됨, SGD함수를 사용할 예정\n",
        "import torch.nn.init as init #값을 초기화하는 라이브러리"
      ],
      "execution_count": 0,
      "outputs": []
    },
    {
      "cell_type": "code",
      "metadata": {
        "id": "Y7ZZad-GnOpD",
        "colab_type": "code",
        "colab": {}
      },
      "source": [
        "x = init.uniform_(torch.Tensor(1000,1),-10,10) # -10~10 사이의 실수형 변수를 균등히 초기화, 열:1000 행:1\n",
        "noise = init.normal_(torch.FloatTensor(1000,1),std=1) # 평균 0 표준편차 1 인 정규분포 텐서를 열 1000 행 1 실수형 변수로 초기화\n",
        "y = 2*x+3 \n",
        "y_noise = 2*(x+noise)+3"
      ],
      "execution_count": 0,
      "outputs": []
    },
    {
      "cell_type": "code",
      "metadata": {
        "id": "2XPSDHkznpQL",
        "colab_type": "code",
        "colab": {}
      },
      "source": [
        "model = nn.Linear(1,1) # 1개의 특성을 가진 x 데이터, 1개의 특성을 가진 y 데이터를 인수로 사용\n",
        "loss_func = nn.L1Loss()"
      ],
      "execution_count": 0,
      "outputs": []
    },
    {
      "cell_type": "code",
      "metadata": {
        "id": "BG0MmwiUoNgn",
        "colab_type": "code",
        "colab": {}
      },
      "source": [
        "optimizer = optim.SGD(model.parameters(),lr=0.01)"
      ],
      "execution_count": 0,
      "outputs": []
    },
    {
      "cell_type": "code",
      "metadata": {
        "id": "IqD1Hw3DoZSg",
        "colab_type": "code",
        "colab": {
          "base_uri": "https://localhost:8080/",
          "height": 1000
        },
        "outputId": "d647d7d8-0621-446b-97d1-f287fa473666"
      },
      "source": [
        "label = y_noise\n",
        "\n",
        "for i in range(500):\n",
        "  optimizer.zero_grad()\n",
        "  output = model(x)\n",
        "\n",
        "  loss = loss_func(output, label)\n",
        "  loss.backward()\n",
        "  optimizer.step()\n",
        "\n",
        "  if i % 10 == 0:\n",
        "    print(loss.data)\n",
        "    param_list = list(model.parameters())\n",
        "    print(param_list[0].item(),param_list[1].item())"
      ],
      "execution_count": 22,
      "outputs": [
        {
          "output_type": "stream",
          "text": [
            "tensor(11.7366)\n",
            "-0.1984385848045349 0.01567777432501316\n",
            "tensor(9.3114)\n",
            "0.2934671938419342 0.027557773515582085\n",
            "tensor(6.9712)\n",
            "0.7756850719451904 0.04341777786612511\n",
            "tensor(4.9073)\n",
            "1.2254825830459595 0.06845778226852417\n",
            "tensor(3.5370)\n",
            "1.5805319547653198 0.11153777688741684\n",
            "tensor(3.0333)\n",
            "1.7797900438308716 0.1764177680015564\n",
            "tensor(2.8693)\n",
            "1.8755563497543335 0.2521577477455139\n",
            "tensor(2.7794)\n",
            "1.925042748451233 0.3313777446746826\n",
            "tensor(2.7062)\n",
            "1.9546878337860107 0.4109976887702942\n",
            "tensor(2.6433)\n",
            "1.9681140184402466 0.48879769444465637\n",
            "tensor(2.5840)\n",
            "1.9768617153167725 0.5651576519012451\n",
            "tensor(2.5267)\n",
            "1.9847770929336548 0.6403576731681824\n",
            "tensor(2.4715)\n",
            "1.989181399345398 0.7143175005912781\n",
            "tensor(2.4207)\n",
            "1.9905297756195068 0.7854174971580505\n",
            "tensor(2.3725)\n",
            "1.992646336555481 0.8546774387359619\n",
            "tensor(2.3256)\n",
            "1.993683934211731 0.923077404499054\n",
            "tensor(2.2800)\n",
            "1.99435293674469 0.9905374050140381\n",
            "tensor(2.2357)\n",
            "1.9967302083969116 1.0568974018096924\n",
            "tensor(2.1931)\n",
            "1.998367428779602 1.121997356414795\n",
            "tensor(2.1530)\n",
            "1.9960622787475586 1.1851574182510376\n",
            "tensor(2.1144)\n",
            "1.996713638305664 1.247177243232727\n",
            "tensor(2.0782)\n",
            "1.9976643323898315 1.3071575164794922\n",
            "tensor(2.0441)\n",
            "1.9967936277389526 1.3653775453567505\n",
            "tensor(2.0114)\n",
            "1.997498631477356 1.422437310218811\n",
            "tensor(1.9809)\n",
            "1.998907208442688 1.4774972200393677\n",
            "tensor(1.9523)\n",
            "1.9978315830230713 1.5307972431182861\n",
            "tensor(1.9254)\n",
            "1.998450517654419 1.5825772285461426\n",
            "tensor(1.9002)\n",
            "2.00012469291687 1.6326172351837158\n",
            "tensor(1.8767)\n",
            "2.004671335220337 1.6806573867797852\n",
            "tensor(1.8559)\n",
            "2.007227659225464 1.7260372638702393\n",
            "tensor(1.8366)\n",
            "2.0091538429260254 1.769797444343567\n",
            "tensor(1.8187)\n",
            "2.0117669105529785 1.8118774890899658\n",
            "tensor(1.8019)\n",
            "2.0135865211486816 1.852657437324524\n",
            "tensor(1.7860)\n",
            "2.0162107944488525 1.8924376964569092\n",
            "tensor(1.7708)\n",
            "2.0166101455688477 1.9312578439712524\n",
            "tensor(1.7562)\n",
            "2.017516613006592 1.969437837600708\n",
            "tensor(1.7431)\n",
            "2.018641710281372 2.0054378509521484\n",
            "tensor(1.7309)\n",
            "2.0202229022979736 2.0402774810791016\n",
            "tensor(1.7191)\n",
            "2.020946502685547 2.074497699737549\n",
            "tensor(1.7085)\n",
            "2.0222768783569336 2.1069576740264893\n",
            "tensor(1.6986)\n",
            "2.022038698196411 2.138237237930298\n",
            "tensor(1.6895)\n",
            "2.0217225551605225 2.1682775020599365\n",
            "tensor(1.6812)\n",
            "2.0204875469207764 2.197037696838379\n",
            "tensor(1.6733)\n",
            "2.0210793018341064 2.2250375747680664\n",
            "tensor(1.6659)\n",
            "2.0224320888519287 2.2520978450775146\n",
            "tensor(1.6592)\n",
            "2.02282977104187 2.277898073196411\n",
            "tensor(1.6530)\n",
            "2.0238752365112305 2.3027584552764893\n",
            "tensor(1.6471)\n",
            "2.025428295135498 2.326838254928589\n",
            "tensor(1.6417)\n",
            "2.0271778106689453 2.3499186038970947\n",
            "tensor(1.6368)\n",
            "2.0268149375915527 2.371898651123047\n"
          ],
          "name": "stdout"
        }
      ]
    },
    {
      "cell_type": "code",
      "metadata": {
        "id": "cf1i2zFMs8sQ",
        "colab_type": "code",
        "colab": {}
      },
      "source": [
        ""
      ],
      "execution_count": 0,
      "outputs": []
    }
  ]
}