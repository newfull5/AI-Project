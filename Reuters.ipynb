{
  "nbformat": 4,
  "nbformat_minor": 0,
  "metadata": {
    "colab": {
      "name": "Reuters.ipynb",
      "provenance": [],
      "authorship_tag": "ABX9TyN+s80N5FwRhpMZ7XLc8y0w",
      "include_colab_link": true
    },
    "kernelspec": {
      "name": "python3",
      "display_name": "Python 3"
    },
    "accelerator": "TPU"
  },
  "cells": [
    {
      "cell_type": "markdown",
      "metadata": {
        "id": "view-in-github",
        "colab_type": "text"
      },
      "source": [
        "<a href=\"https://colab.research.google.com/github/newfull5/AI-Project/blob/master/Reuters.ipynb\" target=\"_parent\"><img src=\"https://colab.research.google.com/assets/colab-badge.svg\" alt=\"Open In Colab\"/></a>"
      ]
    },
    {
      "cell_type": "code",
      "metadata": {
        "id": "AiyM7ZID3GJV",
        "colab_type": "code",
        "colab": {
          "base_uri": "https://localhost:8080/",
          "height": 1000
        },
        "outputId": "023da410-6645-43c2-e87b-83a707d760bc"
      },
      "source": [
        "from keras.datasets import reuters\n",
        "from keras.models import Sequential\n",
        "from keras.layers import Dense, LSTM, Embedding\n",
        "from keras.preprocessing import sequence\n",
        "from keras.utils import np_utils\n",
        " \n",
        "import numpy\n",
        "import tensorflow as tf\n",
        "import matplotlib.pyplot as plt\n",
        "  \n",
        "# seed 값 설정\n",
        "seed = 0\n",
        "numpy.random.seed(seed)\n",
        "tf.random.set_seed(3)\n",
        "  \n",
        "# 불러온 데이터를 학습셋과 테스트셋으로 나누기\n",
        "(X_train, Y_train), (X_test, Y_test) = reuters.load_data(num_words=1000, test_split=0.2)\n",
        "  \n",
        "# 데이터 확인하기\n",
        "category = numpy.max(Y_train) + 1\n",
        "print(category, '카테고리')\n",
        "print(len(X_train), '학습용 뉴스 기사')\n",
        "print(len(X_test), '테스트용 뉴스 기사')\n",
        "print(X_train[0])\n",
        "  \n",
        "# 데이터 전처리\n",
        "x_train = sequence.pad_sequences(X_train, maxlen=100)\n",
        "x_test = sequence.pad_sequences(X_test, maxlen=100)\n",
        "y_train = np_utils.to_categorical(Y_train)\n",
        "y_test = np_utils.to_categorical(Y_test)\n",
        "  \n",
        "# 모델의 설정\n",
        "model = Sequential()\n",
        "model.add(Embedding(1000, 100))\n",
        "model.add(LSTM(100, activation='tanh'))\n",
        "model.add(Dense(46, activation='softmax'))\n",
        "  \n",
        "# 모델의 컴파일\n",
        "model.compile(loss='categorical_crossentropy', optimizer='adam', metrics=['accuracy'])\n",
        "  \n",
        "# 모델의 실행\n",
        "history = model.fit(x_train, y_train, batch_size=100, epochs=20, validation_data=(x_test, y_test))\n",
        "  \n",
        "# 테스트 정확도 출력\n",
        "print(\"\\n Test Accuracy: %.4f\" % (model.evaluate(x_test, y_test)[1]))\n",
        "  \n",
        "# 테스트셋의 오차\n",
        "y_vloss = history.history['val_loss']\n",
        "  \n",
        "# 학습셋의 오차\n",
        "y_loss = history.history['loss']\n",
        "  \n",
        "# 그래프로 표현\n",
        "x_len = numpy.arange(len(y_loss))\n",
        "plt.plot(x_len, y_vloss, marker='.', c=\"red\", label='Testset_loss')\n",
        "plt.plot(x_len, y_loss, marker='.', c=\"blue\", label='Trainset_loss')\n",
        "  \n",
        "# 그래프에 그리드를 추가하고 레이블을 표시\n",
        "plt.legend(loc='upper right')\n",
        "plt.grid()\n",
        "plt.xlabel('epoch')\n",
        "plt.ylabel('loss')\n",
        "plt.show()"
      ],
      "execution_count": 1,
      "outputs": [
        {
          "output_type": "stream",
          "text": [
            "Using TensorFlow backend.\n"
          ],
          "name": "stderr"
        },
        {
          "output_type": "stream",
          "text": [
            "Downloading data from https://s3.amazonaws.com/text-datasets/reuters.npz\n",
            "2113536/2110848 [==============================] - 0s 0us/step\n",
            "46 카테고리\n",
            "8982 학습용 뉴스 기사\n",
            "2246 테스트용 뉴스 기사\n",
            "[1, 2, 2, 8, 43, 10, 447, 5, 25, 207, 270, 5, 2, 111, 16, 369, 186, 90, 67, 7, 89, 5, 19, 102, 6, 19, 124, 15, 90, 67, 84, 22, 482, 26, 7, 48, 4, 49, 8, 864, 39, 209, 154, 6, 151, 6, 83, 11, 15, 22, 155, 11, 15, 7, 48, 9, 2, 2, 504, 6, 258, 6, 272, 11, 15, 22, 134, 44, 11, 15, 16, 8, 197, 2, 90, 67, 52, 29, 209, 30, 32, 132, 6, 109, 15, 17, 12]\n"
          ],
          "name": "stdout"
        },
        {
          "output_type": "stream",
          "text": [
            "/usr/local/lib/python3.6/dist-packages/tensorflow/python/framework/indexed_slices.py:434: UserWarning: Converting sparse IndexedSlices to a dense Tensor of unknown shape. This may consume a large amount of memory.\n",
            "  \"Converting sparse IndexedSlices to a dense Tensor of unknown shape. \"\n"
          ],
          "name": "stderr"
        },
        {
          "output_type": "stream",
          "text": [
            "Train on 8982 samples, validate on 2246 samples\n",
            "Epoch 1/20\n",
            "8982/8982 [==============================] - 25s 3ms/step - loss: 2.5512 - accuracy: 0.3730 - val_loss: 2.0491 - val_accuracy: 0.4964\n",
            "Epoch 2/20\n",
            "8982/8982 [==============================] - 25s 3ms/step - loss: 1.9376 - accuracy: 0.5006 - val_loss: 1.8781 - val_accuracy: 0.5298\n",
            "Epoch 3/20\n",
            "8982/8982 [==============================] - 25s 3ms/step - loss: 1.8130 - accuracy: 0.5238 - val_loss: 1.7834 - val_accuracy: 0.5467\n",
            "Epoch 4/20\n",
            "8982/8982 [==============================] - 25s 3ms/step - loss: 1.7676 - accuracy: 0.5410 - val_loss: 1.7382 - val_accuracy: 0.5534\n",
            "Epoch 5/20\n",
            "8982/8982 [==============================] - 25s 3ms/step - loss: 1.6403 - accuracy: 0.5817 - val_loss: 1.6598 - val_accuracy: 0.5886\n",
            "Epoch 6/20\n",
            "8982/8982 [==============================] - 25s 3ms/step - loss: 1.5492 - accuracy: 0.6086 - val_loss: 1.5861 - val_accuracy: 0.6028\n",
            "Epoch 7/20\n",
            "8982/8982 [==============================] - 25s 3ms/step - loss: 1.5462 - accuracy: 0.6021 - val_loss: 1.5806 - val_accuracy: 0.5975\n",
            "Epoch 8/20\n",
            "8982/8982 [==============================] - 25s 3ms/step - loss: 1.4302 - accuracy: 0.6295 - val_loss: 1.5417 - val_accuracy: 0.6109\n",
            "Epoch 9/20\n",
            "8982/8982 [==============================] - 25s 3ms/step - loss: 1.3164 - accuracy: 0.6664 - val_loss: 1.4115 - val_accuracy: 0.6443\n",
            "Epoch 10/20\n",
            "8982/8982 [==============================] - 25s 3ms/step - loss: 1.2816 - accuracy: 0.6752 - val_loss: 1.3984 - val_accuracy: 0.6478\n",
            "Epoch 11/20\n",
            "8982/8982 [==============================] - 25s 3ms/step - loss: 1.1718 - accuracy: 0.7003 - val_loss: 1.3705 - val_accuracy: 0.6598\n",
            "Epoch 12/20\n",
            "8982/8982 [==============================] - 25s 3ms/step - loss: 1.1214 - accuracy: 0.7134 - val_loss: 1.2976 - val_accuracy: 0.6736\n",
            "Epoch 13/20\n",
            "8982/8982 [==============================] - 25s 3ms/step - loss: 1.0576 - accuracy: 0.7321 - val_loss: 1.2539 - val_accuracy: 0.6874\n",
            "Epoch 14/20\n",
            "8982/8982 [==============================] - 25s 3ms/step - loss: 1.0253 - accuracy: 0.7397 - val_loss: 1.2820 - val_accuracy: 0.6843\n",
            "Epoch 15/20\n",
            "8982/8982 [==============================] - 25s 3ms/step - loss: 0.9888 - accuracy: 0.7478 - val_loss: 1.2717 - val_accuracy: 0.6861\n",
            "Epoch 16/20\n",
            "8982/8982 [==============================] - 25s 3ms/step - loss: 0.9413 - accuracy: 0.7627 - val_loss: 1.2384 - val_accuracy: 0.6897\n",
            "Epoch 17/20\n",
            "8982/8982 [==============================] - 25s 3ms/step - loss: 0.9126 - accuracy: 0.7702 - val_loss: 1.2411 - val_accuracy: 0.6968\n",
            "Epoch 18/20\n",
            "8982/8982 [==============================] - 25s 3ms/step - loss: 0.8604 - accuracy: 0.7833 - val_loss: 1.2496 - val_accuracy: 0.6941\n",
            "Epoch 19/20\n",
            "8982/8982 [==============================] - 25s 3ms/step - loss: 0.8234 - accuracy: 0.7937 - val_loss: 1.2404 - val_accuracy: 0.6986\n",
            "Epoch 20/20\n",
            "8982/8982 [==============================] - 25s 3ms/step - loss: 0.7943 - accuracy: 0.8014 - val_loss: 1.2147 - val_accuracy: 0.7039\n",
            "2246/2246 [==============================] - 2s 704us/step\n",
            "\n",
            " Test Accuracy: 0.7039\n"
          ],
          "name": "stdout"
        },
        {
          "output_type": "display_data",
          "data": {
            "image/png": "[encoded data removed]",
            "text/plain": [
              "<Figure size 432x288 with 1 Axes>"
            ]
          },
          "metadata": {
            "tags": [],
            "needs_background": "light"
          }
        }
      ]
    },
    {
      "cell_type": "code",
      "metadata": {
        "id": "7eWYETgG3YvD",
        "colab_type": "code",
        "colab": {}
      },
      "source": [
        ""
      ],
      "execution_count": 0,
      "outputs": []
    }
  ]
}