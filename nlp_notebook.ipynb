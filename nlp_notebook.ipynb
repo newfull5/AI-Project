{
  "cells": [
    {
      "cell_type": "markdown",
      "metadata": {
        "id": "view-in-github",
        "colab_type": "text"
      },
      "source": [
        "<a href=\"https://colab.research.google.com/github/newfull5/AI-Project/blob/master/nlp_notebook.ipynb\" target=\"_parent\"><img src=\"https://colab.research.google.com/assets/colab-badge.svg\" alt=\"Open In Colab\"/></a>"
      ]
    },
    {
      "cell_type": "code",
      "execution_count": null,
      "metadata": {
        "id": "65936BMaJxKL"
      },
      "outputs": [],
      "source": [
        "!pip install wandb transformers datasets torch tqdm"
      ]
    },
    {
      "cell_type": "code",
      "execution_count": null,
      "metadata": {
        "id": "RWmvXMGcZ3Mi"
      },
      "outputs": [],
      "source": [
        "import argparse\n",
        "\n",
        "def _get_parser():  \n",
        "    parser = argparse.ArgumentParser()\n",
        "    parser.add_argument()\n",
        "    return parser\n",
        "   \n",
        "\n",
        "args = argparse.Namespace(  \n",
        "  model_name=\"klue/bert-base\", \n",
        "  tokenizer_name=\"klue/bert-base\",\n",
        "  dataset_name=\"nsmc\",\n",
        "  save_dir_path=\"./\",\n",
        "  val_check_step=50,\n",
        "  batch_size=4,\n",
        "  max_epochs=3,\n",
        "  patient=3,\n",
        "  lr=3e-5\n",
        ")"
      ]
    },
    {
      "cell_type": "code",
      "execution_count": null,
      "metadata": {
        "id": "RZxMYRleaoRE"
      },
      "outputs": [],
      "source": [
        "from torch.utils.data import Dataset\n",
        "from transformers import AutoTokenizer\n",
        "from datasets import load_dataset\n",
        "\n",
        "class NsmcDataset(Dataset):\n",
        "  def __init__(self, args, stage):\n",
        "    super().__init__()\n",
        "    self.stage = stage\n",
        "    self.args = args\n",
        "    self.save_dir = args.save_dir_path\n",
        "    self.documents, self.labels = self._get_data(args, stage)\n",
        "\n",
        "  def _get_data(self, args, stage):\n",
        "    dataset = load_dataset(args.dataset_name)\n",
        "    tokenizer = AutoTokenizer.from_pretrained(args.tokenizer_name)\n",
        "\n",
        "    if stage == 'train':\n",
        "      documents = dataset['train']['document']\n",
        "      labels = dataset['train']['label']\n",
        "    elif stage == 'valid':\n",
        "      documents = dataset['test']['document'][:25000]\n",
        "      labels = dataset['test']['label'][:25000]\n",
        "    elif stage == 'test':\n",
        "      documents = dataset['test']['document'][25000:]\n",
        "      labels = dataset['test']['label'][25000:]\n",
        "    else:\n",
        "      raise Exception(\"you can set stage only 'train', 'test' or 'valid'\")\n",
        "\n",
        "    return [self._preproc(tokenizer, text) for text in documents], labels\n",
        "\n",
        "  def _preproc(self, tokenizer, text):\n",
        "    tokenized = tokenizer(\n",
        "      text=text,\n",
        "      padding='max_length',\n",
        "      truncation=True,\n",
        "      return_tensors='pt'\n",
        "    )\n",
        "    return tokenized\n",
        "      \n",
        "  def __len__(self):\n",
        "    return len(self.labels)\n",
        "\n",
        "  def __getitem__(self, idx):\n",
        "    return self.documents[idx], self.labels[idx]"
      ]
    },
    {
      "cell_type": "code",
      "execution_count": null,
      "metadata": {
        "id": "dpc1SPPmP1Ns"
      },
      "outputs": [],
      "source": [
        "from torch.utils.data import DataLoader\n",
        "\n",
        "train_loader = DataLoader(\n",
        "    dataset = NsmcDataset(args, 'train'),\n",
        "    batch_size = args.batch_size,\n",
        "    shuffle = True\n",
        ")\n",
        "\n",
        "valid_loader = DataLoader(\n",
        "    dataset = NsmcDataset(args, 'valid'),\n",
        "    batch_size = args.batch_size,\n",
        "    shuffle = True\n",
        ")\n",
        "\n",
        "test_loader = DataLoader(\n",
        "    dataset = NsmcDataset(args, 'test'),\n",
        "    batch_size = args.batch_size,\n",
        "    shuffle = True\n",
        ")"
      ]
    },
    {
      "cell_type": "code",
      "execution_count": null,
      "metadata": {
        "id": "OG4DHehmRzeM"
      },
      "outputs": [],
      "source": [
        "from transformers import AutoModelForSequenceClassification\n",
        "import torch\n",
        "from torch import nn\n",
        "\n",
        "class Model(nn.Module):\n",
        "  def __init__(self, args):\n",
        "    super(Model, self).__init__()\n",
        "    self.model = AutoModelForSequenceClassification.from_pretrained(args.model_name, num_labels=2)\n",
        "    self.device = torch.device('cuda' if torch.cuda.is_available() else 'cpu')\n",
        "    self.save_dir = args.save_dir_path\n",
        "    self.criterion = nn.CrossEntropyLoss()\n",
        "    self.model.to(self.device)\n",
        "\n",
        "  def forward(self, batch):\n",
        "    inputs, labels = batch\n",
        "    inputs['input_ids'] = self._move_to_cuda(inputs['input_ids'].squeeze())\n",
        "    inputs['attention_mask'] = self._move_to_cuda(inputs['attention_mask'])\n",
        "    labels = self._move_to_cuda(labels)\n",
        "\n",
        "    outputs = self.model(\n",
        "        input_ids=inputs[\"input_ids\"],\n",
        "        attention_mask=inputs[\"attention_mask\"],\n",
        "    )\n",
        "    loss = self.criterion(outputs.logits, labels)\n",
        "\n",
        "    return outputs.logits, loss\n",
        "\n",
        "  def _move_to_cuda(self, inputs):\n",
        "    if torch.is_tensor(inputs):\n",
        "      return inputs.to(self.device)\n",
        "    elif isinstance(inputs, list):\n",
        "      return [self._move_to_cuda(x) for x in inputs]\n",
        "    elif isinstance(inputs, dict):\n",
        "      return {key: self._move_to_cuda(value) for key, value in inputs.items()}\n",
        "    else:\n",
        "      return inputs\n",
        "\n",
        "  def save(self):\n",
        "    self.model.save_pretrained(self.save_dir)\n",
        "\n",
        "  def load(self):\n",
        "    self.model.load_state_dict(\n",
        "        torch.load(self.save_dir + 'pytorch_model.bin', map_location=torch.device(self.device))\n",
        "    )"
      ]
    },
    {
      "cell_type": "code",
      "execution_count": null,
      "metadata": {
        "id": "t-OF8h-uXdB3"
      },
      "outputs": [],
      "source": [
        "from tqdm import tqdm\n",
        "import wandb\n",
        "\n",
        "class Trainer:\n",
        "  def __init__(self, args, model, train_loader, valid_loader):\n",
        "    self.model = model\n",
        "    self.train_loader = train_loader\n",
        "    self.valid_loader = valid_loader\n",
        "    self.max_epochs = args.max_epochs\n",
        "    self.val_check_step = args.val_check_step\n",
        "    self.optimizer = torch.optim.AdamW(self.model.parameters(), lr=args.lr)\n",
        "    self.epoch = 0\n",
        "\n",
        "  def train_step(self):\n",
        "    self.model.train()\n",
        "    total_train_loss = 0\n",
        "    train_steps = 0\n",
        "    for step, batch in tqdm(enumerate(self.train_loader), desc=f'train epoch: {self.epoch}'):\n",
        "      logit, loss = self.model(batch)\n",
        "      self.optimizer.zero_grad()\n",
        "      loss.backward()\n",
        "      self.optimizer.step()\n",
        "      total_train_loss = float(loss)\n",
        "      train_steps += 1\n",
        "      \n",
        "      if step % self.val_check_step == 0 and step != 0:\n",
        "        wandb.log({'train_loss': (total_train_loss/train_steps)})\n",
        "        self.valid_step(1)\n",
        "        \n",
        "  def valid_step(self, epoch):\n",
        "    self.model.eval()\n",
        "    total_val_loss = 0\n",
        "    val_steps = 0\n",
        "    with torch.no_grad():\n",
        "      for step, batch in tqdm(enumerate(self.valid_loader), desc='valid step'):\n",
        "        _, loss = self.model(batch)\n",
        "        total_val_loss += float(loss)\n",
        "        val_steps += 1\n",
        "\n",
        "    wandb.log({'val_loss': (total_val_loss/val_steps)})\n",
        "    \n",
        "  def fit(self):\n",
        "    for epoch in range(1):\n",
        "      self.train_step()"
      ]
    },
    {
      "cell_type": "code",
      "execution_count": null,
      "metadata": {
        "colab": {
          "base_uri": "https://localhost:8080/"
        },
        "id": "GmjYAXJFba_T",
        "outputId": "e26d280f-d682-4ed3-eb07-9bbd51433699"
      },
      "outputs": [
        {
          "name": "stderr",
          "output_type": "stream",
          "text": [
            "Some weights of the model checkpoint at klue/bert-base were not used when initializing BertForSequenceClassification: ['cls.predictions.transform.LayerNorm.bias', 'cls.predictions.transform.dense.weight', 'cls.predictions.transform.dense.bias', 'cls.predictions.decoder.weight', 'cls.predictions.bias', 'cls.seq_relationship.weight', 'cls.predictions.decoder.bias', 'cls.seq_relationship.bias', 'cls.predictions.transform.LayerNorm.weight']\n",
            "- This IS expected if you are initializing BertForSequenceClassification from the checkpoint of a model trained on another task or with another architecture (e.g. initializing a BertForSequenceClassification model from a BertForPreTraining model).\n",
            "- This IS NOT expected if you are initializing BertForSequenceClassification from the checkpoint of a model that you expect to be exactly identical (initializing a BertForSequenceClassification model from a BertForSequenceClassification model).\n",
            "Some weights of BertForSequenceClassification were not initialized from the model checkpoint at klue/bert-base and are newly initialized: ['classifier.bias', 'classifier.weight']\n",
            "You should probably TRAIN this model on a down-stream task to be able to use it for predictions and inference.\n"
          ]
        }
      ],
      "source": [
        "model = Model(args)"
      ]
    },
    {
      "cell_type": "code",
      "execution_count": null,
      "metadata": {
        "id": "Ll3ODpvtb2ks"
      },
      "outputs": [],
      "source": [
        "trainer = Trainer(\n",
        "    args=args,\n",
        "    model=model,\n",
        "    train_loader=test_loader,\n",
        "    valid_loader=test_loader\n",
        ")"
      ]
    },
    {
      "cell_type": "code",
      "execution_count": null,
      "metadata": {
        "colab": {
          "base_uri": "https://localhost:8080/",
          "height": 249
        },
        "id": "cIGxYJYo6nWz",
        "outputId": "7e794f94-f4ce-41a7-b968-4b8fab4387a3"
      },
      "outputs": [
        {
          "name": "stderr",
          "output_type": "stream",
          "text": [
            "ERROR:wandb.jupyter:Failed to detect the name of this notebook, you can set it manually with the WANDB_NOTEBOOK_NAME environment variable to enable code saving.\n"
          ]
        },
        {
          "data": {
            "application/javascript": [
              "\n",
              "        window._wandbApiKey = new Promise((resolve, reject) => {\n",
              "            function loadScript(url) {\n",
              "            return new Promise(function(resolve, reject) {\n",
              "                let newScript = document.createElement(\"script\");\n",
              "                newScript.onerror = reject;\n",
              "                newScript.onload = resolve;\n",
              "                document.body.appendChild(newScript);\n",
              "                newScript.src = url;\n",
              "            });\n",
              "            }\n",
              "            loadScript(\"https://cdn.jsdelivr.net/npm/postmate/build/postmate.min.js\").then(() => {\n",
              "            const iframe = document.createElement('iframe')\n",
              "            iframe.style.cssText = \"width:0;height:0;border:none\"\n",
              "            document.body.appendChild(iframe)\n",
              "            const handshake = new Postmate({\n",
              "                container: iframe,\n",
              "                url: 'https://wandb.ai/authorize'\n",
              "            });\n",
              "            const timeout = setTimeout(() => reject(\"Couldn't auto authenticate\"), 5000)\n",
              "            handshake.then(function(child) {\n",
              "                child.on('authorize', data => {\n",
              "                    clearTimeout(timeout)\n",
              "                    resolve(data)\n",
              "                });\n",
              "            });\n",
              "            })\n",
              "        });\n",
              "    "
            ],
            "text/plain": [
              "<IPython.core.display.Javascript object>"
            ]
          },
          "metadata": {},
          "output_type": "display_data"
        },
        {
          "name": "stderr",
          "output_type": "stream",
          "text": [
            "\u001b[34m\u001b[1mwandb\u001b[0m: Logging into wandb.ai. (Learn how to deploy a W&B server locally: https://wandb.me/wandb-server)\n",
            "\u001b[34m\u001b[1mwandb\u001b[0m: You can find your API key in your browser here: https://wandb.ai/authorize\n",
            "wandb: Paste an API key from your profile and hit enter, or press ctrl+c to quit: "
          ]
        },
        {
          "name": "stdout",
          "output_type": "stream",
          "text": [
            "··········\n"
          ]
        },
        {
          "name": "stderr",
          "output_type": "stream",
          "text": [
            "\u001b[34m\u001b[1mwandb\u001b[0m: Appending key for api.wandb.ai to your netrc file: /root/.netrc\n"
          ]
        },
        {
          "data": {
            "text/html": [
              "Tracking run with wandb version 0.13.9"
            ],
            "text/plain": [
              "<IPython.core.display.HTML object>"
            ]
          },
          "metadata": {},
          "output_type": "display_data"
        },
        {
          "data": {
            "text/html": [
              "Run data is saved locally in <code>/content/wandb/run-20230113_113850-2izc8us5</code>"
            ],
            "text/plain": [
              "<IPython.core.display.HTML object>"
            ]
          },
          "metadata": {},
          "output_type": "display_data"
        },
        {
          "data": {
            "text/html": [
              "Syncing run <strong><a href=\"https://wandb.ai/newfull5/uncategorized/runs/2izc8us5\" target=\"_blank\">laced-glitter-152</a></strong> to <a href=\"https://wandb.ai/newfull5/uncategorized\" target=\"_blank\">Weights & Biases</a> (<a href=\"https://wandb.me/run\" target=\"_blank\">docs</a>)<br/>"
            ],
            "text/plain": [
              "<IPython.core.display.HTML object>"
            ]
          },
          "metadata": {},
          "output_type": "display_data"
        },
        {
          "data": {
            "text/html": [
              " View project at <a href=\"https://wandb.ai/newfull5/uncategorized\" target=\"_blank\">https://wandb.ai/newfull5/uncategorized</a>"
            ],
            "text/plain": [
              "<IPython.core.display.HTML object>"
            ]
          },
          "metadata": {},
          "output_type": "display_data"
        },
        {
          "data": {
            "text/html": [
              " View run at <a href=\"https://wandb.ai/newfull5/uncategorized/runs/2izc8us5\" target=\"_blank\">https://wandb.ai/newfull5/uncategorized/runs/2izc8us5</a>"
            ],
            "text/plain": [
              "<IPython.core.display.HTML object>"
            ]
          },
          "metadata": {},
          "output_type": "display_data"
        },
        {
          "data": {
            "text/html": [
              "<button onClick=\"this.nextSibling.style.display='block';this.style.display='none';\">Display W&B run</button><iframe src=\"https://wandb.ai/newfull5/uncategorized/runs/2izc8us5?jupyter=true\" style=\"border:none;width:100%;height:420px;display:none;\"></iframe>"
            ],
            "text/plain": [
              "<wandb.sdk.wandb_run.Run at 0x7f7658d77130>"
            ]
          },
          "execution_count": 33,
          "metadata": {},
          "output_type": "execute_result"
        }
      ],
      "source": [
        "import wandb\n",
        "\n",
        "wandb.init('Topic Classification')"
      ]
    },
    {
      "cell_type": "code",
      "execution_count": null,
      "metadata": {
        "colab": {
          "background_save": true
        },
        "id": "R9ZVd08beVi3"
      },
      "outputs": [],
      "source": [
        "trainer.fit()"
      ]
    },
    {
      "cell_type": "code",
      "execution_count": null,
      "metadata": {
        "id": "5jVBF8Rw5BZ3"
      },
      "outputs": [],
      "source": []
    }
  ],
  "metadata": {
    "accelerator": "GPU",
    "colab": {
      "machine_shape": "hm",
      "provenance": [],
      "authorship_tag": "ABX9TyPYjY8jWQ1MVYY4qoV6Uw4K",
      "include_colab_link": true
    },
    "gpuClass": "standard",
    "kernelspec": {
      "display_name": "Python 3",
      "name": "python3"
    },
    "language_info": {
      "name": "python"
    }
  },
  "nbformat": 4,
  "nbformat_minor": 0
}