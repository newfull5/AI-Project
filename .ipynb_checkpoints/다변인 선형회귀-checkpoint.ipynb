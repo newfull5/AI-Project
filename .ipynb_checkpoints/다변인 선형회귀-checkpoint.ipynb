{
 "cells": [
  {
   "cell_type": "code",
   "execution_count": 123,
   "metadata": {},
   "outputs": [],
   "source": [
    "import tensorflow as tf\n",
    "import numpy as np\n",
    "from pandas.io.parsers import read_csv"
   ]
  },
  {
   "cell_type": "code",
   "execution_count": 124,
   "metadata": {},
   "outputs": [],
   "source": [
    "data = read_csv('price data.csv', sep=\",\")"
   ]
  },
  {
   "cell_type": "code",
   "execution_count": 125,
   "metadata": {},
   "outputs": [],
   "source": [
    "xy = np.array(data)"
   ]
  },
  {
   "cell_type": "code",
   "execution_count": 126,
   "metadata": {},
   "outputs": [],
   "source": [
    "x_data = xy[:, 1:-1]"
   ]
  },
  {
   "cell_type": "code",
   "execution_count": 127,
   "metadata": {},
   "outputs": [],
   "source": [
    "y_data = xy[:, -1]"
   ]
  },
  {
   "cell_type": "code",
   "execution_count": 128,
   "metadata": {},
   "outputs": [],
   "source": [
    "train_x, test_x = x_data[:2800], x_data[2800:]\n",
    "train_y, test_y = y_data[:2800], y_data[2800:]"
   ]
  },
  {
   "cell_type": "code",
   "execution_count": 129,
   "metadata": {},
   "outputs": [
    {
     "data": {
      "text/plain": [
       "array([[ -4.9, -11. ,   0.9,   0. ],\n",
       "       [ -3.1,  -5.5,   5.5,   0.8],\n",
       "       [ -2.9,  -6.9,   1.4,   0. ],\n",
       "       ...,\n",
       "       [  2.9,  -2.1,   8. ,   0. ],\n",
       "       [  2.9,  -1.6,   7.1,   0.6],\n",
       "       [  2.1,  -2. ,   5.8,   0.4]])"
      ]
     },
     "execution_count": 129,
     "metadata": {},
     "output_type": "execute_result"
    }
   ],
   "source": [
    "x_data"
   ]
  },
  {
   "cell_type": "code",
   "execution_count": 130,
   "metadata": {},
   "outputs": [
    {
     "data": {
      "text/plain": [
       "array([2123., 2123., 2123., ..., 2901., 2901., 2901.])"
      ]
     },
     "execution_count": 130,
     "metadata": {},
     "output_type": "execute_result"
    }
   ],
   "source": [
    "y_data"
   ]
  },
  {
   "cell_type": "code",
   "execution_count": 137,
   "metadata": {},
   "outputs": [],
   "source": [
    "class mlraWithTF():\n",
    "    def __init__(self):\n",
    "        self.epochs = 100\n",
    "        self.learning_rate = 0.00005\n",
    "        #Variable setting\n",
    "        self.w = tf.Variable(tf.random.uniform([4,1], dtype=tf.double))\n",
    "        self.b = tf.Variable(tf.zeros([1], dtype=tf.double))\n",
    "\n",
    "    def buildModel(self, x, y):\n",
    "        with tf.GradientTape() as tape:\n",
    "            hypothesis = tf.matmul(x, self.w) + self.b\n",
    "            loss = tf.reduce_mean(tf.square(hypothesis - y))\n",
    "            loss_w, loss_b = tape.gradient(loss, [self.w, self.b])\n",
    "        self.w.assign_sub(loss_w * self.learning_rate)\n",
    "        self.b.assign_sub(loss_b * self.learning_rate)\n",
    "        return loss\n",
    "    \n",
    "    def trainModel(self, x, y):\n",
    "        data = tf.data.Dataset.from_tensor_slices((x, y))\n",
    "        data = data.shuffle(buffer_size=50).batch(10)\n",
    "\n",
    "        loss_mem = []\n",
    "        for e in range(self.epochs):\n",
    "            for each, (x,y) in enumerate(data):\n",
    "                loss = self.buildModel(x, y)\n",
    "            print('epoch {0}: loss is {1:.4f}'.format(e, float(loss)))\n",
    "            loss_mem.append(loss)\n",
    "        return loss_mem\n",
    "    \n",
    "    def evalModel(self, x, y):\n",
    "        y_hat = tf.matmul(x, self.w) + self.b\n",
    "        mse = tf.reduce_mean(tf.square(y_hat - y))\n",
    "        rmse = tf.sqrt(mse)\n",
    "        return rmse"
   ]
  },
  {
   "cell_type": "code",
   "execution_count": 138,
   "metadata": {},
   "outputs": [
    {
     "name": "stdout",
     "output_type": "stream",
     "text": [
      "epoch 0: loss is 4147556.1813\n",
      "epoch 1: loss is 3916348.3958\n",
      "epoch 2: loss is 4571171.2030\n",
      "epoch 3: loss is 4015367.7751\n",
      "epoch 4: loss is 2283070.9337\n",
      "epoch 5: loss is 3946942.2536\n",
      "epoch 6: loss is 2486900.0345\n",
      "epoch 7: loss is 3562266.5484\n",
      "epoch 8: loss is 2577552.6528\n",
      "epoch 9: loss is 4407468.5364\n",
      "epoch 10: loss is 2867049.9334\n",
      "epoch 11: loss is 4088659.2402\n",
      "epoch 12: loss is 3230099.6391\n",
      "epoch 13: loss is 3185646.1108\n",
      "epoch 14: loss is 4274697.4755\n",
      "epoch 15: loss is 2639497.6176\n",
      "epoch 16: loss is 2385493.3467\n",
      "epoch 17: loss is 2599035.4879\n",
      "epoch 18: loss is 3846532.6534\n",
      "epoch 19: loss is 3141883.4065\n",
      "epoch 20: loss is 2893110.5134\n",
      "epoch 21: loss is 1606593.9135\n",
      "epoch 22: loss is 3376221.7310\n",
      "epoch 23: loss is 3905179.4382\n",
      "epoch 24: loss is 2966205.3870\n",
      "epoch 25: loss is 3051830.7363\n",
      "epoch 26: loss is 3033322.8534\n",
      "epoch 27: loss is 2875138.1253\n",
      "epoch 28: loss is 2575967.7374\n",
      "epoch 29: loss is 3175649.9594\n",
      "epoch 30: loss is 3673228.1367\n",
      "epoch 31: loss is 3369480.9686\n",
      "epoch 32: loss is 3949714.1662\n",
      "epoch 33: loss is 4296493.0656\n",
      "epoch 34: loss is 3467261.7887\n",
      "epoch 35: loss is 2814773.8085\n",
      "epoch 36: loss is 2649045.4692\n",
      "epoch 37: loss is 3906160.2005\n",
      "epoch 38: loss is 2022956.7245\n",
      "epoch 39: loss is 3839299.5783\n",
      "epoch 40: loss is 3175350.1008\n",
      "epoch 41: loss is 3971756.0738\n",
      "epoch 42: loss is 2620978.7893\n",
      "epoch 43: loss is 3320814.6329\n",
      "epoch 44: loss is 3184339.9326\n",
      "epoch 45: loss is 3621268.4232\n",
      "epoch 46: loss is 3381780.8230\n",
      "epoch 47: loss is 2854370.5391\n",
      "epoch 48: loss is 2709455.6263\n",
      "epoch 49: loss is 2522560.0704\n",
      "epoch 50: loss is 4446767.4634\n",
      "epoch 51: loss is 2694497.8771\n",
      "epoch 52: loss is 2830177.1618\n",
      "epoch 53: loss is 3343186.3833\n",
      "epoch 54: loss is 3776581.3420\n",
      "epoch 55: loss is 3635096.2271\n",
      "epoch 56: loss is 4143210.6720\n",
      "epoch 57: loss is 3044615.3420\n",
      "epoch 58: loss is 3443402.5331\n",
      "epoch 59: loss is 4835046.6868\n",
      "epoch 60: loss is 4702739.7115\n",
      "epoch 61: loss is 2919878.8235\n",
      "epoch 62: loss is 3992487.7118\n",
      "epoch 63: loss is 2765760.1888\n",
      "epoch 64: loss is 2210517.9327\n",
      "epoch 65: loss is 2766284.2373\n",
      "epoch 66: loss is 3465146.1368\n",
      "epoch 67: loss is 3220061.6132\n",
      "epoch 68: loss is 2376840.8733\n",
      "epoch 69: loss is 3146331.4588\n",
      "epoch 70: loss is 3149377.9292\n",
      "epoch 71: loss is 2566031.0272\n",
      "epoch 72: loss is 2045694.8631\n",
      "epoch 73: loss is 2858737.2931\n",
      "epoch 74: loss is 3174753.7604\n",
      "epoch 75: loss is 2960563.2449\n",
      "epoch 76: loss is 3428795.3407\n",
      "epoch 77: loss is 4382725.2601\n",
      "epoch 78: loss is 1938550.5387\n",
      "epoch 79: loss is 4398761.9517\n",
      "epoch 80: loss is 2767980.8953\n",
      "epoch 81: loss is 3011975.1188\n",
      "epoch 82: loss is 2880323.4412\n",
      "epoch 83: loss is 3313281.7609\n",
      "epoch 84: loss is 2471962.6570\n",
      "epoch 85: loss is 3032444.1342\n",
      "epoch 86: loss is 3346512.0326\n",
      "epoch 87: loss is 2604357.3139\n",
      "epoch 88: loss is 4976720.7675\n",
      "epoch 89: loss is 3405699.9587\n",
      "epoch 90: loss is 4270808.2532\n",
      "epoch 91: loss is 2052171.7344\n",
      "epoch 92: loss is 4144929.1543\n",
      "epoch 93: loss is 2260012.5797\n",
      "epoch 94: loss is 3404166.6532\n",
      "epoch 95: loss is 3378642.2592\n",
      "epoch 96: loss is 3346272.0990\n",
      "epoch 97: loss is 4638315.1143\n",
      "epoch 98: loss is 3523858.7487\n",
      "epoch 99: loss is 4854904.2716\n"
     ]
    },
    {
     "data": {
      "image/png": "[encoded data removed]",
      "text/plain": [
       "<Figure size 432x288 with 1 Axes>"
      ]
     },
     "metadata": {
      "needs_background": "light"
     },
     "output_type": "display_data"
    }
   ],
   "source": [
    "model = mlraWithTF()\n",
    "loss_mem = model.trainModel(train_x, train_y)\n",
    "\n",
    "x_epoch = list(range(len(loss_mem)))\n",
    "\n",
    "plt.plot(x_epoch, loss_mem)\n",
    "plt.xlabel('epochs')\n",
    "plt.ylabel('Loss status')\n",
    "plt.show()"
   ]
  },
  {
   "cell_type": "code",
   "execution_count": null,
   "metadata": {},
   "outputs": [],
   "source": []
  }
 ],
 "metadata": {
  "kernelspec": {
   "display_name": "Python 3",
   "language": "python",
   "name": "python3"
  },
  "language_info": {
   "codemirror_mode": {
    "name": "ipython",
    "version": 3
   },
   "file_extension": ".py",
   "mimetype": "text/x-python",
   "name": "python",
   "nbconvert_exporter": "python",
   "pygments_lexer": "ipython3",
   "version": "3.7.4"
  }
 },
 "nbformat": 4,
 "nbformat_minor": 2
}
