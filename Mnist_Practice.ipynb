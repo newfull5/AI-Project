{
  "nbformat": 4,
  "nbformat_minor": 0,
  "metadata": {
    "colab": {
      "name": "Mnist_Practice.ipynb",
      "provenance": [],
      "authorship_tag": "ABX9TyMtkjrrGi8eRazk49NzsHDN",
      "include_colab_link": true
    },
    "kernelspec": {
      "name": "python3",
      "display_name": "Python 3"
    }
  },
  "cells": [
    {
      "cell_type": "markdown",
      "metadata": {
        "id": "view-in-github",
        "colab_type": "text"
      },
      "source": [
        "<a href=\"https://colab.research.google.com/github/newfull5/AI-Project/blob/master/Mnist_Practice.ipynb\" target=\"_parent\"><img src=\"https://colab.research.google.com/assets/colab-badge.svg\" alt=\"Open In Colab\"/></a>"
      ]
    },
    {
      "cell_type": "code",
      "metadata": {
        "id": "RH8qAZ9amy_R",
        "colab_type": "code",
        "colab": {}
      },
      "source": [
        "from keras.datasets import mnist #학습 데이터 다운로드\n",
        "from keras.utils import np_utils #바이너리화(원 핫 인코딩)를 위해 필요"
      ],
      "execution_count": 0,
      "outputs": []
    },
    {
      "cell_type": "code",
      "metadata": {
        "id": "OQQFwvwCOUU4",
        "colab_type": "code",
        "colab": {}
      },
      "source": [
        "import numpy as np\n",
        "import tensorflow as tf\n",
        "import sys"
      ],
      "execution_count": 0,
      "outputs": []
    },
    {
      "cell_type": "code",
      "metadata": {
        "id": "Okd9T9KIOijA",
        "colab_type": "code",
        "colab": {}
      },
      "source": [
        "#seed 값 설정\n",
        "#컴퓨터는 랜덤테이블에서 난수를 가져오는데 시드 값을 일정히 하여 항상 같은 난수가 생성되게끔 한다.\n",
        "seed = 0\n",
        "tf.random.set_seed(seed)\n",
        "np.random.seed(seed)"
      ],
      "execution_count": 0,
      "outputs": []
    },
    {
      "cell_type": "code",
      "metadata": {
        "id": "sILFJtywOx7R",
        "colab_type": "code",
        "colab": {}
      },
      "source": [
        "#데이터 로딩\n",
        "(X_train, Y_train), (X_test, Y_test) = mnist.load_data()"
      ],
      "execution_count": 0,
      "outputs": []
    },
    {
      "cell_type": "code",
      "metadata": {
        "id": "e4SM1_wvO6C0",
        "colab_type": "code",
        "colab": {
          "base_uri": "https://localhost:8080/",
          "height": 52
        },
        "outputId": "70fe97e2-6e68-4fa7-f089-b67418d49319"
      },
      "source": [
        "print('학습 데이터의 개수',X_train.shape[0])\n",
        "print('테스트 데이터의 개수',X_test.shape[0])"
      ],
      "execution_count": 59,
      "outputs": [
        {
          "output_type": "stream",
          "text": [
            "학습 데이터의 개수 60000\n",
            "테스트 데이터의 개수 10000\n"
          ],
          "name": "stdout"
        }
      ]
    },
    {
      "cell_type": "code",
      "metadata": {
        "id": "vKepeknePA47",
        "colab_type": "code",
        "colab": {
          "base_uri": "https://localhost:8080/",
          "height": 530
        },
        "outputId": "cc6b3074-c413-45c7-b292-7addc6ca7ccc"
      },
      "source": [
        "for x in X_train[0]:\n",
        "    for i in x:\n",
        "        sys.stdout.write('%d\\t' % i)\n",
        "    sys.stdout.write('\\n')"
      ],
      "execution_count": 60,
      "outputs": [
        {
          "output_type": "stream",
          "text": [
            "0\t0\t0\t0\t0\t0\t0\t0\t0\t0\t0\t0\t0\t0\t0\t0\t0\t0\t0\t0\t0\t0\t0\t0\t0\t0\t0\t0\t\n",
            "0\t0\t0\t0\t0\t0\t0\t0\t0\t0\t0\t0\t0\t0\t0\t0\t0\t0\t0\t0\t0\t0\t0\t0\t0\t0\t0\t0\t\n",
            "0\t0\t0\t0\t0\t0\t0\t0\t0\t0\t0\t0\t0\t0\t0\t0\t0\t0\t0\t0\t0\t0\t0\t0\t0\t0\t0\t0\t\n",
            "0\t0\t0\t0\t0\t0\t0\t0\t0\t0\t0\t0\t0\t0\t0\t0\t0\t0\t0\t0\t0\t0\t0\t0\t0\t0\t0\t0\t\n",
            "0\t0\t0\t0\t0\t0\t0\t0\t0\t0\t0\t0\t0\t0\t0\t0\t0\t0\t0\t0\t0\t0\t0\t0\t0\t0\t0\t0\t\n",
            "0\t0\t0\t0\t0\t0\t0\t0\t0\t0\t0\t0\t3\t18\t18\t18\t126\t136\t175\t26\t166\t255\t247\t127\t0\t0\t0\t0\t\n",
            "0\t0\t0\t0\t0\t0\t0\t0\t30\t36\t94\t154\t170\t253\t253\t253\t253\t253\t225\t172\t253\t242\t195\t64\t0\t0\t0\t0\t\n",
            "0\t0\t0\t0\t0\t0\t0\t49\t238\t253\t253\t253\t253\t253\t253\t253\t253\t251\t93\t82\t82\t56\t39\t0\t0\t0\t0\t0\t\n",
            "0\t0\t0\t0\t0\t0\t0\t18\t219\t253\t253\t253\t253\t253\t198\t182\t247\t241\t0\t0\t0\t0\t0\t0\t0\t0\t0\t0\t\n",
            "0\t0\t0\t0\t0\t0\t0\t0\t80\t156\t107\t253\t253\t205\t11\t0\t43\t154\t0\t0\t0\t0\t0\t0\t0\t0\t0\t0\t\n",
            "0\t0\t0\t0\t0\t0\t0\t0\t0\t14\t1\t154\t253\t90\t0\t0\t0\t0\t0\t0\t0\t0\t0\t0\t0\t0\t0\t0\t\n",
            "0\t0\t0\t0\t0\t0\t0\t0\t0\t0\t0\t139\t253\t190\t2\t0\t0\t0\t0\t0\t0\t0\t0\t0\t0\t0\t0\t0\t\n",
            "0\t0\t0\t0\t0\t0\t0\t0\t0\t0\t0\t11\t190\t253\t70\t0\t0\t0\t0\t0\t0\t0\t0\t0\t0\t0\t0\t0\t\n",
            "0\t0\t0\t0\t0\t0\t0\t0\t0\t0\t0\t0\t35\t241\t225\t160\t108\t1\t0\t0\t0\t0\t0\t0\t0\t0\t0\t0\t\n",
            "0\t0\t0\t0\t0\t0\t0\t0\t0\t0\t0\t0\t0\t81\t240\t253\t253\t119\t25\t0\t0\t0\t0\t0\t0\t0\t0\t0\t\n",
            "0\t0\t0\t0\t0\t0\t0\t0\t0\t0\t0\t0\t0\t0\t45\t186\t253\t253\t150\t27\t0\t0\t0\t0\t0\t0\t0\t0\t\n",
            "0\t0\t0\t0\t0\t0\t0\t0\t0\t0\t0\t0\t0\t0\t0\t16\t93\t252\t253\t187\t0\t0\t0\t0\t0\t0\t0\t0\t\n",
            "0\t0\t0\t0\t0\t0\t0\t0\t0\t0\t0\t0\t0\t0\t0\t0\t0\t249\t253\t249\t64\t0\t0\t0\t0\t0\t0\t0\t\n",
            "0\t0\t0\t0\t0\t0\t0\t0\t0\t0\t0\t0\t0\t0\t46\t130\t183\t253\t253\t207\t2\t0\t0\t0\t0\t0\t0\t0\t\n",
            "0\t0\t0\t0\t0\t0\t0\t0\t0\t0\t0\t0\t39\t148\t229\t253\t253\t253\t250\t182\t0\t0\t0\t0\t0\t0\t0\t0\t\n",
            "0\t0\t0\t0\t0\t0\t0\t0\t0\t0\t24\t114\t221\t253\t253\t253\t253\t201\t78\t0\t0\t0\t0\t0\t0\t0\t0\t0\t\n",
            "0\t0\t0\t0\t0\t0\t0\t0\t23\t66\t213\t253\t253\t253\t253\t198\t81\t2\t0\t0\t0\t0\t0\t0\t0\t0\t0\t0\t\n",
            "0\t0\t0\t0\t0\t0\t18\t171\t219\t253\t253\t253\t253\t195\t80\t9\t0\t0\t0\t0\t0\t0\t0\t0\t0\t0\t0\t0\t\n",
            "0\t0\t0\t0\t55\t172\t226\t253\t253\t253\t253\t244\t133\t11\t0\t0\t0\t0\t0\t0\t0\t0\t0\t0\t0\t0\t0\t0\t\n",
            "0\t0\t0\t0\t136\t253\t253\t253\t212\t135\t132\t16\t0\t0\t0\t0\t0\t0\t0\t0\t0\t0\t0\t0\t0\t0\t0\t0\t\n",
            "0\t0\t0\t0\t0\t0\t0\t0\t0\t0\t0\t0\t0\t0\t0\t0\t0\t0\t0\t0\t0\t0\t0\t0\t0\t0\t0\t0\t\n",
            "0\t0\t0\t0\t0\t0\t0\t0\t0\t0\t0\t0\t0\t0\t0\t0\t0\t0\t0\t0\t0\t0\t0\t0\t0\t0\t0\t0\t\n",
            "0\t0\t0\t0\t0\t0\t0\t0\t0\t0\t0\t0\t0\t0\t0\t0\t0\t0\t0\t0\t0\t0\t0\t0\t0\t0\t0\t0\t\n"
          ],
          "name": "stdout"
        }
      ]
    },
    {
      "cell_type": "code",
      "metadata": {
        "id": "Pl_p76VaPQSe",
        "colab_type": "code",
        "colab": {}
      },
      "source": [
        "X_train = X_train.reshape(X_train.shape[0], 784) #2차원 배열을 1차원으로 만듦"
      ],
      "execution_count": 0,
      "outputs": []
    },
    {
      "cell_type": "code",
      "metadata": {
        "id": "IOLuu7VWPooW",
        "colab_type": "code",
        "colab": {}
      },
      "source": [
        "X_train = X_train.astype('float64') / 255 #까닭은 모르겠으나 케라스는 0~1사이에서 잘 동작한다 함 그래서 float 타입으로 변환 후 나누기 255"
      ],
      "execution_count": 0,
      "outputs": []
    },
    {
      "cell_type": "code",
      "metadata": {
        "id": "61buZvWzQChf",
        "colab_type": "code",
        "colab": {}
      },
      "source": [
        "X_test = X_test.reshape(X_test.shape[0], 784)"
      ],
      "execution_count": 0,
      "outputs": []
    },
    {
      "cell_type": "code",
      "metadata": {
        "id": "APC52ualQSLv",
        "colab_type": "code",
        "colab": {}
      },
      "source": [
        "X_test = X_test.astype('float64') / 255"
      ],
      "execution_count": 0,
      "outputs": []
    },
    {
      "cell_type": "code",
      "metadata": {
        "id": "wT-nIHD8QmTV",
        "colab_type": "code",
        "colab": {}
      },
      "source": [
        "Y_train = np_utils.to_categorical(Y_train, 10) #원 핫 인 코딩 0123456789 를 인식하지 못함\n",
        "Y_test = np_utils.to_categorical(Y_test, 10) #하여! 1 => [0,0,0,0,0,0,0,1] 이렇게 바꿔야함"
      ],
      "execution_count": 0,
      "outputs": []
    },
    {
      "cell_type": "code",
      "metadata": {
        "id": "nMwQsb9zRrCI",
        "colab_type": "code",
        "colab": {}
      },
      "source": [
        "from keras.layers import Dense\n",
        "from keras.models import Sequential"
      ],
      "execution_count": 0,
      "outputs": []
    },
    {
      "cell_type": "code",
      "metadata": {
        "id": "8gua0ZDJSP__",
        "colab_type": "code",
        "colab": {}
      },
      "source": [
        "model = Sequential() #모델을 생성합니다.\n",
        "model.add(Dense(512, input_dim=784, activation='relu')) #데이텀은 784개의 특징을 가진 일차원 배열입니다. 활성화 함수로는 relu를 사용합니다.오차 역전파시 기울기가 소실되는 것을 방지합니다.\n",
        "model.add(Dense(10, activation='softmax')) #활성화 함수로는 소프트 맥스를 사용합니다. "
      ],
      "execution_count": 0,
      "outputs": []
    },
    {
      "cell_type": "code",
      "metadata": {
        "id": "cwcqb52VU5oG",
        "colab_type": "code",
        "colab": {}
      },
      "source": [
        "model.compile(loss=\"categorical_crossentropy\", optimizer='adam', metrics=['accuracy']) #클래스가 2개가 아니라 binary crossentropy 가 아닌 categorical crossentropy "
      ],
      "execution_count": 0,
      "outputs": []
    },
    {
      "cell_type": "code",
      "metadata": {
        "id": "dUk4kkvzS13M",
        "colab_type": "code",
        "colab": {}
      },
      "source": [
        "import os\n",
        "from keras.callbacks import ModelCheckpoint,EarlyStopping"
      ],
      "execution_count": 0,
      "outputs": []
    },
    {
      "cell_type": "code",
      "metadata": {
        "id": "q-029XgvUyda",
        "colab_type": "code",
        "colab": {}
      },
      "source": [
        "folder = './model/'\n",
        "if not os.path.exists(folder):\n",
        "  os.mkdir(folder)"
      ],
      "execution_count": 0,
      "outputs": []
    },
    {
      "cell_type": "code",
      "metadata": {
        "id": "tTYdOT_rU03r",
        "colab_type": "code",
        "colab": {}
      },
      "source": [
        "modelpath=\"./model/{epoch:02d}-{val_loss:.4f}.hdf5\"\n",
        "checkpointer = ModelCheckpoint(filepath=modelpath, monitor='val_loss', verbose=1, save_best_only=True)#해당경로에, 값의 오차를 기록할것\n",
        "early_stop = EarlyStopping(monitor='val_loss', patience=10)#val_loss를 관찰하다가, 10회 이상 오차가 나아짐이 없으면 종료"
      ],
      "execution_count": 0,
      "outputs": []
    },
    {
      "cell_type": "code",
      "metadata": {
        "id": "1XcUNZmdWD7u",
        "colab_type": "code",
        "colab": {
          "base_uri": "https://localhost:8080/",
          "height": 1000
        },
        "outputId": "89c68389-188b-4ca6-eb53-2f805dd3e00c"
      },
      "source": [
        "history = model.fit(X_train, Y_train, validation_data=(X_test,Y_test), epochs=30, batch_size=200, verbose=1, callbacks=[early_stop, checkpointer])\n",
        "\n",
        "print(\"\\n Test Accuracy: %.4f\" % (model.evaluate(X_test, Y_test)[1]))"
      ],
      "execution_count": 72,
      "outputs": [
        {
          "output_type": "stream",
          "text": [
            "Train on 60000 samples, validate on 10000 samples\n",
            "Epoch 1/30\n",
            "60000/60000 [==============================] - 4s 70us/step - loss: 0.2995 - accuracy: 0.9165 - val_loss: 0.1547 - val_accuracy: 0.9540\n",
            "\n",
            "Epoch 00001: val_loss improved from inf to 0.15471, saving model to ./model/01-0.1547.hdf5\n",
            "Epoch 2/30\n",
            "60000/60000 [==============================] - 4s 69us/step - loss: 0.1244 - accuracy: 0.9639 - val_loss: 0.1046 - val_accuracy: 0.9693\n",
            "\n",
            "Epoch 00002: val_loss improved from 0.15471 to 0.10461, saving model to ./model/02-0.1046.hdf5\n",
            "Epoch 3/30\n",
            "60000/60000 [==============================] - 4s 70us/step - loss: 0.0818 - accuracy: 0.9762 - val_loss: 0.0848 - val_accuracy: 0.9749\n",
            "\n",
            "Epoch 00003: val_loss improved from 0.10461 to 0.08479, saving model to ./model/03-0.0848.hdf5\n",
            "Epoch 4/30\n",
            "60000/60000 [==============================] - 4s 69us/step - loss: 0.0604 - accuracy: 0.9824 - val_loss: 0.0796 - val_accuracy: 0.9747\n",
            "\n",
            "Epoch 00004: val_loss improved from 0.08479 to 0.07959, saving model to ./model/04-0.0796.hdf5\n",
            "Epoch 5/30\n",
            "60000/60000 [==============================] - 4s 68us/step - loss: 0.0457 - accuracy: 0.9869 - val_loss: 0.0682 - val_accuracy: 0.9795\n",
            "\n",
            "Epoch 00005: val_loss improved from 0.07959 to 0.06824, saving model to ./model/05-0.0682.hdf5\n",
            "Epoch 6/30\n",
            "60000/60000 [==============================] - 4s 68us/step - loss: 0.0344 - accuracy: 0.9907 - val_loss: 0.0645 - val_accuracy: 0.9797\n",
            "\n",
            "Epoch 00006: val_loss improved from 0.06824 to 0.06452, saving model to ./model/06-0.0645.hdf5\n",
            "Epoch 7/30\n",
            "60000/60000 [==============================] - 4s 68us/step - loss: 0.0259 - accuracy: 0.9937 - val_loss: 0.0708 - val_accuracy: 0.9782\n",
            "\n",
            "Epoch 00007: val_loss did not improve from 0.06452\n",
            "Epoch 8/30\n",
            "60000/60000 [==============================] - 4s 71us/step - loss: 0.0212 - accuracy: 0.9945 - val_loss: 0.0649 - val_accuracy: 0.9793\n",
            "\n",
            "Epoch 00008: val_loss did not improve from 0.06452\n",
            "Epoch 9/30\n",
            "60000/60000 [==============================] - 4s 71us/step - loss: 0.0160 - accuracy: 0.9961 - val_loss: 0.0586 - val_accuracy: 0.9815\n",
            "\n",
            "Epoch 00009: val_loss improved from 0.06452 to 0.05860, saving model to ./model/09-0.0586.hdf5\n",
            "Epoch 10/30\n",
            "60000/60000 [==============================] - 4s 67us/step - loss: 0.0116 - accuracy: 0.9978 - val_loss: 0.0650 - val_accuracy: 0.9805\n",
            "\n",
            "Epoch 00010: val_loss did not improve from 0.05860\n",
            "Epoch 11/30\n",
            "60000/60000 [==============================] - 4s 68us/step - loss: 0.0100 - accuracy: 0.9981 - val_loss: 0.0665 - val_accuracy: 0.9786\n",
            "\n",
            "Epoch 00011: val_loss did not improve from 0.05860\n",
            "Epoch 12/30\n",
            "60000/60000 [==============================] - 4s 68us/step - loss: 0.0076 - accuracy: 0.9989 - val_loss: 0.0636 - val_accuracy: 0.9803\n",
            "\n",
            "Epoch 00012: val_loss did not improve from 0.05860\n",
            "Epoch 13/30\n",
            "60000/60000 [==============================] - 4s 67us/step - loss: 0.0053 - accuracy: 0.9992 - val_loss: 0.0692 - val_accuracy: 0.9800\n",
            "\n",
            "Epoch 00013: val_loss did not improve from 0.05860\n",
            "Epoch 14/30\n",
            "60000/60000 [==============================] - 4s 68us/step - loss: 0.0045 - accuracy: 0.9995 - val_loss: 0.0681 - val_accuracy: 0.9796\n",
            "\n",
            "Epoch 00014: val_loss did not improve from 0.05860\n",
            "Epoch 15/30\n",
            "60000/60000 [==============================] - 4s 68us/step - loss: 0.0036 - accuracy: 0.9995 - val_loss: 0.0651 - val_accuracy: 0.9808\n",
            "\n",
            "Epoch 00015: val_loss did not improve from 0.05860\n",
            "Epoch 16/30\n",
            "60000/60000 [==============================] - 4s 68us/step - loss: 0.0031 - accuracy: 0.9996 - val_loss: 0.0664 - val_accuracy: 0.9815\n",
            "\n",
            "Epoch 00016: val_loss did not improve from 0.05860\n",
            "Epoch 17/30\n",
            "60000/60000 [==============================] - 4s 68us/step - loss: 0.0044 - accuracy: 0.9991 - val_loss: 0.0900 - val_accuracy: 0.9749\n",
            "\n",
            "Epoch 00017: val_loss did not improve from 0.05860\n",
            "Epoch 18/30\n",
            "60000/60000 [==============================] - 4s 67us/step - loss: 0.0127 - accuracy: 0.9961 - val_loss: 0.0729 - val_accuracy: 0.9807\n",
            "\n",
            "Epoch 00018: val_loss did not improve from 0.05860\n",
            "Epoch 19/30\n",
            "60000/60000 [==============================] - 4s 68us/step - loss: 0.0038 - accuracy: 0.9992 - val_loss: 0.0704 - val_accuracy: 0.9818\n",
            "\n",
            "Epoch 00019: val_loss did not improve from 0.05860\n",
            "10000/10000 [==============================] - 0s 46us/step\n",
            "\n",
            " Test Accuracy: 0.9818\n"
          ],
          "name": "stdout"
        }
      ]
    },
    {
      "cell_type": "code",
      "metadata": {
        "id": "ndI-vsLqXY1a",
        "colab_type": "code",
        "colab": {
          "base_uri": "https://localhost:8080/",
          "height": 279
        },
        "outputId": "ccfa8d96-f2de-4913-af0a-09479766b3c8"
      },
      "source": [
        "import matplotlib.pyplot as plt\n",
        " \n",
        "y_vloss = history.history['val_loss']\n",
        "  \n",
        "# 학습셋의 오차\n",
        "y_loss = history.history['loss']\n",
        "  \n",
        "# 그래프로 표현\n",
        "x_len = np.arange(len(y_loss))\n",
        "plt.plot(x_len, y_vloss, marker='.', c=\"red\", label='Testset_loss')\n",
        "plt.plot(x_len, y_loss, marker='.', c=\"blue\", label='Trainset_loss')\n",
        "  \n",
        "# 그래프에 그리드를 주고 레이블을 표시\n",
        "plt.legend(loc='upper right')\n",
        "plt.grid()\n",
        "plt.xlabel('epoch')\n",
        "plt.ylabel('loss')\n",
        "plt.show()"
      ],
      "execution_count": 74,
      "outputs": [
        {
          "output_type": "display_data",
          "data": {
            "image/png": "[encoded data removed]",
            "text/plain": [
              "<Figure size 432x288 with 1 Axes>"
            ]
          },
          "metadata": {
            "tags": [],
            "needs_background": "light"
          }
        }
      ]
    },
    {
      "cell_type": "code",
      "metadata": {
        "id": "SrElfju9ak6u",
        "colab_type": "code",
        "colab": {}
      },
      "source": [
        ""
      ],
      "execution_count": 0,
      "outputs": []
    }
  ]
}