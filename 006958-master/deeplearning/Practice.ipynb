{
 "cells": [
  {
   "cell_type": "code",
   "execution_count": 1,
   "metadata": {},
   "outputs": [],
   "source": [
    "from tensorflow.keras.models import Sequential\n",
    "from tensorflow.keras.layers import Dense"
   ]
  },
  {
   "cell_type": "code",
   "execution_count": 2,
   "metadata": {},
   "outputs": [],
   "source": [
    "import numpy as np\n",
    "import tensorflow as tf"
   ]
  },
  {
   "cell_type": "code",
   "execution_count": 4,
   "metadata": {},
   "outputs": [],
   "source": [
    "np.random.seed(3)\n",
    "tf.random.set_seed(3)"
   ]
  },
  {
   "cell_type": "code",
   "execution_count": 10,
   "metadata": {},
   "outputs": [],
   "source": [
    "Data_set = np.loadtxt(\"./dataset/ThoraricSurgery.csv\", delimiter=\",\")"
   ]
  },
  {
   "cell_type": "code",
   "execution_count": 15,
   "metadata": {},
   "outputs": [],
   "source": [
    "X = Data_set[:, 0:17]\n",
    "Y = Data_set[:, 17]"
   ]
  },
  {
   "cell_type": "code",
   "execution_count": 17,
   "metadata": {},
   "outputs": [],
   "source": [
    "model = Sequential()\n",
    "model.add(Dense(30, input_dim=17, activation=\"relu\"))\n",
    "model.add(Dense(1, activation=\"sigmoid\"))"
   ]
  },
  {
   "cell_type": "code",
   "execution_count": 18,
   "metadata": {},
   "outputs": [],
   "source": [
    "model.compile(loss=\"mean_squared_error\", optimizer=\"adam\", metrics=[\"accuracy\"])"
   ]
  },
  {
   "cell_type": "code",
   "execution_count": 19,
   "metadata": {},
   "outputs": [
    {
     "data": {
      "text/plain": [
       "<tensorflow.python.keras.engine.sequential.Sequential at 0x1f36f6ff248>"
      ]
     },
     "execution_count": 19,
     "metadata": {},
     "output_type": "execute_result"
    }
   ],
   "source": [
    "model"
   ]
  },
  {
   "cell_type": "code",
   "execution_count": 20,
   "metadata": {},
   "outputs": [
    {
     "name": "stdout",
     "output_type": "stream",
     "text": [
      "Train on 470 samples\n",
      "Epoch 1/100\n",
      "470/470 [==============================] - 2s 3ms/sample - loss: 0.1495 - accuracy: 0.8404\n",
      "Epoch 2/100\n",
      "470/470 [==============================] - 0s 353us/sample - loss: 0.1448 - accuracy: 0.8511\n",
      "Epoch 3/100\n",
      "470/470 [==============================] - 0s 396us/sample - loss: 0.1448 - accuracy: 0.8511\n",
      "Epoch 4/100\n",
      "470/470 [==============================] - 0s 432us/sample - loss: 0.1453 - accuracy: 0.8468\n",
      "Epoch 5/100\n",
      "470/470 [==============================] - 0s 384us/sample - loss: 0.1440 - accuracy: 0.8511\n",
      "Epoch 6/100\n",
      "470/470 [==============================] - 0s 304us/sample - loss: 0.1418 - accuracy: 0.8511\n",
      "Epoch 7/100\n",
      "470/470 [==============================] - 0s 277us/sample - loss: 0.1446 - accuracy: 0.8511\n",
      "Epoch 8/100\n",
      "470/470 [==============================] - 0s 298us/sample - loss: 0.1434 - accuracy: 0.8511\n",
      "Epoch 9/100\n",
      "470/470 [==============================] - 0s 304us/sample - loss: 0.1433 - accuracy: 0.8511\n",
      "Epoch 10/100\n",
      "470/470 [==============================] - 0s 277us/sample - loss: 0.1431 - accuracy: 0.8489\n",
      "Epoch 11/100\n",
      "470/470 [==============================] - 0s 277us/sample - loss: 0.1413 - accuracy: 0.8426\n",
      "Epoch 12/100\n",
      "470/470 [==============================] - 0s 285us/sample - loss: 0.1446 - accuracy: 0.8489\n",
      "Epoch 13/100\n",
      "470/470 [==============================] - 0s 309us/sample - loss: 0.1432 - accuracy: 0.8511\n",
      "Epoch 14/100\n",
      "470/470 [==============================] - 0s 302us/sample - loss: 0.1432 - accuracy: 0.8511\n",
      "Epoch 15/100\n",
      "470/470 [==============================] - 0s 313us/sample - loss: 0.1404 - accuracy: 0.8511\n",
      "Epoch 16/100\n",
      "470/470 [==============================] - 0s 298us/sample - loss: 0.1384 - accuracy: 0.8489\n",
      "Epoch 17/100\n",
      "470/470 [==============================] - 0s 328us/sample - loss: 0.1426 - accuracy: 0.8511\n",
      "Epoch 18/100\n",
      "470/470 [==============================] - 0s 264us/sample - loss: 0.1425 - accuracy: 0.8404\n",
      "Epoch 19/100\n",
      "470/470 [==============================] - 0s 279us/sample - loss: 0.1422 - accuracy: 0.8489\n",
      "Epoch 20/100\n",
      "470/470 [==============================] - 0s 312us/sample - loss: 0.1406 - accuracy: 0.8511\n",
      "Epoch 21/100\n",
      "470/470 [==============================] - 0s 317us/sample - loss: 0.1369 - accuracy: 0.8489\n",
      "Epoch 22/100\n",
      "470/470 [==============================] - 0s 366us/sample - loss: 0.1358 - accuracy: 0.8426\n",
      "Epoch 23/100\n",
      "470/470 [==============================] - 0s 428us/sample - loss: 0.1454 - accuracy: 0.8511\n",
      "Epoch 24/100\n",
      "470/470 [==============================] - 0s 496us/sample - loss: 0.1433 - accuracy: 0.8511\n",
      "Epoch 25/100\n",
      "470/470 [==============================] - 0s 575us/sample - loss: 0.1450 - accuracy: 0.8511\n",
      "Epoch 26/100\n",
      "470/470 [==============================] - 0s 500us/sample - loss: 0.1418 - accuracy: 0.8511\n",
      "Epoch 27/100\n",
      "470/470 [==============================] - 0s 456us/sample - loss: 0.1405 - accuracy: 0.8511\n",
      "Epoch 28/100\n",
      "470/470 [==============================] - 0s 447us/sample - loss: 0.1412 - accuracy: 0.8511\n",
      "Epoch 29/100\n",
      "470/470 [==============================] - 0s 384us/sample - loss: 0.1405 - accuracy: 0.8511\n",
      "Epoch 30/100\n",
      "470/470 [==============================] - 0s 304us/sample - loss: 0.1402 - accuracy: 0.8489\n",
      "Epoch 31/100\n",
      "470/470 [==============================] - 0s 274us/sample - loss: 0.1394 - accuracy: 0.8511\n",
      "Epoch 32/100\n",
      "470/470 [==============================] - 0s 268us/sample - loss: 0.1400 - accuracy: 0.8511\n",
      "Epoch 33/100\n",
      "470/470 [==============================] - 0s 291us/sample - loss: 0.1323 - accuracy: 0.8532\n",
      "Epoch 34/100\n",
      "470/470 [==============================] - 0s 334us/sample - loss: 0.1329 - accuracy: 0.8511\n",
      "Epoch 35/100\n",
      "470/470 [==============================] - 0s 326us/sample - loss: 0.1412 - accuracy: 0.8532\n",
      "Epoch 36/100\n",
      "470/470 [==============================] - 0s 313us/sample - loss: 0.1388 - accuracy: 0.8511\n",
      "Epoch 37/100\n",
      "470/470 [==============================] - 0s 319us/sample - loss: 0.1405 - accuracy: 0.8489\n",
      "Epoch 38/100\n",
      "470/470 [==============================] - 0s 296us/sample - loss: 0.1406 - accuracy: 0.8511\n",
      "Epoch 39/100\n",
      "470/470 [==============================] - 0s 277us/sample - loss: 0.1398 - accuracy: 0.8511\n",
      "Epoch 40/100\n",
      "470/470 [==============================] - 0s 260us/sample - loss: 0.1388 - accuracy: 0.8489\n",
      "Epoch 41/100\n",
      "470/470 [==============================] - 0s 266us/sample - loss: 0.1367 - accuracy: 0.8468\n",
      "Epoch 42/100\n",
      "470/470 [==============================] - 0s 270us/sample - loss: 0.1359 - accuracy: 0.8447\n",
      "Epoch 43/100\n",
      "470/470 [==============================] - 0s 326us/sample - loss: 0.1433 - accuracy: 0.8489\n",
      "Epoch 44/100\n",
      "470/470 [==============================] - 0s 285us/sample - loss: 0.1391 - accuracy: 0.8532\n",
      "Epoch 45/100\n",
      "470/470 [==============================] - 0s 349us/sample - loss: 0.1354 - accuracy: 0.8532\n",
      "Epoch 46/100\n",
      "470/470 [==============================] - 0s 362us/sample - loss: 0.1319 - accuracy: 0.8489\n",
      "Epoch 47/100\n",
      "470/470 [==============================] - 0s 313us/sample - loss: 0.1346 - accuracy: 0.8489\n",
      "Epoch 48/100\n",
      "470/470 [==============================] - 0s 302us/sample - loss: 0.1322 - accuracy: 0.8468\n",
      "Epoch 49/100\n",
      "470/470 [==============================] - 0s 296us/sample - loss: 0.1409 - accuracy: 0.8468\n",
      "Epoch 50/100\n",
      "470/470 [==============================] - 0s 279us/sample - loss: 0.1398 - accuracy: 0.8489\n",
      "Epoch 51/100\n",
      "470/470 [==============================] - 0s 328us/sample - loss: 0.1391 - accuracy: 0.8489\n",
      "Epoch 52/100\n",
      "470/470 [==============================] - 0s 264us/sample - loss: 0.1374 - accuracy: 0.8532\n",
      "Epoch 53/100\n",
      "470/470 [==============================] - 0s 326us/sample - loss: 0.1365 - accuracy: 0.8596\n",
      "Epoch 54/100\n",
      "470/470 [==============================] - 0s 282us/sample - loss: 0.1341 - accuracy: 0.8447\n",
      "Epoch 55/100\n",
      "470/470 [==============================] - 0s 296us/sample - loss: 0.1314 - accuracy: 0.8404\n",
      "Epoch 56/100\n",
      "470/470 [==============================] - 0s 311us/sample - loss: 0.1348 - accuracy: 0.8532\n",
      "Epoch 57/100\n",
      "470/470 [==============================] - 0s 338us/sample - loss: 0.1326 - accuracy: 0.8574\n",
      "Epoch 58/100\n",
      "470/470 [==============================] - 0s 300us/sample - loss: 0.1295 - accuracy: 0.8511\n",
      "Epoch 59/100\n",
      "470/470 [==============================] - 0s 304us/sample - loss: 0.1271 - accuracy: 0.8489\n",
      "Epoch 60/100\n",
      "470/470 [==============================] - 0s 289us/sample - loss: 0.1310 - accuracy: 0.8574\n",
      "Epoch 61/100\n",
      "470/470 [==============================] - 0s 289us/sample - loss: 0.1363 - accuracy: 0.8447\n",
      "Epoch 62/100\n",
      "470/470 [==============================] - 0s 312us/sample - loss: 0.1407 - accuracy: 0.8511\n",
      "Epoch 63/100\n",
      "470/470 [==============================] - 0s 298us/sample - loss: 0.1391 - accuracy: 0.8532\n",
      "Epoch 64/100\n",
      "470/470 [==============================] - 0s 377us/sample - loss: 0.1368 - accuracy: 0.8553\n",
      "Epoch 65/100\n",
      "470/470 [==============================] - 0s 474us/sample - loss: 0.1349 - accuracy: 0.8574\n",
      "Epoch 66/100\n",
      "470/470 [==============================] - 0s 492us/sample - loss: 0.1351 - accuracy: 0.8596\n",
      "Epoch 67/100\n",
      "470/470 [==============================] - 0s 570us/sample - loss: 0.1323 - accuracy: 0.8638\n",
      "Epoch 68/100\n",
      "470/470 [==============================] - ETA: 0s - loss: 0.1332 - accuracy: 0.85 - 0s 615us/sample - loss: 0.1313 - accuracy: 0.8553\n",
      "Epoch 69/100\n",
      "470/470 [==============================] - 0s 401us/sample - loss: 0.1365 - accuracy: 0.8574\n",
      "Epoch 70/100\n",
      "470/470 [==============================] - 0s 421us/sample - loss: 0.1384 - accuracy: 0.8532\n",
      "Epoch 71/100\n",
      "470/470 [==============================] - 0s 409us/sample - loss: 0.1281 - accuracy: 0.8617\n",
      "Epoch 72/100\n",
      "470/470 [==============================] - 0s 306us/sample - loss: 0.1313 - accuracy: 0.8383\n",
      "Epoch 73/100\n",
      "470/470 [==============================] - 0s 272us/sample - loss: 0.1346 - accuracy: 0.8553\n",
      "Epoch 74/100\n",
      "470/470 [==============================] - 0s 298us/sample - loss: 0.1282 - accuracy: 0.8617\n",
      "Epoch 75/100\n",
      "470/470 [==============================] - 0s 325us/sample - loss: 0.1305 - accuracy: 0.8511\n",
      "Epoch 76/100\n",
      "470/470 [==============================] - 0s 326us/sample - loss: 0.1220 - accuracy: 0.8574\n",
      "Epoch 77/100\n"
     ]
    },
    {
     "name": "stdout",
     "output_type": "stream",
     "text": [
      "470/470 [==============================] - 0s 311us/sample - loss: 0.1191 - accuracy: 0.8660\n",
      "Epoch 78/100\n",
      "470/470 [==============================] - 0s 277us/sample - loss: 0.1236 - accuracy: 0.8596\n",
      "Epoch 79/100\n",
      "470/470 [==============================] - 0s 287us/sample - loss: 0.1279 - accuracy: 0.8532\n",
      "Epoch 80/100\n",
      "470/470 [==============================] - 0s 266us/sample - loss: 0.1287 - accuracy: 0.8532\n",
      "Epoch 81/100\n",
      "470/470 [==============================] - 0s 287us/sample - loss: 0.1238 - accuracy: 0.8553\n",
      "Epoch 82/100\n",
      "470/470 [==============================] - 0s 296us/sample - loss: 0.1207 - accuracy: 0.8574\n",
      "Epoch 83/100\n",
      "470/470 [==============================] - 0s 294us/sample - loss: 0.1243 - accuracy: 0.8553\n",
      "Epoch 84/100\n",
      "470/470 [==============================] - 0s 285us/sample - loss: 0.1298 - accuracy: 0.8553\n",
      "Epoch 85/100\n",
      "470/470 [==============================] - 0s 289us/sample - loss: 0.1271 - accuracy: 0.8511\n",
      "Epoch 86/100\n",
      "470/470 [==============================] - 0s 327us/sample - loss: 0.1222 - accuracy: 0.8574\n",
      "Epoch 87/100\n",
      "470/470 [==============================] - 0s 357us/sample - loss: 0.1216 - accuracy: 0.8553\n",
      "Epoch 88/100\n",
      "470/470 [==============================] - 0s 370us/sample - loss: 0.1187 - accuracy: 0.8596\n",
      "Epoch 89/100\n",
      "470/470 [==============================] - 0s 330us/sample - loss: 0.1181 - accuracy: 0.8574\n",
      "Epoch 90/100\n",
      "470/470 [==============================] - 0s 300us/sample - loss: 0.1233 - accuracy: 0.8553\n",
      "Epoch 91/100\n",
      "470/470 [==============================] - 0s 272us/sample - loss: 0.1188 - accuracy: 0.8596\n",
      "Epoch 92/100\n",
      "470/470 [==============================] - 0s 308us/sample - loss: 0.1169 - accuracy: 0.8532\n",
      "Epoch 93/100\n",
      "470/470 [==============================] - 0s 299us/sample - loss: 0.1369 - accuracy: 0.8468\n",
      "Epoch 94/100\n",
      "470/470 [==============================] - 0s 296us/sample - loss: 0.1308 - accuracy: 0.8596\n",
      "Epoch 95/100\n",
      "470/470 [==============================] - ETA: 0s - loss: 0.1316 - accuracy: 0.85 - 0s 304us/sample - loss: 0.1276 - accuracy: 0.8617\n",
      "Epoch 96/100\n",
      "470/470 [==============================] - 0s 298us/sample - loss: 0.1228 - accuracy: 0.8511\n",
      "Epoch 97/100\n",
      "470/470 [==============================] - 0s 311us/sample - loss: 0.1265 - accuracy: 0.8617\n",
      "Epoch 98/100\n",
      "470/470 [==============================] - 0s 323us/sample - loss: 0.1194 - accuracy: 0.8617\n",
      "Epoch 99/100\n",
      "470/470 [==============================] - 0s 311us/sample - loss: 0.1229 - accuracy: 0.8596\n",
      "Epoch 100/100\n",
      "470/470 [==============================] - 0s 311us/sample - loss: 0.1205 - accuracy: 0.8574\n"
     ]
    },
    {
     "data": {
      "text/plain": [
       "<tensorflow.python.keras.callbacks.History at 0x1f36f66ebc8>"
      ]
     },
     "execution_count": 20,
     "metadata": {},
     "output_type": "execute_result"
    }
   ],
   "source": [
    "model.fit(X,Y, epochs=100, batch_size=10)"
   ]
  },
  {
   "cell_type": "code",
   "execution_count": null,
   "metadata": {},
   "outputs": [],
   "source": []
  }
 ],
 "metadata": {
  "kernelspec": {
   "display_name": "Python 3",
   "language": "python",
   "name": "python3"
  },
  "language_info": {
   "codemirror_mode": {
    "name": "ipython",
    "version": 3
   },
   "file_extension": ".py",
   "mimetype": "text/x-python",
   "name": "python",
   "nbconvert_exporter": "python",
   "pygments_lexer": "ipython3",
   "version": "3.7.4"
  }
 },
 "nbformat": 4,
 "nbformat_minor": 2
}
