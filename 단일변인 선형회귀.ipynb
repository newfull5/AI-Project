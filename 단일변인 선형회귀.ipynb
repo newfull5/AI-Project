{
 "cells": [
  {
   "cell_type": "code",
   "execution_count": 247,
   "metadata": {},
   "outputs": [],
   "source": [
    "import tensorflow as tf\n",
    "import numpy as np\n",
    "from pandas.io.parsers import read_csv"
   ]
  },
  {
   "cell_type": "code",
   "execution_count": 248,
   "metadata": {},
   "outputs": [],
   "source": [
    "data = read_csv('price data.csv', sep=',')"
   ]
  },
  {
   "cell_type": "code",
   "execution_count": 249,
   "metadata": {},
   "outputs": [],
   "source": [
    "xy = np.array(data, dtype=np.float32)"
   ]
  },
  {
   "cell_type": "code",
   "execution_count": 250,
   "metadata": {},
   "outputs": [],
   "source": [
    "x_data = np.array(xy[:,2])"
   ]
  },
  {
   "cell_type": "code",
   "execution_count": 251,
   "metadata": {},
   "outputs": [],
   "source": [
    "y_data = np.array(xy[:, -1])"
   ]
  },
  {
   "cell_type": "code",
   "execution_count": 252,
   "metadata": {},
   "outputs": [],
   "source": [
    "W = tf.Variable(tf.random.normal([1]), name = \"weight\")\n",
    "b = tf.Variable(tf.random.normal([1]), name = \"bias\")"
   ]
  },
  {
   "cell_type": "code",
   "execution_count": 253,
   "metadata": {},
   "outputs": [
    {
     "data": {
      "text/plain": [
       "array([-11. ,  -5.5,  -6.9, ...,  -2.1,  -1.6,  -2. ], dtype=float32)"
      ]
     },
     "execution_count": 253,
     "metadata": {},
     "output_type": "execute_result"
    }
   ],
   "source": [
    "x_data"
   ]
  },
  {
   "cell_type": "code",
   "execution_count": 254,
   "metadata": {},
   "outputs": [
    {
     "data": {
      "text/plain": [
       "array([2123., 2123., 2123., ..., 2901., 2901., 2901.], dtype=float32)"
      ]
     },
     "execution_count": 254,
     "metadata": {},
     "output_type": "execute_result"
    }
   ],
   "source": [
    "y_data"
   ]
  },
  {
   "cell_type": "code",
   "execution_count": 255,
   "metadata": {},
   "outputs": [
    {
     "data": {
      "text/plain": [
       "<tf.Variable 'weight:0' shape=(1,) dtype=float32, numpy=array([-0.16754764], dtype=float32)>"
      ]
     },
     "execution_count": 255,
     "metadata": {},
     "output_type": "execute_result"
    }
   ],
   "source": [
    "W"
   ]
  },
  {
   "cell_type": "code",
   "execution_count": 256,
   "metadata": {},
   "outputs": [
    {
     "data": {
      "text/plain": [
       "<tf.Variable 'bias:0' shape=(1,) dtype=float32, numpy=array([-0.3140856], dtype=float32)>"
      ]
     },
     "execution_count": 256,
     "metadata": {},
     "output_type": "execute_result"
    }
   ],
   "source": [
    "b"
   ]
  },
  {
   "cell_type": "code",
   "execution_count": 257,
   "metadata": {},
   "outputs": [],
   "source": [
    "n_samples = 2922"
   ]
  },
  {
   "cell_type": "code",
   "execution_count": 258,
   "metadata": {},
   "outputs": [],
   "source": [
    "# Linear regression (Wx + b).\n",
    "def linear_regression(x):\n",
    "    return W * x + b"
   ]
  },
  {
   "cell_type": "code",
   "execution_count": 259,
   "metadata": {},
   "outputs": [
    {
     "data": {
      "text/plain": [
       "<tf.Tensor: id=1533505, shape=(1,), dtype=float32, numpy=array([-0.81672853], dtype=float32)>"
      ]
     },
     "execution_count": 259,
     "metadata": {},
     "output_type": "execute_result"
    }
   ],
   "source": [
    "linear_regression(3)"
   ]
  },
  {
   "cell_type": "code",
   "execution_count": 260,
   "metadata": {},
   "outputs": [],
   "source": [
    "def mean_square(y_pred, y_true):\n",
    "    return tf.reduce_sum(tf.pow(y_pred-y_true, 2)) / (2*n_samples)"
   ]
  },
  {
   "cell_type": "code",
   "execution_count": 261,
   "metadata": {},
   "outputs": [],
   "source": [
    "optimizer = tf.optimizers.SGD(0.005)"
   ]
  },
  {
   "cell_type": "code",
   "execution_count": 262,
   "metadata": {},
   "outputs": [],
   "source": [
    "# Optimization process. \n",
    "def run_optimization():\n",
    "    # Wrap computation inside a GradientTape for automatic differentiation.\n",
    "    with tf.GradientTape() as g:\n",
    "        pred = linear_regression(x_data)\n",
    "        loss = mean_square(pred, y_data)\n",
    "\n",
    "    # Compute gradients.\n",
    "    gradients = g.gradient(loss, [W, b])\n",
    "    \n",
    "    # Update W and b following gradients.\n",
    "    optimizer.apply_gradients(zip(gradients, [W, b]))"
   ]
  },
  {
   "cell_type": "code",
   "execution_count": 263,
   "metadata": {
    "scrolled": true
   },
   "outputs": [
    {
     "name": "stdout",
     "output_type": "stream",
     "text": [
      "step: 500, loss: 1056878.750000, W: 53.516075, b: 2419.991699\n",
      "step: 1000, loss: 921945.687500, W: 27.904434, b: 2953.834229\n",
      "step: 1500, loss: 915336.875000, W: 22.236286, b: 3071.979980\n",
      "step: 2000, loss: 915012.937500, W: 20.981758, b: 3098.128906\n",
      "step: 2500, loss: 914997.187500, W: 20.704168, b: 3103.914795\n",
      "step: 3000, loss: 914996.500000, W: 20.642675, b: 3105.196533\n",
      "step: 3500, loss: 914996.312500, W: 20.629421, b: 3105.472900\n",
      "step: 4000, loss: 914996.500000, W: 20.627190, b: 3105.519287\n",
      "step: 4500, loss: 914996.500000, W: 20.627190, b: 3105.519287\n",
      "step: 5000, loss: 914996.500000, W: 20.627190, b: 3105.519287\n",
      "step: 5500, loss: 914996.500000, W: 20.627190, b: 3105.519287\n",
      "step: 6000, loss: 914996.500000, W: 20.627190, b: 3105.519287\n",
      "step: 6500, loss: 914996.500000, W: 20.627190, b: 3105.519287\n",
      "step: 7000, loss: 914996.500000, W: 20.627190, b: 3105.519287\n",
      "step: 7500, loss: 914996.500000, W: 20.627190, b: 3105.519287\n",
      "step: 8000, loss: 914996.500000, W: 20.627190, b: 3105.519287\n",
      "step: 8500, loss: 914996.500000, W: 20.627190, b: 3105.519287\n",
      "step: 9000, loss: 914996.500000, W: 20.627190, b: 3105.519287\n",
      "step: 9500, loss: 914996.500000, W: 20.627190, b: 3105.519287\n",
      "step: 10000, loss: 914996.500000, W: 20.627190, b: 3105.519287\n"
     ]
    }
   ],
   "source": [
    "# Run training for the given number of steps.\n",
    "for step in range(1, 10000 + 1):\n",
    "    # Run the optimization to update W and b values.\n",
    "    run_optimization()\n",
    "    \n",
    "    if step % 500 == 0:\n",
    "        pred = linear_regression(x_data)\n",
    "        loss = mean_square(pred, y_data)\n",
    "        print(\"step: %i, loss: %f, W: %f, b: %f\" % (step, loss, W.numpy(), b.numpy()))"
   ]
  },
  {
   "cell_type": "code",
   "execution_count": 264,
   "metadata": {},
   "outputs": [],
   "source": [
    "import matplotlib.pyplot as plt"
   ]
  },
  {
   "cell_type": "code",
   "execution_count": 265,
   "metadata": {},
   "outputs": [
    {
     "data": {
      "image/png": "[encoded data removed]",
      "text/plain": [
       "<Figure size 432x288 with 1 Axes>"
      ]
     },
     "metadata": {
      "needs_background": "light"
     },
     "output_type": "display_data"
    }
   ],
   "source": [
    "# Graphic display\n",
    "plt.plot(x_data, y_data, 'ro', label='Original data')\n",
    "plt.plot(x_data, np.array(W * x_data + b), label='Fitted line')\n",
    "plt.legend()\n",
    "plt.show()"
   ]
  },
  {
   "cell_type": "code",
   "execution_count": null,
   "metadata": {},
   "outputs": [],
   "source": []
  }
 ],
 "metadata": {
  "kernelspec": {
   "display_name": "Python 3",
   "language": "python",
   "name": "python3"
  },
  "language_info": {
   "codemirror_mode": {
    "name": "ipython",
    "version": 3
   },
   "file_extension": ".py",
   "mimetype": "text/x-python",
   "name": "python",
   "nbconvert_exporter": "python",
   "pygments_lexer": "ipython3",
   "version": "3.7.4"
  }
 },
 "nbformat": 4,
 "nbformat_minor": 2
}
