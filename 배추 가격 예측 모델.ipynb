{
 "cells": [
  {
   "cell_type": "code",
   "execution_count": 91,
   "metadata": {},
   "outputs": [
    {
     "name": "stdout",
     "output_type": "stream",
     "text": [
      "TensorFlow Version: 2.0.0\n"
     ]
    }
   ],
   "source": [
    "import numpy as np\n",
    "import tensorflow as tf\n",
    "from pandas.io.parsers import read_csv\n",
    "print(\"TensorFlow Version: %s\" % tf.__version__)"
   ]
  },
  {
   "cell_type": "code",
   "execution_count": 92,
   "metadata": {},
   "outputs": [],
   "source": [
    "data = read_csv('price data.csv', sep=',')\n",
    "\n",
    "xy = np.array(data, dtype=np.float32)\n",
    "\n",
    "x_data = xy[:, 1:-1]\n",
    "y_data = xy[:, [-1]]"
   ]
  },
  {
   "cell_type": "code",
   "execution_count": 93,
   "metadata": {},
   "outputs": [
    {
     "data": {
      "text/html": [
       "<div>\n",
       "<style scoped>\n",
       "    .dataframe tbody tr th:only-of-type {\n",
       "        vertical-align: middle;\n",
       "    }\n",
       "\n",
       "    .dataframe tbody tr th {\n",
       "        vertical-align: top;\n",
       "    }\n",
       "\n",
       "    .dataframe thead th {\n",
       "        text-align: right;\n",
       "    }\n",
       "</style>\n",
       "<table border=\"1\" class=\"dataframe\">\n",
       "  <thead>\n",
       "    <tr style=\"text-align: right;\">\n",
       "      <th></th>\n",
       "      <th>year</th>\n",
       "      <th>avgTemp</th>\n",
       "      <th>minTemp</th>\n",
       "      <th>maxTemp</th>\n",
       "      <th>rainFall</th>\n",
       "      <th>avgPrice</th>\n",
       "    </tr>\n",
       "  </thead>\n",
       "  <tbody>\n",
       "    <tr>\n",
       "      <td>0</td>\n",
       "      <td>20100101</td>\n",
       "      <td>-4.9</td>\n",
       "      <td>-11.0</td>\n",
       "      <td>0.9</td>\n",
       "      <td>0.0</td>\n",
       "      <td>2123</td>\n",
       "    </tr>\n",
       "    <tr>\n",
       "      <td>1</td>\n",
       "      <td>20100102</td>\n",
       "      <td>-3.1</td>\n",
       "      <td>-5.5</td>\n",
       "      <td>5.5</td>\n",
       "      <td>0.8</td>\n",
       "      <td>2123</td>\n",
       "    </tr>\n",
       "    <tr>\n",
       "      <td>2</td>\n",
       "      <td>20100103</td>\n",
       "      <td>-2.9</td>\n",
       "      <td>-6.9</td>\n",
       "      <td>1.4</td>\n",
       "      <td>0.0</td>\n",
       "      <td>2123</td>\n",
       "    </tr>\n",
       "    <tr>\n",
       "      <td>3</td>\n",
       "      <td>20100104</td>\n",
       "      <td>-1.8</td>\n",
       "      <td>-5.1</td>\n",
       "      <td>2.2</td>\n",
       "      <td>5.9</td>\n",
       "      <td>2020</td>\n",
       "    </tr>\n",
       "    <tr>\n",
       "      <td>4</td>\n",
       "      <td>20100105</td>\n",
       "      <td>-5.2</td>\n",
       "      <td>-8.7</td>\n",
       "      <td>-1.8</td>\n",
       "      <td>0.7</td>\n",
       "      <td>2060</td>\n",
       "    </tr>\n",
       "    <tr>\n",
       "      <td>...</td>\n",
       "      <td>...</td>\n",
       "      <td>...</td>\n",
       "      <td>...</td>\n",
       "      <td>...</td>\n",
       "      <td>...</td>\n",
       "      <td>...</td>\n",
       "    </tr>\n",
       "    <tr>\n",
       "      <td>2917</td>\n",
       "      <td>20171227</td>\n",
       "      <td>-3.9</td>\n",
       "      <td>-8.0</td>\n",
       "      <td>0.7</td>\n",
       "      <td>0.0</td>\n",
       "      <td>2865</td>\n",
       "    </tr>\n",
       "    <tr>\n",
       "      <td>2918</td>\n",
       "      <td>20171228</td>\n",
       "      <td>-1.5</td>\n",
       "      <td>-6.9</td>\n",
       "      <td>3.7</td>\n",
       "      <td>0.0</td>\n",
       "      <td>2884</td>\n",
       "    </tr>\n",
       "    <tr>\n",
       "      <td>2919</td>\n",
       "      <td>20171229</td>\n",
       "      <td>2.9</td>\n",
       "      <td>-2.1</td>\n",
       "      <td>8.0</td>\n",
       "      <td>0.0</td>\n",
       "      <td>2901</td>\n",
       "    </tr>\n",
       "    <tr>\n",
       "      <td>2920</td>\n",
       "      <td>20171230</td>\n",
       "      <td>2.9</td>\n",
       "      <td>-1.6</td>\n",
       "      <td>7.1</td>\n",
       "      <td>0.6</td>\n",
       "      <td>2901</td>\n",
       "    </tr>\n",
       "    <tr>\n",
       "      <td>2921</td>\n",
       "      <td>20171231</td>\n",
       "      <td>2.1</td>\n",
       "      <td>-2.0</td>\n",
       "      <td>5.8</td>\n",
       "      <td>0.4</td>\n",
       "      <td>2901</td>\n",
       "    </tr>\n",
       "  </tbody>\n",
       "</table>\n",
       "<p>2922 rows × 6 columns</p>\n",
       "</div>"
      ],
      "text/plain": [
       "          year  avgTemp  minTemp  maxTemp  rainFall  avgPrice\n",
       "0     20100101     -4.9    -11.0      0.9       0.0      2123\n",
       "1     20100102     -3.1     -5.5      5.5       0.8      2123\n",
       "2     20100103     -2.9     -6.9      1.4       0.0      2123\n",
       "3     20100104     -1.8     -5.1      2.2       5.9      2020\n",
       "4     20100105     -5.2     -8.7     -1.8       0.7      2060\n",
       "...        ...      ...      ...      ...       ...       ...\n",
       "2917  20171227     -3.9     -8.0      0.7       0.0      2865\n",
       "2918  20171228     -1.5     -6.9      3.7       0.0      2884\n",
       "2919  20171229      2.9     -2.1      8.0       0.0      2901\n",
       "2920  20171230      2.9     -1.6      7.1       0.6      2901\n",
       "2921  20171231      2.1     -2.0      5.8       0.4      2901\n",
       "\n",
       "[2922 rows x 6 columns]"
      ]
     },
     "execution_count": 93,
     "metadata": {},
     "output_type": "execute_result"
    }
   ],
   "source": [
    "data"
   ]
  },
  {
   "cell_type": "code",
   "execution_count": 94,
   "metadata": {},
   "outputs": [
    {
     "data": {
      "text/plain": [
       "array([[ -4.9, -11. ,   0.9,   0. ],\n",
       "       [ -3.1,  -5.5,   5.5,   0.8],\n",
       "       [ -2.9,  -6.9,   1.4,   0. ],\n",
       "       ...,\n",
       "       [  2.9,  -2.1,   8. ,   0. ],\n",
       "       [  2.9,  -1.6,   7.1,   0.6],\n",
       "       [  2.1,  -2. ,   5.8,   0.4]], dtype=float32)"
      ]
     },
     "execution_count": 94,
     "metadata": {},
     "output_type": "execute_result"
    }
   ],
   "source": [
    "x_data"
   ]
  },
  {
   "cell_type": "code",
   "execution_count": 95,
   "metadata": {},
   "outputs": [
    {
     "data": {
      "text/plain": [
       "array([[2123.],\n",
       "       [2123.],\n",
       "       [2123.],\n",
       "       ...,\n",
       "       [2901.],\n",
       "       [2901.],\n",
       "       [2901.]], dtype=float32)"
      ]
     },
     "execution_count": 95,
     "metadata": {},
     "output_type": "execute_result"
    }
   ],
   "source": [
    "y_data"
   ]
  },
  {
   "cell_type": "code",
   "execution_count": 103,
   "metadata": {},
   "outputs": [
    {
     "name": "stdout",
     "output_type": "stream",
     "text": [
      "#0 \t cost: 12354863.0\n",
      "#500 \t cost: 4189053.0\n",
      "#1000 \t cost: 3783544.8\n",
      "#1500 \t cost: 3466804.2\n",
      "#2000 \t cost: 3217688.2\n",
      "#2500 \t cost: 3021284.2\n",
      "#3000 \t cost: 2866195.0\n",
      "#3500 \t cost: 2743596.5\n",
      "#4000 \t cost: 2646612.2\n",
      "#4500 \t cost: 2569847.5\n",
      "#5000 \t cost: 2509059.2\n",
      "#5500 \t cost: 2460904.0\n",
      "#6000 \t cost: 2422739.2\n",
      "#6500 \t cost: 2392477.2\n",
      "#7000 \t cost: 2368468.5\n",
      "#7500 \t cost: 2349408.5\n",
      "#8000 \t cost: 2334264.5\n",
      "#8500 \t cost: 2322219.0\n",
      "#9000 \t cost: 2312627.5\n",
      "#9500 \t cost: 2304975.8\n",
      "#10000 \t cost: 2298860.2\n",
      "#10500 \t cost: 2293961.0\n",
      "#11000 \t cost: 2290024.0\n",
      "#11500 \t cost: 2286848.2\n",
      "#12000 \t cost: 2284275.8\n",
      "#12500 \t cost: 2282180.0\n",
      "#13000 \t cost: 2280462.2\n",
      "#13500 \t cost: 2279042.5\n",
      "#14000 \t cost: 2277860.2\n",
      "#14500 \t cost: 2276865.0\n",
      "#15000 \t cost: 2276018.0\n",
      "#15500 \t cost: 2275288.5\n",
      "#16000 \t cost: 2274651.8\n",
      "#16500 \t cost: 2274088.8\n",
      "#17000 \t cost: 2273584.0\n",
      "#17500 \t cost: 2273125.2\n",
      "#18000 \t cost: 2272703.0\n",
      "#18500 \t cost: 2272310.2\n",
      "#19000 \t cost: 2271940.2\n",
      "#19500 \t cost: 2271588.5\n",
      "#20000 \t cost: 2271251.2\n",
      "#20500 \t cost: 2270925.5\n",
      "#21000 \t cost: 2270608.8\n",
      "#21500 \t cost: 2270299.8\n",
      "#22000 \t cost: 2269996.0\n",
      "#22500 \t cost: 2269697.8\n",
      "#23000 \t cost: 2269402.5\n",
      "#23500 \t cost: 2269109.8\n",
      "#24000 \t cost: 2268820.0\n",
      "#24500 \t cost: 2268532.2\n",
      "#25000 \t cost: 2268246.2\n",
      "#25500 \t cost: 2267961.0\n",
      "#26000 \t cost: 2267677.0\n",
      "#26500 \t cost: 2267394.8\n",
      "#27000 \t cost: 2267111.2\n",
      "#27500 \t cost: 2266829.8\n",
      "#28000 \t cost: 2266549.0\n",
      "#28500 \t cost: 2266268.2\n",
      "#29000 \t cost: 2265988.0\n",
      "#29500 \t cost: 2265708.2\n",
      "#30000 \t cost: 2265428.5\n",
      "#30500 \t cost: 2265149.5\n",
      "#31000 \t cost: 2264871.2\n",
      "#31500 \t cost: 2264592.0\n",
      "#32000 \t cost: 2264313.2\n",
      "#32500 \t cost: 2264035.0\n",
      "#33000 \t cost: 2263756.5\n",
      "#33500 \t cost: 2263478.8\n",
      "#34000 \t cost: 2263201.5\n",
      "#34500 \t cost: 2262924.2\n",
      "#35000 \t cost: 2262647.8\n",
      "#35500 \t cost: 2262370.8\n",
      "#36000 \t cost: 2262094.8\n",
      "#36500 \t cost: 2261818.0\n",
      "#37000 \t cost: 2261541.2\n",
      "#37500 \t cost: 2261265.2\n",
      "#38000 \t cost: 2260989.2\n",
      "#38500 \t cost: 2260712.8\n",
      "#39000 \t cost: 2260437.0\n",
      "#39500 \t cost: 2260162.2\n",
      "#40000 \t cost: 2259887.5\n",
      "#40500 \t cost: 2259613.8\n",
      "#41000 \t cost: 2259338.8\n",
      "#41500 \t cost: 2259064.2\n",
      "#42000 \t cost: 2258790.5\n",
      "#42500 \t cost: 2258516.0\n",
      "#43000 \t cost: 2258242.5\n",
      "#43500 \t cost: 2257969.0\n",
      "#44000 \t cost: 2257695.8\n",
      "#44500 \t cost: 2257422.2\n",
      "#45000 \t cost: 2257148.8\n",
      "#45500 \t cost: 2256875.8\n",
      "#46000 \t cost: 2256603.2\n",
      "#46500 \t cost: 2256329.8\n",
      "#47000 \t cost: 2256057.8\n",
      "#47500 \t cost: 2255786.2\n",
      "#48000 \t cost: 2255515.0\n",
      "#48500 \t cost: 2255243.5\n",
      "#49000 \t cost: 2254972.5\n",
      "#49500 \t cost: 2254701.8\n",
      "#50000 \t cost: 2254431.0\n",
      "#50500 \t cost: 2254160.0\n",
      "#51000 \t cost: 2253890.0\n",
      "#51500 \t cost: 2253619.8\n",
      "#52000 \t cost: 2253349.5\n",
      "#52500 \t cost: 2253078.5\n",
      "#53000 \t cost: 2252808.5\n",
      "#53500 \t cost: 2252539.0\n",
      "#54000 \t cost: 2252269.0\n",
      "#54500 \t cost: 2252000.2\n",
      "#55000 \t cost: 2251731.5\n",
      "#55500 \t cost: 2251463.5\n",
      "#56000 \t cost: 2251195.8\n",
      "#56500 \t cost: 2250927.2\n",
      "#57000 \t cost: 2250659.2\n",
      "#57500 \t cost: 2250391.2\n",
      "#58000 \t cost: 2250123.5\n",
      "#58500 \t cost: 2249856.8\n",
      "#59000 \t cost: 2249590.0\n",
      "#59500 \t cost: 2249324.0\n",
      "#60000 \t cost: 2249058.0\n",
      "#60500 \t cost: 2248792.0\n",
      "#61000 \t cost: 2248525.5\n",
      "#61500 \t cost: 2248260.0\n",
      "#62000 \t cost: 2247994.5\n",
      "#62500 \t cost: 2247728.8\n",
      "#63000 \t cost: 2247463.0\n",
      "#63500 \t cost: 2247198.0\n",
      "#64000 \t cost: 2246932.5\n",
      "#64500 \t cost: 2246667.5\n",
      "#65000 \t cost: 2246402.0\n",
      "#65500 \t cost: 2246137.2\n",
      "#66000 \t cost: 2245872.2\n",
      "#66500 \t cost: 2245607.5\n",
      "#67000 \t cost: 2245342.8\n",
      "#67500 \t cost: 2245078.2\n",
      "#68000 \t cost: 2244813.5\n",
      "#68500 \t cost: 2244549.2\n",
      "#69000 \t cost: 2244285.5\n",
      "#69500 \t cost: 2244021.5\n",
      "#70000 \t cost: 2243757.5\n",
      "#70500 \t cost: 2243493.5\n",
      "#71000 \t cost: 2243230.0\n",
      "#71500 \t cost: 2242966.5\n",
      "#72000 \t cost: 2242702.8\n",
      "#72500 \t cost: 2242440.2\n",
      "#73000 \t cost: 2242178.2\n",
      "#73500 \t cost: 2241918.0\n",
      "#74000 \t cost: 2241657.5\n",
      "#74500 \t cost: 2241396.8\n",
      "#75000 \t cost: 2241135.8\n",
      "#75500 \t cost: 2240876.2\n",
      "#76000 \t cost: 2240615.8\n",
      "#76500 \t cost: 2240355.2\n",
      "#77000 \t cost: 2240095.8\n",
      "#77500 \t cost: 2239835.8\n",
      "#78000 \t cost: 2239576.0\n",
      "#78500 \t cost: 2239316.5\n",
      "#79000 \t cost: 2239057.2\n",
      "#79500 \t cost: 2238797.5\n",
      "#80000 \t cost: 2238538.0\n",
      "#80500 \t cost: 2238278.5\n",
      "#81000 \t cost: 2238019.8\n",
      "#81500 \t cost: 2237760.8\n",
      "#82000 \t cost: 2237501.2\n",
      "#82500 \t cost: 2237242.2\n",
      "#83000 \t cost: 2236984.5\n",
      "#83500 \t cost: 2236726.0\n",
      "#84000 \t cost: 2236466.8\n",
      "#84500 \t cost: 2236208.5\n",
      "#85000 \t cost: 2235950.5\n",
      "#85500 \t cost: 2235691.8\n",
      "#86000 \t cost: 2235433.8\n",
      "#86500 \t cost: 2235176.2\n",
      "#87000 \t cost: 2234917.8\n",
      "#87500 \t cost: 2234660.0\n",
      "#88000 \t cost: 2234402.5\n",
      "#88500 \t cost: 2234145.8\n",
      "#89000 \t cost: 2233888.0\n",
      "#89500 \t cost: 2233630.8\n",
      "#90000 \t cost: 2233374.8\n",
      "#90500 \t cost: 2233119.8\n",
      "#91000 \t cost: 2232865.2\n",
      "#91500 \t cost: 2232610.5\n",
      "#92000 \t cost: 2232357.0\n",
      "#92500 \t cost: 2232103.0\n",
      "#93000 \t cost: 2231848.8\n",
      "#93500 \t cost: 2231594.8\n",
      "#94000 \t cost: 2231341.0\n",
      "#94500 \t cost: 2231087.8\n",
      "#95000 \t cost: 2230833.5\n",
      "#95500 \t cost: 2230580.2\n",
      "#96000 \t cost: 2230327.2\n",
      "#96500 \t cost: 2230074.2\n",
      "#97000 \t cost: 2229821.2\n",
      "#97500 \t cost: 2229568.8\n",
      "#98000 \t cost: 2229315.8\n",
      "#98500 \t cost: 2229062.5\n",
      "#99000 \t cost: 2228810.2\n",
      "#99500 \t cost: 2228558.0\n",
      "#100000 \t cost: 2228305.8\n"
     ]
    }
   ],
   "source": [
    "# Weights\n",
    "tf.random.set_seed(2020)\n",
    "W = tf.Variable(tf.random.normal([4, 1], mean=0.0))\n",
    "b = tf.Variable(tf.random.normal([1], mean=0.0))\n",
    "\n",
    "# Learning Rate\n",
    "learning_rate = 0.000005\n",
    "\n",
    "# Hypothesis and Prediction Function\n",
    "def predict(X):\n",
    "    return tf.matmul(X, W) + b\n",
    "\n",
    "# Training\n",
    "for i in range(100000+1):\n",
    "\n",
    "    with tf.GradientTape() as tape:\n",
    "        cost = tf.reduce_mean(tf.square(predict(x_data) - y_data))\n",
    "        W_grad, b_grad = tape.gradient(cost, [W, b])\n",
    "\n",
    "    W.assign_sub(learning_rate * W_grad)\n",
    "    b.assign_sub(learning_rate * b_grad)\n",
    "\n",
    "    if i % 500 == 0:\n",
    "        print(\"#%s \\t cost: %s\" % (i, cost.numpy()))"
   ]
  },
  {
   "cell_type": "code",
   "execution_count": 107,
   "metadata": {},
   "outputs": [
    {
     "data": {
      "text/plain": [
       "<tf.Variable 'Variable:0' shape=(4, 1) dtype=float32, numpy=\n",
       "array([[ -35.976414],\n",
       "       [-180.30727 ],\n",
       "       [ 259.114   ],\n",
       "       [  39.170166]], dtype=float32)>"
      ]
     },
     "execution_count": 107,
     "metadata": {},
     "output_type": "execute_result"
    }
   ],
   "source": [
    "W"
   ]
  },
  {
   "cell_type": "code",
   "execution_count": 108,
   "metadata": {},
   "outputs": [
    {
     "data": {
      "text/plain": [
       "<tf.Variable 'Variable:0' shape=(1,) dtype=float32, numpy=array([191.46692], dtype=float32)>"
      ]
     },
     "execution_count": 108,
     "metadata": {},
     "output_type": "execute_result"
    }
   ],
   "source": [
    "b"
   ]
  },
  {
   "cell_type": "code",
   "execution_count": 131,
   "metadata": {},
   "outputs": [],
   "source": [
    "#predict model\n",
    "avg_temp = float(2.0)\n",
    "min_temp = float(-2.1)\n",
    "max_temp = float(5.8)\n",
    "rain_fall = float(0.4)"
   ]
  },
  {
   "cell_type": "code",
   "execution_count": 132,
   "metadata": {},
   "outputs": [],
   "source": [
    "data = np.array(([[avg_temp,min_temp,max_temp,rain_fall]]), dtype=np.float32)"
   ]
  },
  {
   "cell_type": "code",
   "execution_count": 133,
   "metadata": {},
   "outputs": [
    {
     "data": {
      "text/plain": [
       "array([[ 2. , -2.1,  5.8,  0.4]], dtype=float32)"
      ]
     },
     "execution_count": 133,
     "metadata": {},
     "output_type": "execute_result"
    }
   ],
   "source": [
    "data"
   ]
  },
  {
   "cell_type": "code",
   "execution_count": 134,
   "metadata": {},
   "outputs": [
    {
     "data": {
      "text/plain": [
       "array([[2016.6887]], dtype=float32)"
      ]
     },
     "execution_count": 134,
     "metadata": {},
     "output_type": "execute_result"
    }
   ],
   "source": [
    "predict(data).numpy()"
   ]
  },
  {
   "cell_type": "code",
   "execution_count": null,
   "metadata": {},
   "outputs": [],
   "source": []
  }
 ],
 "metadata": {
  "kernelspec": {
   "display_name": "Python 3",
   "language": "python",
   "name": "python3"
  },
  "language_info": {
   "codemirror_mode": {
    "name": "ipython",
    "version": 3
   },
   "file_extension": ".py",
   "mimetype": "text/x-python",
   "name": "python",
   "nbconvert_exporter": "python",
   "pygments_lexer": "ipython3",
   "version": "3.7.4"
  }
 },
 "nbformat": 4,
 "nbformat_minor": 2
}
