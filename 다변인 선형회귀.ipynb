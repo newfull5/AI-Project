{
 "cells": [
  {
   "cell_type": "code",
   "execution_count": 152,
   "metadata": {},
   "outputs": [],
   "source": [
    "from __future__ import absolute_import, division, print_function"
   ]
  },
  {
   "cell_type": "code",
   "execution_count": 153,
   "metadata": {},
   "outputs": [],
   "source": [
    "import tensorflow as tf\n",
    "import numpy as np\n",
    "rng = np.random"
   ]
  },
  {
   "cell_type": "code",
   "execution_count": 154,
   "metadata": {},
   "outputs": [],
   "source": [
    "# Parameters.\n",
    "learning_rate = 0.01\n",
    "training_steps = 1000\n",
    "display_step = 50"
   ]
  },
  {
   "cell_type": "code",
   "execution_count": 155,
   "metadata": {},
   "outputs": [],
   "source": [
    "# Training Data.\n",
    "X = np.array(tf.random.normal([1000]))\n",
    "Y = np.array(tf.random.normal([1000]))\n",
    "n_samples = X.shape[0]"
   ]
  },
  {
   "cell_type": "code",
   "execution_count": 156,
   "metadata": {},
   "outputs": [],
   "source": [
    "# Weight and Bias, initialized randomly.\n",
    "W = tf.Variable(rng.randn(), name=\"weight\")\n",
    "b = tf.Variable(rng.randn(), name=\"bias\")\n",
    "\n",
    "# Linear regression (Wx + b).\n",
    "def linear_regression(x):\n",
    "    return W * x + b\n",
    "\n",
    "# Mean square error.\n",
    "def mean_square(y_pred, y_true):\n",
    "    return tf.reduce_sum(tf.pow(y_pred-y_true, 2)) / (2 * n_samples)\n",
    "\n",
    "# Stochastic Gradient Descent Optimizer.\n",
    "optimizer = tf.optimizers.SGD(learning_rate)"
   ]
  },
  {
   "cell_type": "code",
   "execution_count": 157,
   "metadata": {},
   "outputs": [],
   "source": [
    "# Optimization process. \n",
    "def run_optimization():\n",
    "    # Wrap computation inside a GradientTape for automatic differentiation.\n",
    "    with tf.GradientTape() as g:\n",
    "        pred = linear_regression(X)\n",
    "        loss = mean_square(pred, Y)\n",
    "\n",
    "    # Compute gradients.\n",
    "    gradients = g.gradient(loss, [W, b])\n",
    "    \n",
    "    # Update W and b following gradients.\n",
    "    optimizer.apply_gradients(zip(gradients, [W, b]))"
   ]
  },
  {
   "cell_type": "code",
   "execution_count": 158,
   "metadata": {},
   "outputs": [
    {
     "name": "stdout",
     "output_type": "stream",
     "text": [
      "step: 50, loss: 1.211149, W: -1.084450, b: 0.669914\n",
      "step: 100, loss: 0.794803, W: -0.690367, b: 0.446027\n",
      "step: 150, loss: 0.631176, W: -0.442908, b: 0.306390\n",
      "step: 200, loss: 0.566867, W: -0.287529, b: 0.219282\n",
      "step: 250, loss: 0.541592, W: -0.189973, b: 0.164932\n",
      "step: 300, loss: 0.531657, W: -0.128726, b: 0.131014\n",
      "step: 350, loss: 0.527753, W: -0.090275, b: 0.109844\n",
      "step: 400, loss: 0.526218, W: -0.066138, b: 0.096628\n",
      "step: 450, loss: 0.525615, W: -0.050987, b: 0.088375\n",
      "step: 500, loss: 0.525377, W: -0.041476, b: 0.083222\n",
      "step: 550, loss: 0.525284, W: -0.035507, b: 0.080003\n",
      "step: 600, loss: 0.525248, W: -0.031760, b: 0.077992\n",
      "step: 650, loss: 0.525233, W: -0.029409, b: 0.076736\n",
      "step: 700, loss: 0.525228, W: -0.027934, b: 0.075951\n",
      "step: 750, loss: 0.525225, W: -0.027007, b: 0.075461\n",
      "step: 800, loss: 0.525224, W: -0.026426, b: 0.075154\n",
      "step: 850, loss: 0.525224, W: -0.026062, b: 0.074962\n",
      "step: 900, loss: 0.525224, W: -0.025833, b: 0.074842\n",
      "step: 950, loss: 0.525224, W: -0.025689, b: 0.074768\n",
      "step: 1000, loss: 0.525224, W: -0.025599, b: 0.074721\n"
     ]
    }
   ],
   "source": [
    "# Run training for the given number of steps.\n",
    "for step in range(1, training_steps + 1):\n",
    "    # Run the optimization to update W and b values.\n",
    "    run_optimization()\n",
    "    \n",
    "    if step % display_step == 0:\n",
    "        pred = linear_regression(X)\n",
    "        loss = mean_square(pred, Y)\n",
    "        print(\"step: %i, loss: %f, W: %f, b: %f\" % (step, loss, W.numpy(), b.numpy()))"
   ]
  },
  {
   "cell_type": "code",
   "execution_count": null,
   "metadata": {},
   "outputs": [],
   "source": []
  }
 ],
 "metadata": {
  "kernelspec": {
   "display_name": "Python 3",
   "language": "python",
   "name": "python3"
  },
  "language_info": {
   "codemirror_mode": {
    "name": "ipython",
    "version": 3
   },
   "file_extension": ".py",
   "mimetype": "text/x-python",
   "name": "python",
   "nbconvert_exporter": "python",
   "pygments_lexer": "ipython3",
   "version": "3.7.4"
  }
 },
 "nbformat": 4,
 "nbformat_minor": 2
}
