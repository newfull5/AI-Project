{
 "cells": [
  {
   "cell_type": "code",
   "execution_count": 1,
   "metadata": {},
   "outputs": [
    {
     "name": "stdout",
     "output_type": "stream",
     "text": [
      "TensorFlow Version: 2.0.0\n"
     ]
    }
   ],
   "source": [
    "import numpy as np\n",
    "import tensorflow as tf\n",
    "print(\"TensorFlow Version: %s\" % tf.__version__)"
   ]
  },
  {
   "cell_type": "code",
   "execution_count": 3,
   "metadata": {},
   "outputs": [
    {
     "name": "stdout",
     "output_type": "stream",
     "text": [
      "#0 \t cost: 19095.684\n",
      "#200 \t cost: 5163.9473\n",
      "#400 \t cost: 1452.9823\n",
      "#600 \t cost: 464.43408\n",
      "#800 \t cost: 201.04555\n",
      "#1000 \t cost: 130.81319\n",
      "#1200 \t cost: 112.03182\n",
      "#1400 \t cost: 106.95497\n",
      "#1600 \t cost: 105.52873\n",
      "#1800 \t cost: 105.07515\n",
      "#2000 \t cost: 104.88092\n"
     ]
    }
   ],
   "source": [
    "# Data\n",
    "x1 = [80., 65., 35., 78., 95.]\n",
    "x2 = [75., 55., 55., 85., 90.]\n",
    "x3 = [90., 60., 45., 80., 94.]\n",
    "y  = [85., 70., 60., 78., 98.]\n",
    "\n",
    "# Weights\n",
    "tf.random.set_seed(2020)\n",
    "w1 = tf.Variable(tf.random.normal([1], mean=0.0))\n",
    "w2 = tf.Variable(tf.random.normal([1], mean=0.0))\n",
    "w3 = tf.Variable(tf.random.normal([1], mean=0.0))\n",
    "b  = tf.Variable(tf.random.normal([1], mean=0.0))\n",
    "\n",
    "# Learning Rate\n",
    "learning_rate = 0.0000001\n",
    "\n",
    "# Training\n",
    "for i in range(2000+1):\n",
    "\n",
    "    with tf.GradientTape() as tape:\n",
    "        hypothesis = w1*x1 + w2*x2 + w3*x3 + b\n",
    "        cost = tf.reduce_mean(tf.square(hypothesis - y))\n",
    "        w1_grad, w2_grad, w3_grad, b_grad = tape.gradient(cost, [w1, w2, w3, b])\n",
    "\n",
    "    w1.assign_sub(learning_rate * w1_grad)\n",
    "    w2.assign_sub(learning_rate * w2_grad)\n",
    "    w3.assign_sub(learning_rate * w3_grad)\n",
    "    b.assign_sub(learning_rate * b_grad)\n",
    "\n",
    "    if i % 200 == 0:\n",
    "        print(\"#%s \\t cost: %s\" % (i, cost.numpy()))"
   ]
  },
  {
   "cell_type": "code",
   "execution_count": 3,
   "metadata": {},
   "outputs": [],
   "source": [
    "# Data\n",
    "data = np.array([\n",
    "\n",
    "    [80., 75., 90., 85.],\n",
    "    [65., 55., 60., 70.],\n",
    "    [35., 55., 45., 60.],\n",
    "    [78., 85., 80., 78.],\n",
    "    [95., 90., 94., 98.]\n",
    "], dtype = np.float32)\n",
    "\n",
    "# Slice Data\n",
    "X = data[:, :-1]\n",
    "Y = data[:, [-1]]"
   ]
  },
  {
   "cell_type": "code",
   "execution_count": 4,
   "metadata": {},
   "outputs": [
    {
     "name": "stdout",
     "output_type": "stream",
     "text": [
      "#0 \t cost: 7769.522\n",
      "#200 \t cost: 2113.2505\n",
      "#400 \t cost: 606.6113\n",
      "#600 \t cost: 205.28519\n",
      "#800 \t cost: 98.37294\n",
      "#1000 \t cost: 69.88261\n",
      "#1200 \t cost: 62.28067\n",
      "#1400 \t cost: 60.242626\n",
      "#1600 \t cost: 59.686646\n",
      "#1800 \t cost: 59.525444\n",
      "#2000 \t cost: 59.46943\n"
     ]
    }
   ],
   "source": [
    "# Weights\n",
    "tf.random.set_seed(2020)\n",
    "W = tf.Variable(tf.random.normal([3, 1], mean=0.0))\n",
    "b = tf.Variable(tf.random.normal([1], mean=0.0))\n",
    "\n",
    "# Learning Rate\n",
    "learning_rate = 0.0000001\n",
    "\n",
    "# Hypothesis and Prediction Function\n",
    "def predict(X):\n",
    "    return tf.matmul(X, W) + b\n",
    "\n",
    "# Training\n",
    "for i in range(2000+1):\n",
    "\n",
    "    with tf.GradientTape() as tape:\n",
    "        cost = tf.reduce_mean(tf.square(predict(X) - Y))\n",
    "        W_grad, b_grad = tape.gradient(cost, [W, b])\n",
    "\n",
    "    W.assign_sub(learning_rate * W_grad)\n",
    "    b.assign_sub(learning_rate * b_grad)\n",
    "\n",
    "    if i % 200 == 0:\n",
    "        print(\"#%s \\t cost: %s\" % (i, cost.numpy()))"
   ]
  },
  {
   "cell_type": "code",
   "execution_count": null,
   "metadata": {},
   "outputs": [],
   "source": []
  }
 ],
 "metadata": {
  "kernelspec": {
   "display_name": "Python 3",
   "language": "python",
   "name": "python3"
  }
 },
 "nbformat": 4,
 "nbformat_minor": 2
}
